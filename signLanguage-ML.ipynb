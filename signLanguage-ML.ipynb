{
 "cells": [
  {
   "cell_type": "code",
   "execution_count": 2,
   "metadata": {},
   "outputs": [
    {
     "name": "stderr",
     "output_type": "stream",
     "text": [
      "Using TensorFlow backend.\n",
      "/Users/nikoladimic/opt/anaconda3/envs/ML/lib/python3.7/site-packages/tensorflow/python/framework/dtypes.py:516: FutureWarning: Passing (type, 1) or '1type' as a synonym of type is deprecated; in a future version of numpy, it will be understood as (type, (1,)) / '(1,)type'.\n",
      "  _np_qint8 = np.dtype([(\"qint8\", np.int8, 1)])\n",
      "/Users/nikoladimic/opt/anaconda3/envs/ML/lib/python3.7/site-packages/tensorflow/python/framework/dtypes.py:517: FutureWarning: Passing (type, 1) or '1type' as a synonym of type is deprecated; in a future version of numpy, it will be understood as (type, (1,)) / '(1,)type'.\n",
      "  _np_quint8 = np.dtype([(\"quint8\", np.uint8, 1)])\n",
      "/Users/nikoladimic/opt/anaconda3/envs/ML/lib/python3.7/site-packages/tensorflow/python/framework/dtypes.py:518: FutureWarning: Passing (type, 1) or '1type' as a synonym of type is deprecated; in a future version of numpy, it will be understood as (type, (1,)) / '(1,)type'.\n",
      "  _np_qint16 = np.dtype([(\"qint16\", np.int16, 1)])\n",
      "/Users/nikoladimic/opt/anaconda3/envs/ML/lib/python3.7/site-packages/tensorflow/python/framework/dtypes.py:519: FutureWarning: Passing (type, 1) or '1type' as a synonym of type is deprecated; in a future version of numpy, it will be understood as (type, (1,)) / '(1,)type'.\n",
      "  _np_quint16 = np.dtype([(\"quint16\", np.uint16, 1)])\n",
      "/Users/nikoladimic/opt/anaconda3/envs/ML/lib/python3.7/site-packages/tensorflow/python/framework/dtypes.py:520: FutureWarning: Passing (type, 1) or '1type' as a synonym of type is deprecated; in a future version of numpy, it will be understood as (type, (1,)) / '(1,)type'.\n",
      "  _np_qint32 = np.dtype([(\"qint32\", np.int32, 1)])\n",
      "/Users/nikoladimic/opt/anaconda3/envs/ML/lib/python3.7/site-packages/tensorflow/python/framework/dtypes.py:525: FutureWarning: Passing (type, 1) or '1type' as a synonym of type is deprecated; in a future version of numpy, it will be understood as (type, (1,)) / '(1,)type'.\n",
      "  np_resource = np.dtype([(\"resource\", np.ubyte, 1)])\n",
      "/Users/nikoladimic/opt/anaconda3/envs/ML/lib/python3.7/site-packages/tensorboard/compat/tensorflow_stub/dtypes.py:541: FutureWarning: Passing (type, 1) or '1type' as a synonym of type is deprecated; in a future version of numpy, it will be understood as (type, (1,)) / '(1,)type'.\n",
      "  _np_qint8 = np.dtype([(\"qint8\", np.int8, 1)])\n",
      "/Users/nikoladimic/opt/anaconda3/envs/ML/lib/python3.7/site-packages/tensorboard/compat/tensorflow_stub/dtypes.py:542: FutureWarning: Passing (type, 1) or '1type' as a synonym of type is deprecated; in a future version of numpy, it will be understood as (type, (1,)) / '(1,)type'.\n",
      "  _np_quint8 = np.dtype([(\"quint8\", np.uint8, 1)])\n",
      "/Users/nikoladimic/opt/anaconda3/envs/ML/lib/python3.7/site-packages/tensorboard/compat/tensorflow_stub/dtypes.py:543: FutureWarning: Passing (type, 1) or '1type' as a synonym of type is deprecated; in a future version of numpy, it will be understood as (type, (1,)) / '(1,)type'.\n",
      "  _np_qint16 = np.dtype([(\"qint16\", np.int16, 1)])\n",
      "/Users/nikoladimic/opt/anaconda3/envs/ML/lib/python3.7/site-packages/tensorboard/compat/tensorflow_stub/dtypes.py:544: FutureWarning: Passing (type, 1) or '1type' as a synonym of type is deprecated; in a future version of numpy, it will be understood as (type, (1,)) / '(1,)type'.\n",
      "  _np_quint16 = np.dtype([(\"quint16\", np.uint16, 1)])\n",
      "/Users/nikoladimic/opt/anaconda3/envs/ML/lib/python3.7/site-packages/tensorboard/compat/tensorflow_stub/dtypes.py:545: FutureWarning: Passing (type, 1) or '1type' as a synonym of type is deprecated; in a future version of numpy, it will be understood as (type, (1,)) / '(1,)type'.\n",
      "  _np_qint32 = np.dtype([(\"qint32\", np.int32, 1)])\n",
      "/Users/nikoladimic/opt/anaconda3/envs/ML/lib/python3.7/site-packages/tensorboard/compat/tensorflow_stub/dtypes.py:550: FutureWarning: Passing (type, 1) or '1type' as a synonym of type is deprecated; in a future version of numpy, it will be understood as (type, (1,)) / '(1,)type'.\n",
      "  np_resource = np.dtype([(\"resource\", np.ubyte, 1)])\n"
     ]
    }
   ],
   "source": [
    "import os\n",
    "import matplotlib.pyplot as plt\n",
    "import cv2\n",
    "import numpy as np\n",
    "from skimage.transform import resize\n",
    "from tqdm import tqdm\n",
    "from keras.utils.np_utils import to_categorical\n",
    "from sklearn.model_selection import train_test_split\n"
   ]
  },
  {
   "cell_type": "code",
   "execution_count": 31,
   "metadata": {
    "scrolled": true
   },
   "outputs": [],
   "source": [
    "# Input test and train data\n",
    "\n",
    "trainFolder = \"../input/asl-alphabet/asl_alphabet_train/\"\n",
    "testFolder =  \"../input/asl-alphabet/asl_alphabet_test/\"\n",
    "\n",
    "# Converst letter to number\n",
    "def letterToNumber(letter):\n",
    "    if(len(letter) == 1):\n",
    "        letterNum = ord(letter.lower()) - 97\n",
    "    elif(letter == 'del'):\n",
    "        letterNum = 26\n",
    "    elif(letter == 'nothing'):\n",
    "        letterNum = 27\n",
    "    elif(letter == 'space'):\n",
    "        letterNum = 28\n",
    "    else:\n",
    "        letterNum = 29\n",
    "    return letterNum\n",
    "    \n",
    "# Normalizes the image file and resizes it\n",
    "def processImageFile(imageFile):\n",
    "    # When the picture is downsized - anti_aliasing is suggested\n",
    "    resizedImage = resize(imageFile, (50, 50, 3), anti_aliasing=True)\n",
    "    return np.asarray(resizedImage)\n",
    "\n",
    "# Extracts the data\n",
    "def extractData(file, color = 1):\n",
    "    X = []\n",
    "    y = []\n",
    "    for folderName in os.listdir(file):\n",
    "        classLetter = folderName\n",
    "        classNum = letterToNumber(classLetter)\n",
    "        fullFolderName = file+folderName\n",
    "        listOfImages = os.listdir(fullFolderName)\n",
    "        for imageName in tqdm(listOfImages):\n",
    "            fullImageName = fullFolderName + \"/\" + imageName\n",
    "            imageFile = cv2.imread(fullImageName, color)\n",
    "            resizedImage = processImageFile(imageFile)            \n",
    "            X.append(resizedImage)\n",
    "            y.append(classNum)\n",
    "    X = np.asarray(X)\n",
    "    y = np.asarray(y)\n",
    "    return X,y"
   ]
  },
  {
   "cell_type": "code",
   "execution_count": 32,
   "metadata": {},
   "outputs": [
    {
     "name": "stderr",
     "output_type": "stream",
     "text": [
      "100%|██████████| 3000/3000 [00:23<00:00, 125.85it/s]\n",
      "100%|██████████| 3000/3000 [00:27<00:00, 111.08it/s]\n",
      "100%|██████████| 3000/3000 [00:26<00:00, 111.35it/s]\n",
      "100%|██████████| 3000/3000 [00:27<00:00, 109.38it/s]\n",
      "100%|██████████| 3000/3000 [00:26<00:00, 111.42it/s]\n",
      "100%|██████████| 3000/3000 [00:29<00:00, 100.42it/s]\n",
      "100%|██████████| 3000/3000 [00:27<00:00, 110.52it/s]\n",
      "100%|██████████| 3000/3000 [00:29<00:00, 101.31it/s]\n",
      "100%|██████████| 3000/3000 [00:26<00:00, 112.40it/s]\n",
      "100%|██████████| 3000/3000 [00:31<00:00, 94.20it/s] \n",
      "100%|██████████| 3000/3000 [00:31<00:00, 94.43it/s] \n",
      "100%|██████████| 3000/3000 [00:28<00:00, 106.70it/s]\n",
      "100%|██████████| 3000/3000 [00:30<00:00, 98.95it/s] \n",
      "100%|██████████| 3000/3000 [00:27<00:00, 109.08it/s]\n",
      "100%|██████████| 3000/3000 [00:27<00:00, 109.14it/s]\n",
      "100%|██████████| 3000/3000 [00:26<00:00, 113.45it/s]\n",
      "100%|██████████| 3000/3000 [00:25<00:00, 117.09it/s]\n",
      "100%|██████████| 3000/3000 [00:28<00:00, 106.22it/s]\n",
      "100%|██████████| 3000/3000 [00:32<00:00, 91.79it/s] \n",
      "100%|██████████| 3000/3000 [00:28<00:00, 103.57it/s]\n",
      "100%|██████████| 3000/3000 [00:32<00:00, 93.31it/s] \n",
      "100%|██████████| 3000/3000 [00:29<00:00, 101.14it/s]\n",
      "100%|██████████| 3000/3000 [00:26<00:00, 111.77it/s]\n",
      "100%|██████████| 3000/3000 [00:28<00:00, 103.97it/s]\n",
      "100%|██████████| 3000/3000 [00:30<00:00, 98.74it/s] \n",
      "100%|██████████| 3000/3000 [00:33<00:00, 88.29it/s] \n",
      "100%|██████████| 3000/3000 [00:30<00:00, 97.70it/s] \n",
      "100%|██████████| 3000/3000 [00:27<00:00, 108.88it/s]\n",
      "100%|██████████| 3000/3000 [00:27<00:00, 108.19it/s]\n"
     ]
    }
   ],
   "source": [
    "# Extract the data\n",
    "X, y = extractData(trainFolder)"
   ]
  },
  {
   "cell_type": "code",
   "execution_count": 34,
   "metadata": {},
   "outputs": [
    {
     "name": "stdout",
     "output_type": "stream",
     "text": [
      "XData saved\n",
      "yData saved\n"
     ]
    }
   ],
   "source": [
    "np.save(\"../data/XData\", X)\n",
    "print(\"XData saved\")\n",
    "np.save(\"../data/yData\", y)\n",
    "print(\"yData saved\")"
   ]
  },
  {
   "cell_type": "code",
   "execution_count": 40,
   "metadata": {},
   "outputs": [
    {
     "data": {
      "image/png": "[encoded data removed]",
      "text/plain": [
       "<Figure size 432x288 with 1 Axes>"
      ]
     },
     "metadata": {
      "needs_background": "light"
     },
     "output_type": "display_data"
    }
   ],
   "source": [
    "testImage = cv2.imread(\"../input/asl-alphabet/asl_alphabet_train/A/A1.jpg\")\n",
    "resizedTestImage = processImageFile(t1)\n",
    "plt.imshow(resizedTestImage, cmap='gray')\n",
    "plt.show()"
   ]
  },
  {
   "cell_type": "code",
   "execution_count": 43,
   "metadata": {},
   "outputs": [],
   "source": [
    "X = np.load('../data/XData.npy')\n",
    "y = np.load('../data/yData.npy')"
   ]
  },
  {
   "cell_type": "code",
   "execution_count": 45,
   "metadata": {},
   "outputs": [
    {
     "name": "stdout",
     "output_type": "stream",
     "text": [
      "(87000, 50, 50, 3)\n",
      "(87000,)\n",
      "[17 17 17 ... 22 22 22]\n"
     ]
    }
   ],
   "source": [
    "print(X.shape)\n",
    "print(y.shape)"
   ]
  },
  {
   "cell_type": "code",
   "execution_count": 46,
   "metadata": {},
   "outputs": [],
   "source": [
    "# One hot coding of target variable\n",
    "\n",
    "numOfClasses = 30\n",
    "y = to_categorical(y, numOfClasses)"
   ]
  },
  {
   "cell_type": "code",
   "execution_count": 48,
   "metadata": {},
   "outputs": [],
   "source": [
    "# Splitting data into train and test datasets\n",
    "\n",
    "X_train, X_test, y_train, y_test = train_test_split(X, y, test_size=0.33, stratify=y)"
   ]
  },
  {
   "cell_type": "code",
   "execution_count": 49,
   "metadata": {},
   "outputs": [
    {
     "name": "stdout",
     "output_type": "stream",
     "text": [
      "X saved\n",
      "Y saved\n"
     ]
    }
   ],
   "source": [
    "np.save(\"../data/Xtrain\", X_train)\n",
    "np.save(\"../data/Xtest\", X_test)\n",
    "print(\"X saved\")\n",
    "np.save(\"../data/Ytrain\", y_train)\n",
    "np.save(\"../data/Ytest\", y_test)\n",
    "print(\"Y saved\")"
   ]
  },
  {
   "cell_type": "code",
   "execution_count": 3,
   "metadata": {},
   "outputs": [
    {
     "name": "stdout",
     "output_type": "stream",
     "text": [
      "X loaded\n",
      "Y loaded\n"
     ]
    }
   ],
   "source": [
    "X_train = np.load(\"../data/Xtrain.npy\")\n",
    "X_test = np.load(\"../data/Xtest.npy\")\n",
    "print(\"X loaded\")\n",
    "y_train = np.load(\"../data/Ytrain.npy\")\n",
    "y_test = np.load(\"../data/Ytest.npy\")\n",
    "print(\"Y loaded\")"
   ]
  },
  {
   "cell_type": "code",
   "execution_count": 5,
   "metadata": {},
   "outputs": [
    {
     "name": "stdout",
     "output_type": "stream",
     "text": [
      "(58290, 50, 50, 3)\n",
      "(28710, 50, 50, 3)\n",
      "(58290, 30)\n",
      "(28710, 30)\n"
     ]
    }
   ],
   "source": [
    "print(X_train.shape)\n",
    "print(X_test.shape)\n",
    "print(y_train.shape)\n",
    "print(y_test.shape)"
   ]
  },
  {
   "cell_type": "code",
   "execution_count": null,
   "metadata": {},
   "outputs": [],
   "source": []
  }
 ],
 "metadata": {
  "kernelspec": {
   "display_name": "Python 3",
   "language": "python",
   "name": "python3"
  },
  "language_info": {
   "codemirror_mode": {
    "name": "ipython",
    "version": 3
   },
   "file_extension": ".py",
   "mimetype": "text/x-python",
   "name": "python",
   "nbconvert_exporter": "python",
   "pygments_lexer": "ipython3",
   "version": "3.7.7"
  }
 },
 "nbformat": 4,
 "nbformat_minor": 4
}
