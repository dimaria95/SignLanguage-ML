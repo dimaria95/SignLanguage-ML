{
  "nbformat": 4,
  "nbformat_minor": 0,
  "metadata": {
    "colab": {
      "name": "signLanguage-ML",
      "provenance": [],
      "collapsed_sections": []
    },
    "kernelspec": {
      "name": "python3",
      "display_name": "Python 3"
    },
    "accelerator": "GPU"
  },
  "cells": [
    {
      "cell_type": "markdown",
      "metadata": {
        "id": "MpKHh-cVhDVr",
        "colab_type": "text"
      },
      "source": [
        "*Sign Language - Machine Learning*\n",
        "\n",
        "---\n",
        "\n",
        "Seminarski rad u sklopu kursa Mašinsko učenje - Matematički fakultet, Univerzitet u Beogradu\n",
        "\n",
        "**Autori**  \n",
        "Nikola Dimić i Zorana Gajić"
      ]
    },
    {
      "cell_type": "markdown",
      "metadata": {
        "id": "js3s3xGNh1yA",
        "colab_type": "text"
      },
      "source": [
        "**Opis projekta**  \n",
        " Cilj ovog projekta jeste da se konstruiše model za klasifikaciju slika znakovnog jezika kako bismo olakšali njegovo učenje i razumevanje.\n",
        "\n",
        "**Baza podataka**  \n",
        "Baza podataka sadrži 3000 slika za svako slovo. Znakovi su slikani iz različitih uglova i pod različitim osvetljenjem, kako bi se dobio što precizniji model. Link do baze je [ovde](https://www.kaggle.com/paultimothymooney/interpret-sign-language-with-deep-learning/data).\n",
        "\n"
      ]
    },
    {
      "cell_type": "code",
      "metadata": {
        "id": "kHB-Uc_g7rb0",
        "colab_type": "code",
        "colab": {
          "base_uri": "https://localhost:8080/",
          "height": 122
        },
        "outputId": "7121065a-97fa-494c-80ad-bfd03b67c0d7"
      },
      "source": [
        "from google.colab import drive\n",
        "drive.mount(\"/content/drive\")"
      ],
      "execution_count": 1,
      "outputs": [
        {
          "output_type": "stream",
          "text": [
            "Go to this URL in a browser: https://accounts.google.com/o/oauth2/auth?client_id=947318989803-6bn6qk8qdgf4n4g3pfee6491hc0brc4i.apps.googleusercontent.com&redirect_uri=urn%3aietf%3awg%3aoauth%3a2.0%3aoob&scope=email%20https%3a%2f%2fwww.googleapis.com%2fauth%2fdocs.test%20https%3a%2f%2fwww.googleapis.com%2fauth%2fdrive%20https%3a%2f%2fwww.googleapis.com%2fauth%2fdrive.photos.readonly%20https%3a%2f%2fwww.googleapis.com%2fauth%2fpeopleapi.readonly&response_type=code\n",
            "\n",
            "Enter your authorization code:\n",
            "··········\n",
            "Mounted at /content/drive\n"
          ],
          "name": "stdout"
        }
      ]
    },
    {
      "cell_type": "code",
      "metadata": {
        "id": "7vDl7rhO7_kO",
        "colab_type": "code",
        "colab": {
          "base_uri": "https://localhost:8080/",
          "height": 34
        },
        "outputId": "6b2292b9-5341-4407-abf5-3d3050873a5f"
      },
      "source": [
        "!ls"
      ],
      "execution_count": 2,
      "outputs": [
        {
          "output_type": "stream",
          "text": [
            "drive  sample_data\n"
          ],
          "name": "stdout"
        }
      ]
    },
    {
      "cell_type": "code",
      "metadata": {
        "id": "omEX0XVW8akk",
        "colab_type": "code",
        "colab": {}
      },
      "source": [
        "!unzip drive/My\\ Drive/input.zip -d data"
      ],
      "execution_count": null,
      "outputs": []
    },
    {
      "cell_type": "markdown",
      "metadata": {
        "id": "vbFXsceqj_fy",
        "colab_type": "text"
      },
      "source": [
        "**Neophodne biblioteke**"
      ]
    },
    {
      "cell_type": "code",
      "metadata": {
        "id": "jkHECs2HhCJi",
        "colab_type": "code",
        "colab": {}
      },
      "source": [
        "import os\n",
        "import matplotlib.pyplot as plt\n",
        "import cv2\n",
        "import numpy as np\n",
        "from skimage.transform import resize\n",
        "from sklearn.model_selection import train_test_split\n",
        "from tqdm import tqdm\n",
        "\n",
        "import random\n",
        "\n",
        "from keras.utils.np_utils import to_categorical\n",
        "from keras.models import Sequential\n",
        "from keras.layers import Dense, Dropout, Flatten, Activation\n",
        "from keras.layers.normalization import BatchNormalization\n",
        "from keras.layers import Conv2D, MaxPooling2D\n",
        "from keras import optimizers\n",
        "from keras import utils\n",
        "\n",
        "\n",
        "from sklearn.metrics import classification_report, confusion_matrix, plot_confusion_matrix"
      ],
      "execution_count": 89,
      "outputs": []
    },
    {
      "cell_type": "markdown",
      "metadata": {
        "id": "TqqxzbXXFQdw",
        "colab_type": "text"
      },
      "source": [
        "**Pretprocesiranje slika**\n",
        "\n",
        "Slike znakovnog jezika nalaze se u datotekama razvrstane po slovima. Prilikom učitavanja svake od datoteka, slika je obrađena u skladu sa potrebama mreže koja se trenira. Tako je svaka slika smanjena ili povećana u skladu sa odgovarajućim dimenzijama. Svakoj slici dodeljena je klasa u skladu sa datotekom u kojoj se nalaze, s tim što su klase konvertovane iz slovnog u brojevni zapis pa tako su slova *A,B...Z* redom označena rednim brojevima slova u abecedi (*0,1..25*), dok su specijalni karakteri *del*, *nothing* i *space* označeni brojevima *26,27,28* respektivno. Nakon obrade slika i pridruživanja klasa, ispisane su specifikacije skupa podataka, kao i dimenzije matrica kojima su opisane slike. "
      ]
    },
    {
      "cell_type": "code",
      "metadata": {
        "id": "P5pniroKf12g",
        "colab_type": "code",
        "colab": {}
      },
      "source": [
        "def letterToNumber(letter):\n",
        "    if(len(letter) == 1):\n",
        "        letterNum = ord(letter.lower()) - 97\n",
        "    elif(letter == 'del'):\n",
        "        letterNum = 26\n",
        "    elif(letter == 'nothing'):\n",
        "        letterNum = 27\n",
        "    elif(letter == 'space'):\n",
        "        letterNum = 28\n",
        "    else:\n",
        "        letterNum = 29\n",
        "    return letterNum\n",
        "\n",
        "def proccessImage(imageFile, size=(200,200), color = True):\n",
        "    color = 3 if color else 1\n",
        "    resizedImage = resize(imageFile, (size[0], size[1], color), anti_aliasing=True)\n",
        "    return np.asarray(resizedImage)\n",
        "\n",
        "def resizeData(X, size=(200,200), color = True):\n",
        "    Xnew = map(lambda img: proccessImage(img,size,color), X)\n",
        "    return list(Xnew)\n",
        "\n",
        "def logData(imageColor, imageSize, imagesPerLetter, item):\n",
        "    print(\"Extracted data with the following specifications:\")\n",
        "    print(\"--------------------------------------------------\")\n",
        "    print(\"color: \" + str(imageColor))\n",
        "    print(\"size: \" + str(imageSize))\n",
        "    print(\"images per letter: \" + str(imagesPerLetter))\n",
        "    print(\"output shape: \" + str(item.shape))\n",
        "\n",
        "def exctractDataFromFiles(file, imageColor = True, imageSize = (200,200), imagesPerLetter='all'):\n",
        "    color = 1 if imageColor else 0\n",
        "    X = []\n",
        "    y = []\n",
        "    for folderName in os.listdir(file):\n",
        "        if not folderName.startswith('.'):\n",
        "            classLetter = folderName\n",
        "            classNum = letterToNumber(classLetter)\n",
        "            fullFolderName = file+folderName\n",
        "            listOfImages = os.listdir(fullFolderName)\n",
        "            random.shuffle(listOfImages)\n",
        "            numOfImages = len(listOfImages) if imagesPerLetter == 'all' else imagesPerLetter\n",
        "            \n",
        "            for imageName in tqdm(listOfImages[0:numOfImages]):\n",
        "                fullImageName = fullFolderName + \"/\" + imageName\n",
        "                imageFile = cv2.imread(fullImageName, color)\n",
        "                resizedImage = proccessImage(imageFile, imageSize, color)   \n",
        "                X.append(resizedImage)\n",
        "                y.append(classNum)\n",
        "    X = np.asarray(X)\n",
        "    y = np.asarray(y)\n",
        "    logData(imageColor, imageSize, imagesPerLetter, X[0])\n",
        "    return X,y\n"
      ],
      "execution_count": 21,
      "outputs": []
    },
    {
      "cell_type": "code",
      "metadata": {
        "id": "w80zMr6-9voM",
        "colab_type": "code",
        "colab": {
          "base_uri": "https://localhost:8080/",
          "height": 34
        },
        "outputId": "64c22ccf-1223-440a-aafb-b7f038079ca7"
      },
      "source": [
        "!ls"
      ],
      "execution_count": 22,
      "outputs": [
        {
          "output_type": "stream",
          "text": [
            "data  drive  sample_data\n"
          ],
          "name": "stdout"
        }
      ]
    },
    {
      "cell_type": "code",
      "metadata": {
        "id": "iDZMpXAif4Sc",
        "colab_type": "code",
        "colab": {
          "base_uri": "https://localhost:8080/",
          "height": 612
        },
        "outputId": "c06760c8-b795-404d-d429-18b2c9ed1736"
      },
      "source": [
        "trainFolder = \"./data/input/asl-alphabet/asl_alphabet_train/\"\n",
        "#testFolder =  \"../input/asl-alphabet/asl_alphabet_test/\"\n",
        "\n",
        "X, y = exctractDataFromFiles(trainFolder, imageColor = True, imageSize = (50, 50), imagesPerLetter = 1000)"
      ],
      "execution_count": 80,
      "outputs": [
        {
          "output_type": "stream",
          "text": [
            "100%|██████████| 1000/1000 [00:07<00:00, 128.53it/s]\n",
            "100%|██████████| 1000/1000 [00:07<00:00, 130.89it/s]\n",
            "100%|██████████| 1000/1000 [00:07<00:00, 132.03it/s]\n",
            "100%|██████████| 1000/1000 [00:07<00:00, 132.95it/s]\n",
            "100%|██████████| 1000/1000 [00:07<00:00, 136.28it/s]\n",
            "100%|██████████| 1000/1000 [00:11<00:00, 85.86it/s]\n",
            "100%|██████████| 1000/1000 [00:12<00:00, 82.06it/s]\n",
            "100%|██████████| 1000/1000 [00:12<00:00, 82.09it/s]\n",
            "100%|██████████| 1000/1000 [00:12<00:00, 81.41it/s]\n",
            "100%|██████████| 1000/1000 [00:12<00:00, 82.84it/s]\n",
            "100%|██████████| 1000/1000 [00:11<00:00, 84.53it/s]\n",
            "100%|██████████| 1000/1000 [00:11<00:00, 86.28it/s]\n",
            "100%|██████████| 1000/1000 [00:11<00:00, 86.21it/s]\n",
            "100%|██████████| 1000/1000 [00:11<00:00, 86.53it/s]\n",
            "100%|██████████| 1000/1000 [00:11<00:00, 85.87it/s]\n",
            "100%|██████████| 1000/1000 [00:11<00:00, 87.61it/s]\n",
            "100%|██████████| 1000/1000 [00:11<00:00, 88.65it/s]\n",
            "100%|██████████| 1000/1000 [00:10<00:00, 91.81it/s]\n",
            "100%|██████████| 1000/1000 [00:11<00:00, 89.50it/s]\n",
            "100%|██████████| 1000/1000 [00:11<00:00, 89.61it/s]\n",
            "100%|██████████| 1000/1000 [00:10<00:00, 91.12it/s]\n",
            "100%|██████████| 1000/1000 [00:10<00:00, 91.68it/s]\n",
            "100%|██████████| 1000/1000 [00:10<00:00, 91.67it/s]\n",
            "100%|██████████| 1000/1000 [00:10<00:00, 91.14it/s]\n",
            "100%|██████████| 1000/1000 [00:11<00:00, 89.99it/s]\n",
            "100%|██████████| 1000/1000 [00:10<00:00, 94.69it/s]\n",
            "100%|██████████| 1000/1000 [00:10<00:00, 93.50it/s]\n",
            "100%|██████████| 1000/1000 [00:10<00:00, 95.99it/s]\n",
            "100%|██████████| 1000/1000 [00:10<00:00, 95.43it/s]\n"
          ],
          "name": "stderr"
        },
        {
          "output_type": "stream",
          "text": [
            "Extracted data with the following specifications:\n",
            "--------------------------------------------------\n",
            "color: True\n",
            "size: (50, 50)\n",
            "images per letter: 1000\n",
            "output shape: (50, 50, 3)\n"
          ],
          "name": "stdout"
        }
      ]
    },
    {
      "cell_type": "markdown",
      "metadata": {
        "id": "avppEdDznuaU",
        "colab_type": "text"
      },
      "source": [
        "**Prikaz slike**\n"
      ]
    },
    {
      "cell_type": "code",
      "metadata": {
        "id": "pMXfEmE5nwOB",
        "colab_type": "code",
        "colab": {}
      },
      "source": [
        "testImage = cv2.imread(\"../input/asl-alphabet/asl_alphabet_train/A/A1.jpg\")\n",
        "resizedTestImage = proccessImage(testImage, size=(50,50), color=True)\n",
        "print(resizedTestImage.shape)\n",
        "plt.imshow(resizedTestImage, cmap='gray')\n",
        "plt.show()"
      ],
      "execution_count": null,
      "outputs": []
    },
    {
      "cell_type": "markdown",
      "metadata": {
        "id": "M3UlCC_1oOqQ",
        "colab_type": "text"
      },
      "source": [
        "**Pretprocesiranje ciljne promenljive**  \n",
        "U sklopu transformacije ciljne promenljive je korišćeno `One-Hot encoding`, odnosno kodiranje koje kategoričkom atributu (ciljnoj promenljivoj) sa $k$ mogućih različitih vrednosti (gde je $k$ u našem slučaju vrednost 30) pridružuje $k$ novih promenljivih, a vrednostima kategoričke promenljive vrednosti indikatora.\n",
        "\n",
        "0 &#8594; 1 0 0 0 ... 0  \n",
        "1 &#8594; 0 1 0 0 ... 0  \n",
        "2 &#8594; 0 0 1 0 ... 0  \n",
        "...  \n",
        "29 &#8594; 0 0 0 0 ... 0  "
      ]
    },
    {
      "cell_type": "code",
      "metadata": {
        "id": "M-wuT8Jcnz3Q",
        "colab_type": "code",
        "colab": {}
      },
      "source": [
        "numOfClasses = 30"
      ],
      "execution_count": 81,
      "outputs": []
    },
    {
      "cell_type": "code",
      "metadata": {
        "id": "Ld49YQSBJ-4k",
        "colab_type": "code",
        "colab": {}
      },
      "source": [
        "# One hot encoding of target variable\n",
        "y = to_categorical(y, numOfClasses)"
      ],
      "execution_count": 82,
      "outputs": []
    },
    {
      "cell_type": "code",
      "metadata": {
        "id": "whyh6YvElG1b",
        "colab_type": "code",
        "colab": {}
      },
      "source": [
        ""
      ],
      "execution_count": 25,
      "outputs": []
    },
    {
      "cell_type": "markdown",
      "metadata": {
        "id": "uKs1M7gfo1as",
        "colab_type": "text"
      },
      "source": [
        "**Podela podataka na trening i test skup**  \n",
        "Učitani podaci se dele na trening i test skup u odnosu *3:1*, s tim što se uz pomoć naglašenog parametra *stratify* čuva udeo ciljne promenljive iz originalnog skupa podataka."
      ]
    },
    {
      "cell_type": "code",
      "metadata": {
        "id": "NhdRcPBjo5MC",
        "colab_type": "code",
        "colab": {}
      },
      "source": [
        "# Splitting data into train and test sets\n",
        "X_train, X_test, y_train, y_test = train_test_split(X, y, test_size=0.33, stratify=y)"
      ],
      "execution_count": 83,
      "outputs": []
    },
    {
      "cell_type": "code",
      "metadata": {
        "id": "k0alb6Y_o7w2",
        "colab_type": "code",
        "colab": {
          "base_uri": "https://localhost:8080/",
          "height": 85
        },
        "outputId": "7f3a1477-4169-48c8-dbd0-20cc694ca3db"
      },
      "source": [
        "print(X_train.shape)\n",
        "print(X_test.shape)\n",
        "print(y_train.shape)\n",
        "print(y_test.shape)"
      ],
      "execution_count": 90,
      "outputs": [
        {
          "output_type": "stream",
          "text": [
            "(19430, 50, 50, 3)\n",
            "(9570, 50, 50, 3)\n",
            "(19430, 30)\n",
            "(9570, 30)\n"
          ],
          "name": "stdout"
        }
      ]
    },
    {
      "cell_type": "code",
      "metadata": {
        "id": "nh8I5lzkH8RN",
        "colab_type": "code",
        "colab": {
          "base_uri": "https://localhost:8080/",
          "height": 34
        },
        "outputId": "bbb9e2a5-81c6-45d0-f029-307e9e121fba"
      },
      "source": [
        "!ls"
      ],
      "execution_count": null,
      "outputs": [
        {
          "output_type": "stream",
          "text": [
            "data  drive  sample_data\n"
          ],
          "name": "stdout"
        }
      ]
    },
    {
      "cell_type": "code",
      "metadata": {
        "id": "1-cuuaa3IG65",
        "colab_type": "code",
        "colab": {
          "base_uri": "https://localhost:8080/",
          "height": 51
        },
        "outputId": "b583ad86-d2e2-4510-cddd-387a68363eeb"
      },
      "source": [
        "np.save(\"./data/Xtrain\", X_train)\n",
        "np.save(\"./data/Xtest\", X_test)\n",
        "print(\"X saved\")\n",
        "np.save(\"./data/Ytrain\", y_train)\n",
        "np.save(\"./data/Ytest\", y_test)\n",
        "print(\"Y saved\")"
      ],
      "execution_count": 28,
      "outputs": [
        {
          "output_type": "stream",
          "text": [
            "X saved\n",
            "Y saved\n"
          ],
          "name": "stdout"
        }
      ]
    },
    {
      "cell_type": "code",
      "metadata": {
        "id": "CNi4U5wpJt7R",
        "colab_type": "code",
        "colab": {
          "base_uri": "https://localhost:8080/",
          "height": 51
        },
        "outputId": "864f9fe3-440c-4467-be29-cb76b8a46096"
      },
      "source": [
        "X_train = np.load(\"./data/Xtrain.npy\")\n",
        "X_test = np.load(\"./data/Xtest.npy\")\n",
        "print(\"X loaded\")\n",
        "y_train = np.load(\"./data/Ytrain.npy\")\n",
        "y_test = np.load(\"./data/Ytest.npy\")\n",
        "print(\"Y loaded\")"
      ],
      "execution_count": null,
      "outputs": [
        {
          "output_type": "stream",
          "text": [
            "X loaded\n",
            "Y loaded\n"
          ],
          "name": "stdout"
        }
      ]
    },
    {
      "cell_type": "markdown",
      "metadata": {
        "id": "ySST93ix8EeR",
        "colab_type": "text"
      },
      "source": [
        "**Početni model**  \n",
        "Prvi pokušaj rešavanja problema je bila konvolutivna neuronska mreža sa arhitekturom sličnoj onoj prikazanoj na vežbama. Naime, korišćena je neuronska mreža sa propagacijom unapred, gde se dodaju sledeći slojevi:  \n",
        "**1 sloj:** Konvolucioni sloj sa *16* filtera, kernelom veličine *3x3*, uokvirenjem tako da veličina izlazne slike može biti istih dimenzija i *ReLu* aktivacionom funkcijom.    \n",
        "**2 sloj:** Agregacioni sloj koji vrši redukciju slojeva svođenjem blokova zadatih večina na njihove maksimalne vrednosti i veličinom bloka *2x2*.  \n",
        "**3 sloj:** Konvolucioni sloj sa *32* filtera, kernelom veličine *3x3*, uokvirenjem tako da veličina izlazne slike može biti istih dimenzija i *ReLu* aktivacionom funkcijom.    \n",
        "**4 sloj:** Agregacioni sloj koji vrši redukciju slojeva svođenjem blokova zadatih večina na njihove maksimalne vrednosti i veličinom bloka *2x2*.  \n",
        "**5 sloj:** Konvolucioni sloj sa *64* filtera, kernelom veličine *3x3*, uokvirenjem tako da veličina izlazne slike može biti istih dimenzija i *ReLu* aktivacionom funkcijom.  \n",
        "Zatim funkcija koja se koristi za transformisanje matrica u vektore *Flatten*.    \n",
        "**6 sloj:** Potpuno povezan sloj sa brojem izlaznih neurona *1024* i ReLu aktivacionom funkcijom.  \n",
        "Zatim tehnika regularizacije kojom isključujemo nasumično odabrane neurone i omogućavamo drugačiji protok podataka kroz mrežu *Dropout*.\n",
        "**7 sloj:** Potpuno povezan sloj sa brojem izlaznih neurona *30* i *softmax* aktivacionom funkcijom. "
      ]
    },
    {
      "cell_type": "code",
      "metadata": {
        "id": "MABi2BPLVlEU",
        "colab_type": "code",
        "colab": {}
      },
      "source": [
        ""
      ],
      "execution_count": null,
      "outputs": []
    },
    {
      "cell_type": "code",
      "metadata": {
        "id": "aumCLaL1pjPL",
        "colab_type": "code",
        "colab": {}
      },
      "source": [
        "# DOBAR MODEL ZA COLOR \n",
        "# Training model\n",
        "model = Sequential()\n",
        "model.add(Conv2D(16, kernel_size=(3, 3), padding='same', activation='relu', input_shape=(50,50,3)))\n",
        "model.add(MaxPooling2D(pool_size=(2, 2)))\n",
        "model.add(Conv2D(32, kernel_size=(3, 3), padding='same', activation='relu'))\n",
        "model.add(MaxPooling2D(pool_size=(2, 2)))\n",
        "model.add(Conv2D(64, kernel_size=(3, 3), padding='same', activation='relu'))\n",
        "model.add(MaxPooling2D(pool_size=(2, 2)))\n",
        "model.add(Flatten())\n",
        "model.add(Dense(1024, activation='relu'))\n",
        "model.add(Dropout(0.5))\n",
        "model.add(Dense(numOfClasses, activation='softmax'))"
      ],
      "execution_count": null,
      "outputs": []
    },
    {
      "cell_type": "code",
      "metadata": {
        "id": "I_vFQths36sb",
        "colab_type": "code",
        "colab": {
          "base_uri": "https://localhost:8080/",
          "height": 493
        },
        "outputId": "faf0c927-a156-472b-aac4-eed1a7f8df6e"
      },
      "source": [
        "# Model summary per layers\n",
        "model.summary()"
      ],
      "execution_count": null,
      "outputs": [
        {
          "output_type": "stream",
          "text": [
            "Model: \"sequential_7\"\n",
            "_________________________________________________________________\n",
            "Layer (type)                 Output Shape              Param #   \n",
            "=================================================================\n",
            "conv2d_35 (Conv2D)           (None, 50, 50, 16)        448       \n",
            "_________________________________________________________________\n",
            "max_pooling2d_23 (MaxPooling (None, 25, 25, 16)        0         \n",
            "_________________________________________________________________\n",
            "conv2d_36 (Conv2D)           (None, 25, 25, 32)        4640      \n",
            "_________________________________________________________________\n",
            "max_pooling2d_24 (MaxPooling (None, 12, 12, 32)        0         \n",
            "_________________________________________________________________\n",
            "conv2d_37 (Conv2D)           (None, 12, 12, 64)        18496     \n",
            "_________________________________________________________________\n",
            "max_pooling2d_25 (MaxPooling (None, 6, 6, 64)          0         \n",
            "_________________________________________________________________\n",
            "flatten_7 (Flatten)          (None, 2304)              0         \n",
            "_________________________________________________________________\n",
            "dense_16 (Dense)             (None, 1024)              2360320   \n",
            "_________________________________________________________________\n",
            "dropout_7 (Dropout)          (None, 1024)              0         \n",
            "_________________________________________________________________\n",
            "dense_17 (Dense)             (None, 30)                30750     \n",
            "=================================================================\n",
            "Total params: 2,414,654\n",
            "Trainable params: 2,414,654\n",
            "Non-trainable params: 0\n",
            "_________________________________________________________________\n"
          ],
          "name": "stdout"
        }
      ]
    },
    {
      "cell_type": "markdown",
      "metadata": {
        "id": "cOCSGl504gF_",
        "colab_type": "text"
      },
      "source": [
        "**Mrežu ćemo trenirati prema sledećim smernicama:**  \n",
        "*Funkcija greške*: Kategorička unakrsna entropija  \n",
        "*Optimizator*: Adam sa korakom učenja **0.001**   \n",
        "*Broj epoha*: **12**  \n",
        "*Veličina paketića za treniranje* (engl. batch size): **128**  \n",
        "\n",
        "Za evaluaciju mreže koristimo **preciznost**."
      ]
    },
    {
      "cell_type": "code",
      "metadata": {
        "id": "XLH-PSLY37Lz",
        "colab_type": "code",
        "colab": {}
      },
      "source": [
        "model.compile(loss='categorical_crossentropy', optimizer=optimizers.Adam(learning_rate=0.001), metrics=['accuracy'])"
      ],
      "execution_count": null,
      "outputs": []
    },
    {
      "cell_type": "code",
      "metadata": {
        "id": "Ci9R2-o537aD",
        "colab_type": "code",
        "colab": {
          "base_uri": "https://localhost:8080/",
          "height": 1000
        },
        "outputId": "bae276c8-dcb4-46cc-aa9e-6bb26df317e3"
      },
      "source": [
        "# Train model\n",
        "history = model.fit(X_train, y_train,\n",
        "                    batch_size=128,\n",
        "                    epochs=100,\n",
        "                    verbose=1,\n",
        "                    validation_split=0.2, \n",
        "                    shuffle=True)"
      ],
      "execution_count": null,
      "outputs": [
        {
          "output_type": "stream",
          "text": [
            "Epoch 1/100\n",
            "122/122 [==============================] - 1s 10ms/step - loss: 2.6705 - accuracy: 0.2304 - val_loss: 1.6855 - val_accuracy: 0.5023\n",
            "Epoch 2/100\n",
            "122/122 [==============================] - 1s 8ms/step - loss: 1.3445 - accuracy: 0.5731 - val_loss: 0.8719 - val_accuracy: 0.7337\n",
            "Epoch 3/100\n",
            "122/122 [==============================] - 1s 8ms/step - loss: 0.7832 - accuracy: 0.7441 - val_loss: 0.5147 - val_accuracy: 0.8482\n",
            "Epoch 4/100\n",
            "122/122 [==============================] - 1s 8ms/step - loss: 0.4999 - accuracy: 0.8350 - val_loss: 0.3481 - val_accuracy: 0.8984\n",
            "Epoch 5/100\n",
            "122/122 [==============================] - 1s 8ms/step - loss: 0.3480 - accuracy: 0.8821 - val_loss: 0.2653 - val_accuracy: 0.9246\n",
            "Epoch 6/100\n",
            "122/122 [==============================] - 1s 8ms/step - loss: 0.2648 - accuracy: 0.9142 - val_loss: 0.1877 - val_accuracy: 0.9447\n",
            "Epoch 7/100\n",
            "122/122 [==============================] - 1s 8ms/step - loss: 0.2067 - accuracy: 0.9303 - val_loss: 0.1378 - val_accuracy: 0.9581\n",
            "Epoch 8/100\n",
            "122/122 [==============================] - 1s 8ms/step - loss: 0.1674 - accuracy: 0.9441 - val_loss: 0.1256 - val_accuracy: 0.9653\n",
            "Epoch 9/100\n",
            "122/122 [==============================] - 1s 8ms/step - loss: 0.1353 - accuracy: 0.9555 - val_loss: 0.1041 - val_accuracy: 0.9676\n",
            "Epoch 10/100\n",
            "122/122 [==============================] - 1s 8ms/step - loss: 0.1155 - accuracy: 0.9634 - val_loss: 0.1024 - val_accuracy: 0.9701\n",
            "Epoch 11/100\n",
            "122/122 [==============================] - 1s 8ms/step - loss: 0.1142 - accuracy: 0.9624 - val_loss: 0.0660 - val_accuracy: 0.9810\n",
            "Epoch 12/100\n",
            "122/122 [==============================] - 1s 8ms/step - loss: 0.0820 - accuracy: 0.9738 - val_loss: 0.0779 - val_accuracy: 0.9732\n",
            "Epoch 13/100\n",
            "122/122 [==============================] - 1s 7ms/step - loss: 0.0728 - accuracy: 0.9770 - val_loss: 0.0521 - val_accuracy: 0.9861\n",
            "Epoch 14/100\n",
            "122/122 [==============================] - 1s 8ms/step - loss: 0.0734 - accuracy: 0.9775 - val_loss: 0.0608 - val_accuracy: 0.9794\n",
            "Epoch 15/100\n",
            "122/122 [==============================] - 1s 8ms/step - loss: 0.0655 - accuracy: 0.9790 - val_loss: 0.0539 - val_accuracy: 0.9853\n",
            "Epoch 16/100\n",
            "122/122 [==============================] - 1s 8ms/step - loss: 0.0555 - accuracy: 0.9824 - val_loss: 0.0444 - val_accuracy: 0.9848\n",
            "Epoch 17/100\n",
            "122/122 [==============================] - 1s 8ms/step - loss: 0.0560 - accuracy: 0.9810 - val_loss: 0.0539 - val_accuracy: 0.9858\n",
            "Epoch 18/100\n",
            "122/122 [==============================] - 1s 8ms/step - loss: 0.0514 - accuracy: 0.9842 - val_loss: 0.0526 - val_accuracy: 0.9838\n",
            "Epoch 19/100\n",
            "122/122 [==============================] - 1s 8ms/step - loss: 0.0427 - accuracy: 0.9864 - val_loss: 0.0437 - val_accuracy: 0.9884\n",
            "Epoch 20/100\n",
            "122/122 [==============================] - 1s 8ms/step - loss: 0.0543 - accuracy: 0.9833 - val_loss: 0.0350 - val_accuracy: 0.9900\n",
            "Epoch 21/100\n",
            "122/122 [==============================] - 1s 8ms/step - loss: 0.0422 - accuracy: 0.9866 - val_loss: 0.0431 - val_accuracy: 0.9856\n",
            "Epoch 22/100\n",
            "122/122 [==============================] - 1s 8ms/step - loss: 0.0410 - accuracy: 0.9867 - val_loss: 0.0332 - val_accuracy: 0.9915\n",
            "Epoch 23/100\n",
            "122/122 [==============================] - 1s 8ms/step - loss: 0.0334 - accuracy: 0.9898 - val_loss: 0.0316 - val_accuracy: 0.9902\n",
            "Epoch 24/100\n",
            "122/122 [==============================] - 1s 8ms/step - loss: 0.0305 - accuracy: 0.9907 - val_loss: 0.0517 - val_accuracy: 0.9825\n",
            "Epoch 25/100\n",
            "122/122 [==============================] - 1s 7ms/step - loss: 0.0339 - accuracy: 0.9891 - val_loss: 0.0314 - val_accuracy: 0.9905\n",
            "Epoch 26/100\n",
            "122/122 [==============================] - 1s 8ms/step - loss: 0.0410 - accuracy: 0.9872 - val_loss: 0.0406 - val_accuracy: 0.9864\n",
            "Epoch 27/100\n",
            "122/122 [==============================] - 1s 8ms/step - loss: 0.0326 - accuracy: 0.9903 - val_loss: 0.0312 - val_accuracy: 0.9900\n",
            "Epoch 28/100\n",
            "122/122 [==============================] - 1s 8ms/step - loss: 0.0278 - accuracy: 0.9905 - val_loss: 0.0514 - val_accuracy: 0.9817\n",
            "Epoch 29/100\n",
            "122/122 [==============================] - 1s 8ms/step - loss: 0.0399 - accuracy: 0.9869 - val_loss: 0.0404 - val_accuracy: 0.9887\n",
            "Epoch 30/100\n",
            "122/122 [==============================] - 1s 7ms/step - loss: 0.0292 - accuracy: 0.9909 - val_loss: 0.0304 - val_accuracy: 0.9915\n",
            "Epoch 31/100\n",
            "122/122 [==============================] - 1s 8ms/step - loss: 0.0309 - accuracy: 0.9900 - val_loss: 0.0321 - val_accuracy: 0.9907\n",
            "Epoch 32/100\n",
            "122/122 [==============================] - 1s 8ms/step - loss: 0.0248 - accuracy: 0.9918 - val_loss: 0.0306 - val_accuracy: 0.9902\n",
            "Epoch 33/100\n",
            "122/122 [==============================] - 1s 8ms/step - loss: 0.0184 - accuracy: 0.9943 - val_loss: 0.0257 - val_accuracy: 0.9907\n",
            "Epoch 34/100\n",
            "122/122 [==============================] - 1s 8ms/step - loss: 0.0242 - accuracy: 0.9916 - val_loss: 0.0302 - val_accuracy: 0.9905\n",
            "Epoch 35/100\n",
            "122/122 [==============================] - 1s 8ms/step - loss: 0.0223 - accuracy: 0.9936 - val_loss: 0.0421 - val_accuracy: 0.9879\n",
            "Epoch 36/100\n",
            "122/122 [==============================] - 1s 8ms/step - loss: 0.0313 - accuracy: 0.9896 - val_loss: 0.0388 - val_accuracy: 0.9876\n",
            "Epoch 37/100\n",
            "122/122 [==============================] - 1s 8ms/step - loss: 0.0245 - accuracy: 0.9922 - val_loss: 0.0357 - val_accuracy: 0.9900\n",
            "Epoch 38/100\n",
            "122/122 [==============================] - 1s 8ms/step - loss: 0.0177 - accuracy: 0.9945 - val_loss: 0.0284 - val_accuracy: 0.9918\n",
            "Epoch 39/100\n",
            "122/122 [==============================] - 1s 8ms/step - loss: 0.0221 - accuracy: 0.9927 - val_loss: 0.0380 - val_accuracy: 0.9882\n",
            "Epoch 40/100\n",
            "122/122 [==============================] - 1s 8ms/step - loss: 0.0204 - accuracy: 0.9945 - val_loss: 0.0340 - val_accuracy: 0.9902\n",
            "Epoch 41/100\n",
            "122/122 [==============================] - 1s 8ms/step - loss: 0.0233 - accuracy: 0.9925 - val_loss: 0.0311 - val_accuracy: 0.9902\n",
            "Epoch 42/100\n",
            "122/122 [==============================] - 1s 8ms/step - loss: 0.0129 - accuracy: 0.9956 - val_loss: 0.0220 - val_accuracy: 0.9920\n",
            "Epoch 43/100\n",
            "122/122 [==============================] - 1s 7ms/step - loss: 0.0214 - accuracy: 0.9930 - val_loss: 0.0393 - val_accuracy: 0.9884\n",
            "Epoch 44/100\n",
            "122/122 [==============================] - 1s 8ms/step - loss: 0.0225 - accuracy: 0.9926 - val_loss: 0.0284 - val_accuracy: 0.9905\n",
            "Epoch 45/100\n",
            "122/122 [==============================] - 1s 8ms/step - loss: 0.0333 - accuracy: 0.9896 - val_loss: 0.0398 - val_accuracy: 0.9884\n",
            "Epoch 46/100\n",
            "122/122 [==============================] - 1s 8ms/step - loss: 0.0175 - accuracy: 0.9938 - val_loss: 0.0264 - val_accuracy: 0.9925\n",
            "Epoch 47/100\n",
            "122/122 [==============================] - 1s 8ms/step - loss: 0.0178 - accuracy: 0.9947 - val_loss: 0.0270 - val_accuracy: 0.9913\n",
            "Epoch 48/100\n",
            "122/122 [==============================] - 1s 8ms/step - loss: 0.0143 - accuracy: 0.9958 - val_loss: 0.0295 - val_accuracy: 0.9910\n",
            "Epoch 49/100\n",
            "122/122 [==============================] - 1s 8ms/step - loss: 0.0158 - accuracy: 0.9947 - val_loss: 0.0383 - val_accuracy: 0.9884\n",
            "Epoch 50/100\n",
            "122/122 [==============================] - 1s 8ms/step - loss: 0.0197 - accuracy: 0.9933 - val_loss: 0.0393 - val_accuracy: 0.9894\n",
            "Epoch 51/100\n",
            "122/122 [==============================] - 1s 8ms/step - loss: 0.0341 - accuracy: 0.9890 - val_loss: 0.0313 - val_accuracy: 0.9900\n",
            "Epoch 52/100\n",
            "122/122 [==============================] - 1s 8ms/step - loss: 0.0170 - accuracy: 0.9951 - val_loss: 0.0272 - val_accuracy: 0.9933\n",
            "Epoch 53/100\n",
            "122/122 [==============================] - 1s 8ms/step - loss: 0.0100 - accuracy: 0.9971 - val_loss: 0.0318 - val_accuracy: 0.9887\n",
            "Epoch 54/100\n",
            "122/122 [==============================] - 1s 8ms/step - loss: 0.0186 - accuracy: 0.9936 - val_loss: 0.0315 - val_accuracy: 0.9913\n",
            "Epoch 55/100\n",
            "122/122 [==============================] - 1s 8ms/step - loss: 0.0230 - accuracy: 0.9930 - val_loss: 0.0264 - val_accuracy: 0.9920\n",
            "Epoch 56/100\n",
            "122/122 [==============================] - 1s 8ms/step - loss: 0.0189 - accuracy: 0.9942 - val_loss: 0.0299 - val_accuracy: 0.9925\n",
            "Epoch 57/100\n",
            "122/122 [==============================] - 1s 8ms/step - loss: 0.0095 - accuracy: 0.9973 - val_loss: 0.0242 - val_accuracy: 0.9923\n",
            "Epoch 58/100\n",
            "122/122 [==============================] - 1s 8ms/step - loss: 0.0107 - accuracy: 0.9969 - val_loss: 0.0275 - val_accuracy: 0.9943\n",
            "Epoch 59/100\n",
            "122/122 [==============================] - 1s 8ms/step - loss: 0.0201 - accuracy: 0.9938 - val_loss: 0.0257 - val_accuracy: 0.9918\n",
            "Epoch 60/100\n",
            "122/122 [==============================] - 1s 8ms/step - loss: 0.0181 - accuracy: 0.9942 - val_loss: 0.0273 - val_accuracy: 0.9928\n",
            "Epoch 61/100\n",
            "122/122 [==============================] - 1s 8ms/step - loss: 0.0143 - accuracy: 0.9954 - val_loss: 0.0277 - val_accuracy: 0.9915\n",
            "Epoch 62/100\n",
            "122/122 [==============================] - 1s 8ms/step - loss: 0.0099 - accuracy: 0.9968 - val_loss: 0.0215 - val_accuracy: 0.9918\n",
            "Epoch 63/100\n",
            "122/122 [==============================] - 1s 8ms/step - loss: 0.0211 - accuracy: 0.9932 - val_loss: 0.0282 - val_accuracy: 0.9910\n",
            "Epoch 64/100\n",
            "122/122 [==============================] - 1s 8ms/step - loss: 0.0116 - accuracy: 0.9963 - val_loss: 0.0203 - val_accuracy: 0.9933\n",
            "Epoch 65/100\n",
            "122/122 [==============================] - 1s 8ms/step - loss: 0.0165 - accuracy: 0.9948 - val_loss: 0.0405 - val_accuracy: 0.9897\n",
            "Epoch 66/100\n",
            "122/122 [==============================] - 1s 8ms/step - loss: 0.0134 - accuracy: 0.9954 - val_loss: 0.0283 - val_accuracy: 0.9923\n",
            "Epoch 67/100\n",
            "122/122 [==============================] - 1s 8ms/step - loss: 0.0134 - accuracy: 0.9963 - val_loss: 0.0412 - val_accuracy: 0.9913\n",
            "Epoch 68/100\n",
            "122/122 [==============================] - 1s 8ms/step - loss: 0.0094 - accuracy: 0.9970 - val_loss: 0.0303 - val_accuracy: 0.9928\n",
            "Epoch 69/100\n",
            "122/122 [==============================] - 1s 8ms/step - loss: 0.0116 - accuracy: 0.9963 - val_loss: 0.0252 - val_accuracy: 0.9923\n",
            "Epoch 70/100\n",
            "122/122 [==============================] - 1s 8ms/step - loss: 0.0115 - accuracy: 0.9965 - val_loss: 0.0505 - val_accuracy: 0.9866\n",
            "Epoch 71/100\n",
            "122/122 [==============================] - 1s 8ms/step - loss: 0.0165 - accuracy: 0.9950 - val_loss: 0.0425 - val_accuracy: 0.9894\n",
            "Epoch 72/100\n",
            "122/122 [==============================] - 1s 8ms/step - loss: 0.0169 - accuracy: 0.9946 - val_loss: 0.0708 - val_accuracy: 0.9786\n",
            "Epoch 73/100\n",
            "122/122 [==============================] - 1s 8ms/step - loss: 0.0226 - accuracy: 0.9940 - val_loss: 0.0177 - val_accuracy: 0.9938\n",
            "Epoch 74/100\n",
            "122/122 [==============================] - 1s 8ms/step - loss: 0.0129 - accuracy: 0.9958 - val_loss: 0.0241 - val_accuracy: 0.9933\n",
            "Epoch 75/100\n",
            "122/122 [==============================] - 1s 8ms/step - loss: 0.0093 - accuracy: 0.9970 - val_loss: 0.0224 - val_accuracy: 0.9920\n",
            "Epoch 76/100\n",
            "122/122 [==============================] - 1s 8ms/step - loss: 0.0132 - accuracy: 0.9963 - val_loss: 0.0298 - val_accuracy: 0.9943\n",
            "Epoch 77/100\n",
            "122/122 [==============================] - 1s 8ms/step - loss: 0.0073 - accuracy: 0.9981 - val_loss: 0.0366 - val_accuracy: 0.9931\n",
            "Epoch 78/100\n",
            "122/122 [==============================] - 1s 8ms/step - loss: 0.0135 - accuracy: 0.9958 - val_loss: 0.0338 - val_accuracy: 0.9933\n",
            "Epoch 79/100\n",
            "122/122 [==============================] - 1s 8ms/step - loss: 0.0125 - accuracy: 0.9967 - val_loss: 0.0352 - val_accuracy: 0.9923\n",
            "Epoch 80/100\n",
            "122/122 [==============================] - 1s 8ms/step - loss: 0.0123 - accuracy: 0.9963 - val_loss: 0.0382 - val_accuracy: 0.9902\n",
            "Epoch 81/100\n",
            "122/122 [==============================] - 1s 8ms/step - loss: 0.0076 - accuracy: 0.9976 - val_loss: 0.0230 - val_accuracy: 0.9928\n",
            "Epoch 82/100\n",
            "122/122 [==============================] - 1s 8ms/step - loss: 0.0062 - accuracy: 0.9983 - val_loss: 0.0214 - val_accuracy: 0.9933\n",
            "Epoch 83/100\n",
            "122/122 [==============================] - 1s 8ms/step - loss: 0.0087 - accuracy: 0.9976 - val_loss: 0.0289 - val_accuracy: 0.9933\n",
            "Epoch 84/100\n",
            "122/122 [==============================] - 1s 7ms/step - loss: 0.0086 - accuracy: 0.9971 - val_loss: 0.0333 - val_accuracy: 0.9907\n",
            "Epoch 85/100\n",
            "122/122 [==============================] - 1s 8ms/step - loss: 0.0078 - accuracy: 0.9974 - val_loss: 0.0274 - val_accuracy: 0.9936\n",
            "Epoch 86/100\n",
            "122/122 [==============================] - 1s 8ms/step - loss: 0.0134 - accuracy: 0.9959 - val_loss: 0.0444 - val_accuracy: 0.9907\n",
            "Epoch 87/100\n",
            "122/122 [==============================] - 1s 8ms/step - loss: 0.0143 - accuracy: 0.9953 - val_loss: 0.0489 - val_accuracy: 0.9887\n",
            "Epoch 88/100\n",
            "122/122 [==============================] - 1s 8ms/step - loss: 0.0088 - accuracy: 0.9975 - val_loss: 0.0374 - val_accuracy: 0.9907\n",
            "Epoch 89/100\n",
            "122/122 [==============================] - 1s 8ms/step - loss: 0.0159 - accuracy: 0.9953 - val_loss: 0.0359 - val_accuracy: 0.9910\n",
            "Epoch 90/100\n",
            "122/122 [==============================] - 1s 8ms/step - loss: 0.0145 - accuracy: 0.9952 - val_loss: 0.0427 - val_accuracy: 0.9900\n",
            "Epoch 91/100\n",
            "122/122 [==============================] - 1s 8ms/step - loss: 0.0085 - accuracy: 0.9977 - val_loss: 0.0379 - val_accuracy: 0.9910\n",
            "Epoch 92/100\n",
            "122/122 [==============================] - 1s 8ms/step - loss: 0.0104 - accuracy: 0.9969 - val_loss: 0.0348 - val_accuracy: 0.9905\n",
            "Epoch 93/100\n",
            "122/122 [==============================] - 1s 8ms/step - loss: 0.0076 - accuracy: 0.9979 - val_loss: 0.0225 - val_accuracy: 0.9938\n",
            "Epoch 94/100\n",
            "122/122 [==============================] - 1s 8ms/step - loss: 0.0031 - accuracy: 0.9990 - val_loss: 0.0313 - val_accuracy: 0.9933\n",
            "Epoch 95/100\n",
            "122/122 [==============================] - 1s 8ms/step - loss: 0.0095 - accuracy: 0.9974 - val_loss: 0.0430 - val_accuracy: 0.9907\n",
            "Epoch 96/100\n",
            "122/122 [==============================] - 1s 8ms/step - loss: 0.0208 - accuracy: 0.9944 - val_loss: 0.0400 - val_accuracy: 0.9920\n",
            "Epoch 97/100\n",
            "122/122 [==============================] - 1s 8ms/step - loss: 0.0128 - accuracy: 0.9966 - val_loss: 0.0414 - val_accuracy: 0.9910\n",
            "Epoch 98/100\n",
            "122/122 [==============================] - 1s 8ms/step - loss: 0.0123 - accuracy: 0.9960 - val_loss: 0.0322 - val_accuracy: 0.9938\n",
            "Epoch 99/100\n",
            "122/122 [==============================] - 1s 8ms/step - loss: 0.0110 - accuracy: 0.9969 - val_loss: 0.0322 - val_accuracy: 0.9949\n",
            "Epoch 100/100\n",
            "122/122 [==============================] - 1s 8ms/step - loss: 0.0071 - accuracy: 0.9976 - val_loss: 0.0364 - val_accuracy: 0.9936\n"
          ],
          "name": "stdout"
        }
      ]
    },
    {
      "cell_type": "code",
      "metadata": {
        "id": "tMvB1MOEOxVF",
        "colab_type": "code",
        "colab": {}
      },
      "source": [
        "# Plotting loss/accuracy values of train and validation data during training model\n",
        "def plot_loss_accuracy(epochs, history):\n",
        "  plt.figure(figsize=(10, 4))\n",
        "\n",
        "  plt.subplot(1, 2, 1)\n",
        "  plt.title('Loss')\n",
        "  plt.plot(np.arange(0, epochs), history.history['loss'], label='train')\n",
        "  plt.plot(np.arange(0, epochs), history.history['val_loss'], label='val')\n",
        "  plt.legend(loc='best')\n",
        "\n",
        "  plt.subplot(1, 2, 2)\n",
        "  plt.title('Accuracy')\n",
        "  plt.plot(np.arange(0, epochs), history.history['accuracy'], label='train')\n",
        "  plt.plot(np.arange(0, epochs), history.history['val_accuracy'], label='val')\n",
        "  plt.legend(loc='best')"
      ],
      "execution_count": 96,
      "outputs": []
    },
    {
      "cell_type": "markdown",
      "metadata": {
        "id": "xcctqhYsO949",
        "colab_type": "text"
      },
      "source": [
        "Na sledećem zajedničkom grafiku je prikazana funkcija gubitka na skupu za treniranje i validaciju, a potom i funkcija preciznosti."
      ]
    },
    {
      "cell_type": "code",
      "metadata": {
        "id": "R-IoL8rjM9IK",
        "colab_type": "code",
        "colab": {
          "base_uri": "https://localhost:8080/",
          "height": 281
        },
        "outputId": "3a5838c9-dfd3-4f0e-c34f-5156976bf032"
      },
      "source": [
        "plot_loss_accuracy(100, history)"
      ],
      "execution_count": null,
      "outputs": [
        {
          "output_type": "display_data",
          "data": {
            "image/png": "[encoded data removed]",
            "text/plain": [
              "<Figure size 720x288 with 2 Axes>"
            ]
          },
          "metadata": {
            "tags": [],
            "needs_background": "light"
          }
        }
      ]
    },
    {
      "cell_type": "code",
      "metadata": {
        "id": "A-gVsg_qO3-p",
        "colab_type": "code",
        "colab": {}
      },
      "source": [
        "def show_classification_report(model, X_test, y_test):\n",
        "  print(classification_report(np.argmax(y_test, axis=1), model.predict_classes(X_test)))"
      ],
      "execution_count": 99,
      "outputs": []
    },
    {
      "cell_type": "markdown",
      "metadata": {
        "id": "L53ZSIlMPAI7",
        "colab_type": "text"
      },
      "source": [
        "TODO"
      ]
    },
    {
      "cell_type": "code",
      "metadata": {
        "id": "eHUH3ePbND3J",
        "colab_type": "code",
        "colab": {
          "base_uri": "https://localhost:8080/",
          "height": 629
        },
        "outputId": "5d5f6717-eafe-4d03-e1e2-3743fd0b844f"
      },
      "source": [
        "show_classification_report(model, X_test, y_test)"
      ],
      "execution_count": null,
      "outputs": [
        {
          "output_type": "stream",
          "text": [
            "              precision    recall  f1-score   support\n",
            "\n",
            "           0       0.97      0.98      0.98       330\n",
            "           1       1.00      1.00      1.00       330\n",
            "           2       1.00      1.00      1.00       330\n",
            "           3       0.98      1.00      0.99       330\n",
            "           4       0.99      0.97      0.98       330\n",
            "           5       1.00      1.00      1.00       330\n",
            "           6       0.99      0.99      0.99       330\n",
            "           7       0.99      0.99      0.99       330\n",
            "           8       0.99      1.00      1.00       330\n",
            "           9       0.99      0.99      0.99       330\n",
            "          10       0.99      0.98      0.99       330\n",
            "          11       1.00      1.00      1.00       330\n",
            "          12       1.00      1.00      1.00       330\n",
            "          13       1.00      1.00      1.00       330\n",
            "          14       1.00      0.98      0.99       330\n",
            "          15       1.00      0.99      0.99       330\n",
            "          16       1.00      1.00      1.00       330\n",
            "          17       0.98      0.99      0.99       330\n",
            "          18       1.00      0.98      0.99       330\n",
            "          19       0.99      0.99      0.99       330\n",
            "          20       0.99      1.00      1.00       330\n",
            "          21       0.99      0.99      0.99       330\n",
            "          22       0.99      1.00      1.00       330\n",
            "          23       0.98      0.99      0.99       330\n",
            "          24       1.00      1.00      1.00       330\n",
            "          25       1.00      1.00      1.00       330\n",
            "          26       1.00      1.00      1.00       330\n",
            "          27       1.00      1.00      1.00       330\n",
            "          28       1.00      1.00      1.00       330\n",
            "\n",
            "    accuracy                           0.99      9570\n",
            "   macro avg       0.99      0.99      0.99      9570\n",
            "weighted avg       0.99      0.99      0.99      9570\n",
            "\n"
          ],
          "name": "stdout"
        }
      ]
    },
    {
      "cell_type": "code",
      "metadata": {
        "id": "Q0LtNhuPJrmq",
        "colab_type": "code",
        "colab": {
          "base_uri": "https://localhost:8080/",
          "height": 51
        },
        "outputId": "1cb1591c-1e50-4ef7-971f-8e1c89936a9c"
      },
      "source": [
        "# Evaluate model\n",
        "score = model.evaluate(X_test, y_test, verbose=0)\n",
        "print('Test loss:', score[0])\n",
        "print('Test accuracy:', score[1])"
      ],
      "execution_count": null,
      "outputs": [
        {
          "output_type": "stream",
          "text": [
            "Test loss: 0.03432227671146393\n",
            "Test accuracy: 0.9936259388923645\n"
          ],
          "name": "stdout"
        }
      ]
    },
    {
      "cell_type": "markdown",
      "metadata": {
        "id": "H4UK03p14WnA",
        "colab_type": "text"
      },
      "source": [
        "**Model iz naučnog rada**  \n",
        "Sledeći pokušaj rešavanja datog problema je bio uz pomoć pronađenog naučnog rada koji možete pogledati [ovde](https://) .  \n",
        "Iako se skupovi podataka razlikuju, pokušali smo sa predloženim modelom: korišćena je neuronska mreža sa propagacijom unapred, gde se dodaju sledeći slojevi:  \n",
        "**1 sloj:** Konvolucioni sloj sa *16* filtera, kernelom veličine *2x2* i *ReLu* aktivacionom funkcijom.    \n",
        "**2 sloj:** Agregacioni sloj koji vrši redukciju slojeva svođenjem blokova zadatih večina na njihove maksimalne vrednosti, veličinom bloka *2x2*, veličinom pomeraja *2x2* i uokvirenjem tako da veličina izlazne slike može biti istih dimenzija.  \n",
        "**3 sloj:** Konvolucioni sloj sa *32* filtera, kernelom veličine *3x3* i *ReLu* aktivacionom funkcijom.    \n",
        "**4 sloj:** Agregacioni sloj koji vrši redukciju slojeva svođenjem blokova zadatih večina na njihove maksimalne vrednosti, veličinom bloka *3x3*, veličinom pomeraja *3x3* i uokvirenjem tako da veličina izlazne slike može biti istih dimenzija.   \n",
        "**5 sloj:** Konvolucioni sloj sa *64* filtera, kernelom veličine *5x5* i *ReLu* aktivacionom funkcijom.  \n",
        "Zatim funkcija koja se koristi za transformisanje matrica u vektore *Flatten*.    \n",
        "**6 sloj:** Potpuno povezan sloj sa brojem izlaznih neurona *128* i ReLu aktivacionom funkcijom.  \n",
        "Zatim tehnika regularizacije kojom isključujemo nasumično odabrane neurone i omogućavamo drugačiji protok podataka kroz mrežu *Dropout*.\n",
        "**7 sloj:** Potpuno povezan sloj sa brojem izlaznih neurona *30* i *softmax* aktivacionom funkcijom. "
      ]
    },
    {
      "cell_type": "code",
      "metadata": {
        "id": "Yuu1teNtptw7",
        "colab_type": "code",
        "colab": {}
      },
      "source": [
        "# DOBAR MODEL ZA GRAYSCALE\n",
        "# Training model\n",
        "paper_model = Sequential()\n",
        "paper_model.add(Conv2D(16, (2,2), input_shape=(50,50,1), activation='relu'))\n",
        "paper_model.add(MaxPooling2D(pool_size=(2, 2), strides=(2, 2), padding='same'))\n",
        "paper_model.add(Conv2D(32, (3,3), activation='relu'))\n",
        "paper_model.add(MaxPooling2D(pool_size=(3, 3), strides=(3, 3), padding='same'))\n",
        "paper_model.add(Conv2D(64, (5,5), activation='relu'))\n",
        "paper_model.add(MaxPooling2D(pool_size=(5, 5), strides=(5, 5), padding='same'))\n",
        "paper_model.add(Flatten())\n",
        "paper_model.add(Dense(128, activation='relu'))\n",
        "paper_model.add(Dropout(0.2))\n",
        "paper_model.add(Dense(numOfClasses, activation='softmax'))"
      ],
      "execution_count": null,
      "outputs": []
    },
    {
      "cell_type": "code",
      "metadata": {
        "id": "lMnkfO3zpub1",
        "colab_type": "code",
        "colab": {
          "base_uri": "https://localhost:8080/",
          "height": 493
        },
        "outputId": "685b37f1-44ba-432a-8e78-a3387ba5b8e8"
      },
      "source": [
        "# Model summary per layers\n",
        "paper_model.summary()"
      ],
      "execution_count": null,
      "outputs": [
        {
          "output_type": "stream",
          "text": [
            "Model: \"sequential_6\"\n",
            "_________________________________________________________________\n",
            "Layer (type)                 Output Shape              Param #   \n",
            "=================================================================\n",
            "conv2d_32 (Conv2D)           (None, 49, 49, 16)        80        \n",
            "_________________________________________________________________\n",
            "max_pooling2d_20 (MaxPooling (None, 25, 25, 16)        0         \n",
            "_________________________________________________________________\n",
            "conv2d_33 (Conv2D)           (None, 23, 23, 32)        4640      \n",
            "_________________________________________________________________\n",
            "max_pooling2d_21 (MaxPooling (None, 8, 8, 32)          0         \n",
            "_________________________________________________________________\n",
            "conv2d_34 (Conv2D)           (None, 4, 4, 64)          51264     \n",
            "_________________________________________________________________\n",
            "max_pooling2d_22 (MaxPooling (None, 1, 1, 64)          0         \n",
            "_________________________________________________________________\n",
            "flatten_6 (Flatten)          (None, 64)                0         \n",
            "_________________________________________________________________\n",
            "dense_14 (Dense)             (None, 128)               8320      \n",
            "_________________________________________________________________\n",
            "dropout_6 (Dropout)          (None, 128)               0         \n",
            "_________________________________________________________________\n",
            "dense_15 (Dense)             (None, 30)                3870      \n",
            "=================================================================\n",
            "Total params: 68,174\n",
            "Trainable params: 68,174\n",
            "Non-trainable params: 0\n",
            "_________________________________________________________________\n"
          ],
          "name": "stdout"
        }
      ]
    },
    {
      "cell_type": "markdown",
      "metadata": {
        "id": "43SBuO_W2Sg-",
        "colab_type": "text"
      },
      "source": [
        "**Mrežu ćemo trenirati prema sledećim smernicama:**  \n",
        "*Funkcija greške*: Kategorička unakrsna entropija  \n",
        "*Optimizator*: Adam sa korakom učenja **0.001**   \n",
        "*Broj epoha*: **50**  \n",
        "*Veličina paketića za treniranje* (engl. batch size): **500**  \n",
        "\n",
        "Za evaluaciju mreže koristimo **preciznost**.\n"
      ]
    },
    {
      "cell_type": "code",
      "metadata": {
        "id": "g_theT_fp3Wu",
        "colab_type": "code",
        "colab": {}
      },
      "source": [
        "paper_model.compile(loss='categorical_crossentropy', optimizer=optimizers.Adam(learning_rate=0.001), metrics=['accuracy'])"
      ],
      "execution_count": null,
      "outputs": []
    },
    {
      "cell_type": "code",
      "metadata": {
        "id": "4XAYppvJp7AH",
        "colab_type": "code",
        "colab": {
          "base_uri": "https://localhost:8080/",
          "height": 1000
        },
        "outputId": "fa1c7699-81c0-41ce-8fc3-0cf3f390b045"
      },
      "source": [
        "# Train model\n",
        "paper_history = paper_model.fit(X_train, y_train,\n",
        "                    batch_size=500,\n",
        "                    epochs=100,\n",
        "                    verbose=1,\n",
        "                    validation_split=0.2, \n",
        "                    shuffle=True)"
      ],
      "execution_count": null,
      "outputs": [
        {
          "output_type": "stream",
          "text": [
            "Epoch 1/100\n",
            "32/32 [==============================] - 1s 20ms/step - loss: 3.3796 - accuracy: 0.0472 - val_loss: 3.3201 - val_accuracy: 0.0983\n",
            "Epoch 2/100\n",
            "32/32 [==============================] - 0s 14ms/step - loss: 3.1955 - accuracy: 0.1105 - val_loss: 2.9264 - val_accuracy: 0.1837\n",
            "Epoch 3/100\n",
            "32/32 [==============================] - 0s 14ms/step - loss: 2.7575 - accuracy: 0.2005 - val_loss: 2.4065 - val_accuracy: 0.3222\n",
            "Epoch 4/100\n",
            "32/32 [==============================] - 0s 14ms/step - loss: 2.3018 - accuracy: 0.3143 - val_loss: 2.0393 - val_accuracy: 0.3994\n",
            "Epoch 5/100\n",
            "32/32 [==============================] - 0s 14ms/step - loss: 2.0255 - accuracy: 0.3742 - val_loss: 1.7910 - val_accuracy: 0.4725\n",
            "Epoch 6/100\n",
            "32/32 [==============================] - 0s 13ms/step - loss: 1.8052 - accuracy: 0.4366 - val_loss: 1.6066 - val_accuracy: 0.5167\n",
            "Epoch 7/100\n",
            "32/32 [==============================] - 0s 13ms/step - loss: 1.6260 - accuracy: 0.4871 - val_loss: 1.4595 - val_accuracy: 0.5674\n",
            "Epoch 8/100\n",
            "32/32 [==============================] - 0s 14ms/step - loss: 1.4950 - accuracy: 0.5282 - val_loss: 1.3290 - val_accuracy: 0.6034\n",
            "Epoch 9/100\n",
            "32/32 [==============================] - 0s 13ms/step - loss: 1.3650 - accuracy: 0.5614 - val_loss: 1.2269 - val_accuracy: 0.6392\n",
            "Epoch 10/100\n",
            "32/32 [==============================] - 0s 14ms/step - loss: 1.2630 - accuracy: 0.6000 - val_loss: 1.1156 - val_accuracy: 0.6706\n",
            "Epoch 11/100\n",
            "32/32 [==============================] - 0s 14ms/step - loss: 1.1709 - accuracy: 0.6211 - val_loss: 1.0281 - val_accuracy: 0.6922\n",
            "Epoch 12/100\n",
            "32/32 [==============================] - 0s 14ms/step - loss: 1.0974 - accuracy: 0.6464 - val_loss: 1.0643 - val_accuracy: 0.6541\n",
            "Epoch 13/100\n",
            "32/32 [==============================] - 0s 14ms/step - loss: 1.0412 - accuracy: 0.6633 - val_loss: 0.9475 - val_accuracy: 0.7059\n",
            "Epoch 14/100\n",
            "32/32 [==============================] - 0s 14ms/step - loss: 0.9757 - accuracy: 0.6859 - val_loss: 0.8946 - val_accuracy: 0.7159\n",
            "Epoch 15/100\n",
            "32/32 [==============================] - 0s 14ms/step - loss: 0.9183 - accuracy: 0.6978 - val_loss: 0.8816 - val_accuracy: 0.7252\n",
            "Epoch 16/100\n",
            "32/32 [==============================] - 0s 14ms/step - loss: 0.8965 - accuracy: 0.7081 - val_loss: 0.8106 - val_accuracy: 0.7481\n",
            "Epoch 17/100\n",
            "32/32 [==============================] - 0s 13ms/step - loss: 0.8412 - accuracy: 0.7249 - val_loss: 0.7467 - val_accuracy: 0.7674\n",
            "Epoch 18/100\n",
            "32/32 [==============================] - 0s 14ms/step - loss: 0.7850 - accuracy: 0.7450 - val_loss: 0.7156 - val_accuracy: 0.7761\n",
            "Epoch 19/100\n",
            "32/32 [==============================] - 0s 14ms/step - loss: 0.7496 - accuracy: 0.7557 - val_loss: 0.6892 - val_accuracy: 0.7810\n",
            "Epoch 20/100\n",
            "32/32 [==============================] - 0s 13ms/step - loss: 0.7098 - accuracy: 0.7688 - val_loss: 0.6954 - val_accuracy: 0.7741\n",
            "Epoch 21/100\n",
            "32/32 [==============================] - 0s 14ms/step - loss: 0.6934 - accuracy: 0.7717 - val_loss: 0.6063 - val_accuracy: 0.8145\n",
            "Epoch 22/100\n",
            "32/32 [==============================] - 0s 14ms/step - loss: 0.6526 - accuracy: 0.7837 - val_loss: 0.5840 - val_accuracy: 0.8237\n",
            "Epoch 23/100\n",
            "32/32 [==============================] - 0s 14ms/step - loss: 0.6461 - accuracy: 0.7824 - val_loss: 0.6100 - val_accuracy: 0.8067\n",
            "Epoch 24/100\n",
            "32/32 [==============================] - 0s 14ms/step - loss: 0.6324 - accuracy: 0.7917 - val_loss: 0.5719 - val_accuracy: 0.8219\n",
            "Epoch 25/100\n",
            "32/32 [==============================] - 0s 14ms/step - loss: 0.5887 - accuracy: 0.8063 - val_loss: 0.5217 - val_accuracy: 0.8379\n",
            "Epoch 26/100\n",
            "32/32 [==============================] - 0s 14ms/step - loss: 0.5527 - accuracy: 0.8192 - val_loss: 0.6434 - val_accuracy: 0.7877\n",
            "Epoch 27/100\n",
            "32/32 [==============================] - 0s 14ms/step - loss: 0.5504 - accuracy: 0.8163 - val_loss: 0.5712 - val_accuracy: 0.8152\n",
            "Epoch 28/100\n",
            "32/32 [==============================] - 0s 14ms/step - loss: 0.5442 - accuracy: 0.8183 - val_loss: 0.5265 - val_accuracy: 0.8327\n",
            "Epoch 29/100\n",
            "32/32 [==============================] - 0s 14ms/step - loss: 0.5096 - accuracy: 0.8298 - val_loss: 0.4642 - val_accuracy: 0.8546\n",
            "Epoch 30/100\n",
            "32/32 [==============================] - 0s 14ms/step - loss: 0.4854 - accuracy: 0.8365 - val_loss: 0.4662 - val_accuracy: 0.8536\n",
            "Epoch 31/100\n",
            "32/32 [==============================] - 0s 14ms/step - loss: 0.4662 - accuracy: 0.8456 - val_loss: 0.4203 - val_accuracy: 0.8760\n",
            "Epoch 32/100\n",
            "32/32 [==============================] - 0s 15ms/step - loss: 0.4547 - accuracy: 0.8506 - val_loss: 0.4413 - val_accuracy: 0.8562\n",
            "Epoch 33/100\n",
            "32/32 [==============================] - 0s 14ms/step - loss: 0.4472 - accuracy: 0.8504 - val_loss: 0.4103 - val_accuracy: 0.8700\n",
            "Epoch 34/100\n",
            "32/32 [==============================] - 0s 14ms/step - loss: 0.4277 - accuracy: 0.8559 - val_loss: 0.4054 - val_accuracy: 0.8749\n",
            "Epoch 35/100\n",
            "32/32 [==============================] - 0s 14ms/step - loss: 0.4241 - accuracy: 0.8589 - val_loss: 0.3907 - val_accuracy: 0.8798\n",
            "Epoch 36/100\n",
            "32/32 [==============================] - 0s 13ms/step - loss: 0.4011 - accuracy: 0.8657 - val_loss: 0.3707 - val_accuracy: 0.8845\n",
            "Epoch 37/100\n",
            "32/32 [==============================] - 0s 14ms/step - loss: 0.3883 - accuracy: 0.8723 - val_loss: 0.4004 - val_accuracy: 0.8621\n",
            "Epoch 38/100\n",
            "32/32 [==============================] - 0s 14ms/step - loss: 0.3930 - accuracy: 0.8665 - val_loss: 0.4115 - val_accuracy: 0.8618\n",
            "Epoch 39/100\n",
            "32/32 [==============================] - 0s 14ms/step - loss: 0.3843 - accuracy: 0.8708 - val_loss: 0.3703 - val_accuracy: 0.8837\n",
            "Epoch 40/100\n",
            "32/32 [==============================] - 0s 14ms/step - loss: 0.3642 - accuracy: 0.8785 - val_loss: 0.3614 - val_accuracy: 0.8850\n",
            "Epoch 41/100\n",
            "32/32 [==============================] - 0s 14ms/step - loss: 0.3510 - accuracy: 0.8809 - val_loss: 0.3289 - val_accuracy: 0.8911\n",
            "Epoch 42/100\n",
            "32/32 [==============================] - 0s 14ms/step - loss: 0.3308 - accuracy: 0.8911 - val_loss: 0.3665 - val_accuracy: 0.8762\n",
            "Epoch 43/100\n",
            "32/32 [==============================] - 0s 14ms/step - loss: 0.3500 - accuracy: 0.8834 - val_loss: 0.3179 - val_accuracy: 0.8984\n",
            "Epoch 44/100\n",
            "32/32 [==============================] - 0s 14ms/step - loss: 0.3193 - accuracy: 0.8951 - val_loss: 0.3158 - val_accuracy: 0.9007\n",
            "Epoch 45/100\n",
            "32/32 [==============================] - 0s 14ms/step - loss: 0.3202 - accuracy: 0.8928 - val_loss: 0.3130 - val_accuracy: 0.9012\n",
            "Epoch 46/100\n",
            "32/32 [==============================] - 0s 14ms/step - loss: 0.3236 - accuracy: 0.8929 - val_loss: 0.3480 - val_accuracy: 0.8881\n",
            "Epoch 47/100\n",
            "32/32 [==============================] - 0s 14ms/step - loss: 0.3171 - accuracy: 0.8941 - val_loss: 0.3085 - val_accuracy: 0.8996\n",
            "Epoch 48/100\n",
            "32/32 [==============================] - 0s 13ms/step - loss: 0.2981 - accuracy: 0.9020 - val_loss: 0.2974 - val_accuracy: 0.9074\n",
            "Epoch 49/100\n",
            "32/32 [==============================] - 0s 14ms/step - loss: 0.3088 - accuracy: 0.8933 - val_loss: 0.3269 - val_accuracy: 0.8963\n",
            "Epoch 50/100\n",
            "32/32 [==============================] - 0s 14ms/step - loss: 0.3201 - accuracy: 0.8919 - val_loss: 0.3098 - val_accuracy: 0.8978\n",
            "Epoch 51/100\n",
            "32/32 [==============================] - 0s 14ms/step - loss: 0.2803 - accuracy: 0.9067 - val_loss: 0.2902 - val_accuracy: 0.9115\n",
            "Epoch 52/100\n",
            "32/32 [==============================] - 0s 13ms/step - loss: 0.2671 - accuracy: 0.9122 - val_loss: 0.2670 - val_accuracy: 0.9182\n",
            "Epoch 53/100\n",
            "32/32 [==============================] - 0s 14ms/step - loss: 0.2669 - accuracy: 0.9114 - val_loss: 0.2809 - val_accuracy: 0.9120\n",
            "Epoch 54/100\n",
            "32/32 [==============================] - 0s 14ms/step - loss: 0.2554 - accuracy: 0.9171 - val_loss: 0.2524 - val_accuracy: 0.9161\n",
            "Epoch 55/100\n",
            "32/32 [==============================] - 0s 14ms/step - loss: 0.2564 - accuracy: 0.9148 - val_loss: 0.2574 - val_accuracy: 0.9223\n",
            "Epoch 56/100\n",
            "32/32 [==============================] - 0s 14ms/step - loss: 0.2463 - accuracy: 0.9191 - val_loss: 0.3118 - val_accuracy: 0.9009\n",
            "Epoch 57/100\n",
            "32/32 [==============================] - 0s 14ms/step - loss: 0.2615 - accuracy: 0.9119 - val_loss: 0.2559 - val_accuracy: 0.9153\n",
            "Epoch 58/100\n",
            "32/32 [==============================] - 0s 14ms/step - loss: 0.2378 - accuracy: 0.9191 - val_loss: 0.2492 - val_accuracy: 0.9200\n",
            "Epoch 59/100\n",
            "32/32 [==============================] - 0s 14ms/step - loss: 0.2289 - accuracy: 0.9236 - val_loss: 0.2255 - val_accuracy: 0.9328\n",
            "Epoch 60/100\n",
            "32/32 [==============================] - 0s 14ms/step - loss: 0.2222 - accuracy: 0.9247 - val_loss: 0.2412 - val_accuracy: 0.9238\n",
            "Epoch 61/100\n",
            "32/32 [==============================] - 0s 14ms/step - loss: 0.2541 - accuracy: 0.9117 - val_loss: 0.2685 - val_accuracy: 0.9122\n",
            "Epoch 62/100\n",
            "32/32 [==============================] - 0s 14ms/step - loss: 0.2191 - accuracy: 0.9282 - val_loss: 0.2292 - val_accuracy: 0.9279\n",
            "Epoch 63/100\n",
            "32/32 [==============================] - 0s 14ms/step - loss: 0.2167 - accuracy: 0.9266 - val_loss: 0.2238 - val_accuracy: 0.9285\n",
            "Epoch 64/100\n",
            "32/32 [==============================] - 0s 14ms/step - loss: 0.2037 - accuracy: 0.9323 - val_loss: 0.2348 - val_accuracy: 0.9241\n",
            "Epoch 65/100\n",
            "32/32 [==============================] - 0s 14ms/step - loss: 0.1966 - accuracy: 0.9339 - val_loss: 0.2046 - val_accuracy: 0.9395\n",
            "Epoch 66/100\n",
            "32/32 [==============================] - 0s 13ms/step - loss: 0.1919 - accuracy: 0.9369 - val_loss: 0.2325 - val_accuracy: 0.9269\n",
            "Epoch 67/100\n",
            "32/32 [==============================] - 0s 14ms/step - loss: 0.1989 - accuracy: 0.9337 - val_loss: 0.2403 - val_accuracy: 0.9207\n",
            "Epoch 68/100\n",
            "32/32 [==============================] - 0s 14ms/step - loss: 0.1970 - accuracy: 0.9366 - val_loss: 0.2112 - val_accuracy: 0.9364\n",
            "Epoch 69/100\n",
            "32/32 [==============================] - 0s 14ms/step - loss: 0.1849 - accuracy: 0.9388 - val_loss: 0.2244 - val_accuracy: 0.9259\n",
            "Epoch 70/100\n",
            "32/32 [==============================] - 0s 14ms/step - loss: 0.2012 - accuracy: 0.9323 - val_loss: 0.1966 - val_accuracy: 0.9408\n",
            "Epoch 71/100\n",
            "32/32 [==============================] - 0s 14ms/step - loss: 0.1692 - accuracy: 0.9460 - val_loss: 0.2204 - val_accuracy: 0.9272\n",
            "Epoch 72/100\n",
            "32/32 [==============================] - 0s 14ms/step - loss: 0.1761 - accuracy: 0.9413 - val_loss: 0.2136 - val_accuracy: 0.9326\n",
            "Epoch 73/100\n",
            "32/32 [==============================] - 0s 14ms/step - loss: 0.1828 - accuracy: 0.9383 - val_loss: 0.1926 - val_accuracy: 0.9367\n",
            "Epoch 74/100\n",
            "32/32 [==============================] - 0s 14ms/step - loss: 0.1716 - accuracy: 0.9426 - val_loss: 0.2153 - val_accuracy: 0.9292\n",
            "Epoch 75/100\n",
            "32/32 [==============================] - 0s 14ms/step - loss: 0.1790 - accuracy: 0.9392 - val_loss: 0.2085 - val_accuracy: 0.9303\n",
            "Epoch 76/100\n",
            "32/32 [==============================] - 0s 14ms/step - loss: 0.1954 - accuracy: 0.9308 - val_loss: 0.1877 - val_accuracy: 0.9406\n",
            "Epoch 77/100\n",
            "32/32 [==============================] - 0s 14ms/step - loss: 0.1575 - accuracy: 0.9492 - val_loss: 0.1940 - val_accuracy: 0.9370\n",
            "Epoch 78/100\n",
            "32/32 [==============================] - 0s 14ms/step - loss: 0.1592 - accuracy: 0.9469 - val_loss: 0.1823 - val_accuracy: 0.9470\n",
            "Epoch 79/100\n",
            "32/32 [==============================] - 0s 13ms/step - loss: 0.1484 - accuracy: 0.9496 - val_loss: 0.1697 - val_accuracy: 0.9493\n",
            "Epoch 80/100\n",
            "32/32 [==============================] - 0s 14ms/step - loss: 0.1443 - accuracy: 0.9521 - val_loss: 0.1808 - val_accuracy: 0.9449\n",
            "Epoch 81/100\n",
            "32/32 [==============================] - 0s 14ms/step - loss: 0.1424 - accuracy: 0.9541 - val_loss: 0.2036 - val_accuracy: 0.9382\n",
            "Epoch 82/100\n",
            "32/32 [==============================] - 0s 14ms/step - loss: 0.1496 - accuracy: 0.9481 - val_loss: 0.1829 - val_accuracy: 0.9457\n",
            "Epoch 83/100\n",
            "32/32 [==============================] - 0s 14ms/step - loss: 0.1373 - accuracy: 0.9552 - val_loss: 0.1943 - val_accuracy: 0.9403\n",
            "Epoch 84/100\n",
            "32/32 [==============================] - 0s 14ms/step - loss: 0.1531 - accuracy: 0.9482 - val_loss: 0.1813 - val_accuracy: 0.9413\n",
            "Epoch 85/100\n",
            "32/32 [==============================] - 0s 14ms/step - loss: 0.1391 - accuracy: 0.9548 - val_loss: 0.1775 - val_accuracy: 0.9413\n",
            "Epoch 86/100\n",
            "32/32 [==============================] - 0s 14ms/step - loss: 0.1408 - accuracy: 0.9535 - val_loss: 0.1665 - val_accuracy: 0.9498\n",
            "Epoch 87/100\n",
            "32/32 [==============================] - 0s 14ms/step - loss: 0.1254 - accuracy: 0.9590 - val_loss: 0.1660 - val_accuracy: 0.9444\n",
            "Epoch 88/100\n",
            "32/32 [==============================] - 0s 14ms/step - loss: 0.1294 - accuracy: 0.9595 - val_loss: 0.1548 - val_accuracy: 0.9547\n",
            "Epoch 89/100\n",
            "32/32 [==============================] - 0s 14ms/step - loss: 0.1210 - accuracy: 0.9629 - val_loss: 0.1473 - val_accuracy: 0.9550\n",
            "Epoch 90/100\n",
            "32/32 [==============================] - 0s 14ms/step - loss: 0.1228 - accuracy: 0.9591 - val_loss: 0.1953 - val_accuracy: 0.9385\n",
            "Epoch 91/100\n",
            "32/32 [==============================] - 0s 14ms/step - loss: 0.1265 - accuracy: 0.9590 - val_loss: 0.1729 - val_accuracy: 0.9454\n",
            "Epoch 92/100\n",
            "32/32 [==============================] - 0s 14ms/step - loss: 0.1313 - accuracy: 0.9586 - val_loss: 0.1599 - val_accuracy: 0.9496\n",
            "Epoch 93/100\n",
            "32/32 [==============================] - 0s 13ms/step - loss: 0.1318 - accuracy: 0.9541 - val_loss: 0.2851 - val_accuracy: 0.9143\n",
            "Epoch 94/100\n",
            "32/32 [==============================] - 0s 14ms/step - loss: 0.1418 - accuracy: 0.9533 - val_loss: 0.1509 - val_accuracy: 0.9534\n",
            "Epoch 95/100\n",
            "32/32 [==============================] - 0s 14ms/step - loss: 0.1093 - accuracy: 0.9658 - val_loss: 0.1445 - val_accuracy: 0.9545\n",
            "Epoch 96/100\n",
            "32/32 [==============================] - 0s 14ms/step - loss: 0.1077 - accuracy: 0.9632 - val_loss: 0.1544 - val_accuracy: 0.9529\n",
            "Epoch 97/100\n",
            "32/32 [==============================] - 0s 14ms/step - loss: 0.1193 - accuracy: 0.9590 - val_loss: 0.1463 - val_accuracy: 0.9552\n",
            "Epoch 98/100\n",
            "32/32 [==============================] - 0s 14ms/step - loss: 0.1165 - accuracy: 0.9611 - val_loss: 0.1515 - val_accuracy: 0.9524\n",
            "Epoch 99/100\n",
            "32/32 [==============================] - 0s 14ms/step - loss: 0.1397 - accuracy: 0.9534 - val_loss: 0.1700 - val_accuracy: 0.9465\n",
            "Epoch 100/100\n",
            "32/32 [==============================] - 0s 14ms/step - loss: 0.1083 - accuracy: 0.9637 - val_loss: 0.1461 - val_accuracy: 0.9508\n"
          ],
          "name": "stdout"
        }
      ]
    },
    {
      "cell_type": "markdown",
      "metadata": {
        "id": "LUCKQEKePHPd",
        "colab_type": "text"
      },
      "source": [
        "*Na sledećem zajedničkom grafiku je prikazana funkcija gubitka na skupu za treniranje i validaciju, a potom i funkcija preciznosti.*"
      ]
    },
    {
      "cell_type": "code",
      "metadata": {
        "id": "ThoWY61PNayM",
        "colab_type": "code",
        "colab": {}
      },
      "source": [
        "plot_loss_accuracy(50, paper_history)"
      ],
      "execution_count": null,
      "outputs": []
    },
    {
      "cell_type": "markdown",
      "metadata": {
        "id": "03yixKaoPInN",
        "colab_type": "text"
      },
      "source": [
        "**TODO**"
      ]
    },
    {
      "cell_type": "code",
      "metadata": {
        "id": "PocJ2jw7NeJ8",
        "colab_type": "code",
        "colab": {}
      },
      "source": [
        "show_classification_report(paper_model, X_test, y_test)"
      ],
      "execution_count": null,
      "outputs": []
    },
    {
      "cell_type": "code",
      "metadata": {
        "id": "5dZonTRYMgE7",
        "colab_type": "code",
        "colab": {
          "base_uri": "https://localhost:8080/",
          "height": 51
        },
        "outputId": "57f8244c-9cbb-4453-b515-fa67f94f2a10"
      },
      "source": [
        "# Evaluate model\n",
        "score = paper_model.evaluate(X_test, y_test, verbose=0)\n",
        "print('Test loss:', score[0])\n",
        "print('Test accuracy:', score[1])"
      ],
      "execution_count": null,
      "outputs": [
        {
          "output_type": "stream",
          "text": [
            "Test loss: 0.15175390243530273\n",
            "Test accuracy: 0.9547544121742249\n"
          ],
          "name": "stdout"
        }
      ]
    },
    {
      "cell_type": "markdown",
      "metadata": {
        "id": "fXZUrMWKW9e3",
        "colab_type": "text"
      },
      "source": [
        "**VGG16 model**  \n",
        "Sledeći pokušaj rešavanja datog problema je bio uz pomoć arhitekture VGG16 mreže. Korišćena je neuronska mreža sa propagacijom unapred, gde se dodaju sledeći slojevi:  \n",
        "**1 sloj:** Konvolucioni sloj sa *64* filtera, kernelom veličine *3x3*, okvirenjem tako da veličina izlazne slike može biti istih dimenzija i *ReLu* aktivacionom funkcijom.  \n",
        "**2 sloj:** Kao i prvi sloj.  \n",
        "**3 sloj:** Agregacioni sloj koji vrši redukciju slojeva svođenjem blokova zadatih večina na njihove maksimalne vrednosti, veličinom bloka *2x2*, veličinom pomeraja *2x2*.  \n",
        "**4 sloj:** Konvolucioni sloj sa *128* filtera, kernelom veličine *3x3*, okvirenjem tako da veličina izlazne slike može biti istih dimenzija i *ReLu* aktivacionom funkcijom.  \n",
        "**5 sloj:** Kao i četvrti sloj.   \n",
        "**6 sloj:** Kao i treći sloj.     \n",
        "**7 sloj:** Konvolucioni sloj sa *256* filtera, kernelom veličine *3x3*, okvirenjem tako da veličina izlazne slike može biti istih dimenzija i *ReLu* aktivacionom funkcijom.  \n",
        "**8 sloj:** Kao i sedmi sloj.  \n",
        "**9 sloj:** Kao i sedmi sloj.  \n",
        "**10 sloj:** Konvolucioni sloj sa *512* filtera, kernelom veličine *3x3*, okvirenjem tako da veličina izlazne slike može biti istih dimenzija i *ReLu* aktivacionom funkcijom.  \n",
        "**11 sloj:** Kao i deseti sloj.  \n",
        "**12 sloj:** Kao i deseti sloj.\n",
        "**13 sloj:** Kao i treći sloj.  \n",
        "**14 sloj:** Kao i deseti sloj.  \n",
        "**15 sloj:** Kao i deseti sloj.  \n",
        "**16 sloj:** Kao i deseti sloj.  \n",
        "**17 sloj:** Kao i treći sloj.  \n",
        "Zatim funkcija koja se koristi za transformisanje matrica u vektore *Flatten*.  \n",
        "**18 sloj:** Potpuno povezan sloj sa brojem izlaznih neurona *4096* i *ReLu* aktivacionom funkcijom. \n",
        "**19 sloj:** Kao i 18. sloj.  \n",
        "**20 sloj:** Potpuno povezan sloj sa brojem izlaznih neurona *30* i *softmax* aktivacionom funkcijom. \n"
      ]
    },
    {
      "cell_type": "code",
      "metadata": {
        "id": "hFDwLlWkW8yo",
        "colab_type": "code",
        "colab": {}
      },
      "source": [
        "# VGG16 model\n",
        "vgg16_model = Sequential()\n",
        "\n",
        "vgg16_model.add(Conv2D(input_shape=(200,200,3), filters=64, kernel_size=(3,3), padding=\"same\", activation=\"relu\"))\n",
        "vgg16_model.add(Conv2D(filters=64, kernel_size=(3,3), padding=\"same\", activation=\"relu\"))\n",
        "vgg16_model.add(MaxPooling2D(pool_size=(2,2), strides=(2,2)))\n",
        "vgg16_model.add(Conv2D(filters=128, kernel_size=(3,3), padding=\"same\", activation=\"relu\"))\n",
        "vgg16_model.add(Conv2D(filters=128, kernel_size=(3,3), padding=\"same\", activation=\"relu\"))\n",
        "vgg16_model.add(MaxPooling2D(pool_size=(2,2), strides=(2,2)))\n",
        "vgg16_model.add(Conv2D(filters=256, kernel_size=(3,3), padding=\"same\", activation=\"relu\"))\n",
        "vgg16_model.add(Conv2D(filters=256, kernel_size=(3,3), padding=\"same\", activation=\"relu\"))\n",
        "vgg16_model.add(Conv2D(filters=256, kernel_size=(3,3), padding=\"same\", activation=\"relu\"))\n",
        "vgg16_model.add(MaxPooling2D(pool_size=(2,2), strides=(2,2)))\n",
        "vgg16_model.add(Conv2D(filters=512, kernel_size=(3,3), padding=\"same\", activation=\"relu\"))\n",
        "vgg16_model.add(Conv2D(filters=512, kernel_size=(3,3), padding=\"same\", activation=\"relu\"))\n",
        "vgg16_model.add(Conv2D(filters=512, kernel_size=(3,3), padding=\"same\", activation=\"relu\"))\n",
        "vgg16_model.add(MaxPooling2D(pool_size=(2,2), strides=(2,2)))\n",
        "vgg16_model.add(Conv2D(filters=512, kernel_size=(3,3), padding=\"same\", activation=\"relu\"))\n",
        "vgg16_model.add(Conv2D(filters=512, kernel_size=(3,3), padding=\"same\", activation=\"relu\"))\n",
        "vgg16_model.add(Conv2D(filters=512, kernel_size=(3,3), padding=\"same\", activation=\"relu\"))\n",
        "vgg16_model.add(MaxPooling2D(pool_size=(2,2), strides=(2,2)))\n",
        "\n",
        "vgg16_model.add(Flatten())\n",
        "vgg16_model.add(Dense(units=4096, activation=\"relu\"))\n",
        "vgg16_model.add(Dense(units=4096, activation=\"relu\"))\n",
        "vgg16_model.add(Dense(units=numOfClasses, activation=\"softmax\"))"
      ],
      "execution_count": null,
      "outputs": []
    },
    {
      "cell_type": "code",
      "metadata": {
        "id": "nFyRQ8KMZ296",
        "colab_type": "code",
        "colab": {}
      },
      "source": [
        "# Model summary per layers\n",
        "vgg16_model.summary()"
      ],
      "execution_count": null,
      "outputs": []
    },
    {
      "cell_type": "markdown",
      "metadata": {
        "id": "nJr1es1UaJe3",
        "colab_type": "text"
      },
      "source": [
        "**Mrežu ćemo trenirati prema sledećim smernicama:**  \n",
        "*Funkcija greške*: Kategorička unakrsna entropija  \n",
        "*Optimizator*: Adam sa korakom učenja **0.001**   \n",
        "*Broj epoha*: **100**  \n",
        "*Veličina paketića za treniranje* (engl. batch size): **128**  \n",
        "\n",
        "Za evaluaciju mreže koristimo **preciznost**."
      ]
    },
    {
      "cell_type": "code",
      "metadata": {
        "id": "lrSNem6yaJrp",
        "colab_type": "code",
        "colab": {}
      },
      "source": [
        "vgg16_model.compile(loss='categorical_crossentropy', optimizer=optimizers.Adam(learning_rate=0.001), metrics=['accuracy'])"
      ],
      "execution_count": null,
      "outputs": []
    },
    {
      "cell_type": "code",
      "metadata": {
        "id": "GiEIFhPkaRhg",
        "colab_type": "code",
        "colab": {}
      },
      "source": [
        "vgg16_history = vgg16_model.fit(X_train, y_train,\n",
        "                    batch_size=128,\n",
        "                    epochs=100,\n",
        "                    verbose=1,\n",
        "                    validation_split=0.2, \n",
        "                    shuffle=True)"
      ],
      "execution_count": null,
      "outputs": []
    },
    {
      "cell_type": "markdown",
      "metadata": {
        "id": "AWMQuu4dajyW",
        "colab_type": "text"
      },
      "source": [
        "*Na sledećem zajedničkom grafiku je prikazana funkcija gubitka na skupu za treniranje i validaciju, a potom i funkcija preciznosti.*\n"
      ]
    },
    {
      "cell_type": "code",
      "metadata": {
        "id": "KQ_aBdqMai--",
        "colab_type": "code",
        "colab": {}
      },
      "source": [
        "plot_loss_accuracy(100, vgg16_history)"
      ],
      "execution_count": null,
      "outputs": []
    },
    {
      "cell_type": "markdown",
      "metadata": {
        "id": "qKxyINCnar1J",
        "colab_type": "text"
      },
      "source": [
        "**TODO**"
      ]
    },
    {
      "cell_type": "code",
      "metadata": {
        "id": "Obx9gj76at5S",
        "colab_type": "code",
        "colab": {}
      },
      "source": [
        "show_classification_report(vgg16_model, X_test, y_test)"
      ],
      "execution_count": null,
      "outputs": []
    },
    {
      "cell_type": "code",
      "metadata": {
        "id": "eJBL411jaxY1",
        "colab_type": "code",
        "colab": {}
      },
      "source": [
        "# Evaluate model\n",
        "score = vgg16_model.evaluate(X_test, y_test, verbose=0)\n",
        "print('Test loss:', score[0])\n",
        "print('Test accuracy:', score[1])"
      ],
      "execution_count": null,
      "outputs": []
    },
    {
      "cell_type": "markdown",
      "metadata": {
        "id": "AVajeI9Cbndr",
        "colab_type": "text"
      },
      "source": [
        "**AlexNet model**  \n",
        "TODO : OPET OVO ISPISATI - KORISTI SAJT\n",
        "Sledeći pokušaj rešavanja datog problema je bio uz pomoć arhitekture AlexNet mreže. Korišćena je neuronska mreža sa propagacijom unapred, gde se dodaju sledeći slojevi:  \n",
        "**1 sloj:** Konvolucioni sloj sa *96* filtera, kernelom veličine *11x11*, veličinom pomeraja *4x4* i *ReLu* aktivacionom funkcijom.  \n",
        "**2 sloj:** Agregacioni sloj koji vrši redukciju slojeva svođenjem blokova zadatih večina na njihove maksimalne vrednosti, veličinom bloka *2x2*, veličinom pomeraja *2x2*.  \n",
        "**3 sloj:** Konvolucioni sloj sa *256* filtera, kernelom veličine *11x11*, veličinom pomeraja *1x1* i *ReLu* aktivacionom funkcijom.  \n",
        "**4 sloj:** Kao i drugi sloj.  \n",
        "**5 sloj:** Konvolucioni sloj sa *384* filtera, kernelom veličine *3x3*, veličinom pomeraja *1x1* i *ReLu* aktivacionom funkcijom.   \n",
        "**6 sloj:** Kao i peti sloj.  \n",
        "**7 sloj:** Konvolucioni sloj sa *256* filtera, kernelom veličine *3x3*, veličinom pomeraja *1x1* i *ReLu* aktivacionom funkcijom.   \n",
        "**8 sloj:** Kao i peti sloj.  \n",
        "Zatim funkcija koja se koristi za transformisanje matrica u vektore *Flatten*.   \n",
        "**9 sloj:** Potpuno povezan sloj sa brojem izlaznih neurona *4096* i *ReLu* aktivacionom funkcijom.   \n",
        "Zatim funkcija koja se koristi da ne bi došlo do preprilagođavanja podataka *Dropout*.  \n",
        "**10 sloj:** Potpuno povezan sloj sa brojem izlaznih neurona *4096* i *ReLu* aktivacionom funkcijom.   \n",
        "Zatim funkcija koja se koristi da ne bi došlo do preprilagođavanja podataka *Dropout*.  \n",
        "**11 sloj:** Potpuno povezan sloj sa brojem izlaznih neurona *1000* i *ReLu* aktivacionom funkcijom.   \n",
        "Zatim funkcija koja se koristi da ne bi došlo do preprilagođavanja podataka *Dropout*.  \n",
        "**12 sloj:** Potpuno povezan sloj sa brojem izlaznih neurona *30* i *softmax* aktivacionom funkcijom.  \n"
      ]
    },
    {
      "cell_type": "code",
      "metadata": {
        "id": "GD_A_JBGmTOl",
        "colab_type": "code",
        "colab": {}
      },
      "source": [
        "# NOVI ALEXNET MODEL\n",
        "\n",
        "alexnet_model = Sequential()\n",
        "alexnet_model.add(Conv2D(filters=96, input_shape=(50,50,3), kernel_size=(11,11), strides=(4,4), padding='same'))\n",
        "alexnet_model.add(BatchNormalization())\n",
        "alexnet_model.add(Activation('relu'))\n",
        "alexnet_model.add(MaxPooling2D(pool_size=(2,2), strides=(2,2), padding='same'))\n",
        "\n",
        "alexnet_model.add(Conv2D(filters=256, kernel_size=(5, 5), strides=(1,1), padding='same'))\n",
        "alexnet_model.add(BatchNormalization())\n",
        "alexnet_model.add(Activation('relu'))\n",
        "alexnet_model.add(MaxPooling2D(pool_size=(2,2), strides=(2,2), padding='same'))\n",
        "\n",
        "alexnet_model.add(Conv2D(filters=384, kernel_size=(3,3), strides=(1,1), padding='same'))\n",
        "alexnet_model.add(BatchNormalization())\n",
        "alexnet_model.add(Activation('relu'))\n",
        "\n",
        "alexnet_model.add(Conv2D(filters=384, kernel_size=(3,3), strides=(1,1), padding='same'))\n",
        "alexnet_model.add(BatchNormalization())\n",
        "alexnet_model.add(Activation('relu'))\n",
        "\n",
        "alexnet_model.add(Conv2D(filters=256, kernel_size=(3,3), strides=(1,1), padding='same'))\n",
        "alexnet_model.add(BatchNormalization())\n",
        "alexnet_model.add(Activation('relu'))\n",
        "alexnet_model.add(MaxPooling2D(pool_size=(2,2), strides=(2,2), padding='same'))\n",
        "\n",
        "alexnet_model.add(Flatten())\n",
        "alexnet_model.add(Dense(4096, input_shape=(50,50,3)))\n",
        "alexnet_model.add(BatchNormalization())\n",
        "alexnet_model.add(Activation('relu'))\n",
        "alexnet_model.add(Dropout(0.4))\n",
        "alexnet_model.add(Dense(4096))\n",
        "alexnet_model.add(BatchNormalization())\n",
        "alexnet_model.add(Activation('relu'))\n",
        "alexnet_model.add(Dropout(0.4))\n",
        "\n",
        "alexnet_model.add(Dense(1000))\n",
        "alexnet_model.add(BatchNormalization())\n",
        "alexnet_model.add(Activation('relu'))\n",
        "alexnet_model.add(Dropout(0.4))\n",
        "\n",
        "alexnet_model.add(Dense(numOfClasses))\n",
        "alexnet_model.add(BatchNormalization())\n",
        "alexnet_model.add(Activation('softmax'))"
      ],
      "execution_count": 91,
      "outputs": []
    },
    {
      "cell_type": "code",
      "metadata": {
        "id": "3wBPFFo19fA6",
        "colab_type": "code",
        "colab": {
          "base_uri": "https://localhost:8080/",
          "height": 1000
        },
        "outputId": "76f97549-08da-45ec-9a51-61ab03b95d4b"
      },
      "source": [
        "alexnet_model.summary()\n",
        "alexnet_model.compile(loss='categorical_crossentropy', optimizer=optimizers.Adam(learning_rate=0.001), metrics=['accuracy'])\n"
      ],
      "execution_count": 92,
      "outputs": [
        {
          "output_type": "stream",
          "text": [
            "Model: \"sequential_21\"\n",
            "_________________________________________________________________\n",
            "Layer (type)                 Output Shape              Param #   \n",
            "=================================================================\n",
            "conv2d_93 (Conv2D)           (None, 13, 13, 96)        34944     \n",
            "_________________________________________________________________\n",
            "batch_normalization_163 (Bat (None, 13, 13, 96)        384       \n",
            "_________________________________________________________________\n",
            "activation_162 (Activation)  (None, 13, 13, 96)        0         \n",
            "_________________________________________________________________\n",
            "max_pooling2d_54 (MaxPooling (None, 7, 7, 96)          0         \n",
            "_________________________________________________________________\n",
            "conv2d_94 (Conv2D)           (None, 7, 7, 256)         614656    \n",
            "_________________________________________________________________\n",
            "batch_normalization_164 (Bat (None, 7, 7, 256)         1024      \n",
            "_________________________________________________________________\n",
            "activation_163 (Activation)  (None, 7, 7, 256)         0         \n",
            "_________________________________________________________________\n",
            "max_pooling2d_55 (MaxPooling (None, 4, 4, 256)         0         \n",
            "_________________________________________________________________\n",
            "conv2d_95 (Conv2D)           (None, 4, 4, 384)         885120    \n",
            "_________________________________________________________________\n",
            "batch_normalization_165 (Bat (None, 4, 4, 384)         1536      \n",
            "_________________________________________________________________\n",
            "activation_164 (Activation)  (None, 4, 4, 384)         0         \n",
            "_________________________________________________________________\n",
            "conv2d_96 (Conv2D)           (None, 4, 4, 384)         1327488   \n",
            "_________________________________________________________________\n",
            "batch_normalization_166 (Bat (None, 4, 4, 384)         1536      \n",
            "_________________________________________________________________\n",
            "activation_165 (Activation)  (None, 4, 4, 384)         0         \n",
            "_________________________________________________________________\n",
            "conv2d_97 (Conv2D)           (None, 4, 4, 256)         884992    \n",
            "_________________________________________________________________\n",
            "batch_normalization_167 (Bat (None, 4, 4, 256)         1024      \n",
            "_________________________________________________________________\n",
            "activation_166 (Activation)  (None, 4, 4, 256)         0         \n",
            "_________________________________________________________________\n",
            "max_pooling2d_56 (MaxPooling (None, 2, 2, 256)         0         \n",
            "_________________________________________________________________\n",
            "flatten_18 (Flatten)         (None, 1024)              0         \n",
            "_________________________________________________________________\n",
            "dense_72 (Dense)             (None, 4096)              4198400   \n",
            "_________________________________________________________________\n",
            "batch_normalization_168 (Bat (None, 4096)              16384     \n",
            "_________________________________________________________________\n",
            "activation_167 (Activation)  (None, 4096)              0         \n",
            "_________________________________________________________________\n",
            "dropout_54 (Dropout)         (None, 4096)              0         \n",
            "_________________________________________________________________\n",
            "dense_73 (Dense)             (None, 4096)              16781312  \n",
            "_________________________________________________________________\n",
            "batch_normalization_169 (Bat (None, 4096)              16384     \n",
            "_________________________________________________________________\n",
            "activation_168 (Activation)  (None, 4096)              0         \n",
            "_________________________________________________________________\n",
            "dropout_55 (Dropout)         (None, 4096)              0         \n",
            "_________________________________________________________________\n",
            "dense_74 (Dense)             (None, 1000)              4097000   \n",
            "_________________________________________________________________\n",
            "batch_normalization_170 (Bat (None, 1000)              4000      \n",
            "_________________________________________________________________\n",
            "activation_169 (Activation)  (None, 1000)              0         \n",
            "_________________________________________________________________\n",
            "dropout_56 (Dropout)         (None, 1000)              0         \n",
            "_________________________________________________________________\n",
            "dense_75 (Dense)             (None, 30)                30030     \n",
            "_________________________________________________________________\n",
            "batch_normalization_171 (Bat (None, 30)                120       \n",
            "_________________________________________________________________\n",
            "activation_170 (Activation)  (None, 30)                0         \n",
            "=================================================================\n",
            "Total params: 28,896,334\n",
            "Trainable params: 28,875,138\n",
            "Non-trainable params: 21,196\n",
            "_________________________________________________________________\n"
          ],
          "name": "stdout"
        }
      ]
    },
    {
      "cell_type": "markdown",
      "metadata": {
        "id": "FEF_0CHJfEuY",
        "colab_type": "text"
      },
      "source": [
        "**Mrežu ćemo trenirati prema sledećim smernicama:**  \n",
        "*Funkcija greške*: Kategorička unakrsna entropija  \n",
        "*Optimizator*: Adam sa korakom učenja **0.001**   \n",
        "*Broj epoha*: **100**  \n",
        "*Veličina paketića za treniranje* (engl. batch size): **128**  \n",
        "\n",
        "Za evaluaciju mreže koristimo **preciznost**."
      ]
    },
    {
      "cell_type": "code",
      "metadata": {
        "id": "_RoxVfmhfG6b",
        "colab_type": "code",
        "colab": {}
      },
      "source": [
        "alexnet_model.compile(loss='categorical_crossentropy', optimizer=optimizers.Adam(learning_rate=0.001), metrics=['accuracy'])"
      ],
      "execution_count": 93,
      "outputs": []
    },
    {
      "cell_type": "code",
      "metadata": {
        "id": "lwrOm_N4ftQP",
        "colab_type": "code",
        "colab": {
          "base_uri": "https://localhost:8080/",
          "height": 1000
        },
        "outputId": "33afe6fa-e9b5-469a-dc78-4b7583e055fe"
      },
      "source": [
        "alex_history_new = alexnet_model.fit(X_train, y_train,\n",
        "                    batch_size=128,\n",
        "                    epochs=100,\n",
        "                    verbose=1,\n",
        "                    validation_split=0.2, \n",
        "                    shuffle=True)"
      ],
      "execution_count": 94,
      "outputs": [
        {
          "output_type": "stream",
          "text": [
            "Epoch 1/100\n",
            "122/122 [==============================] - 4s 32ms/step - loss: 2.3693 - accuracy: 0.3154 - val_loss: 3.5502 - val_accuracy: 0.0921\n",
            "Epoch 2/100\n",
            "122/122 [==============================] - 4s 29ms/step - loss: 1.3624 - accuracy: 0.6271 - val_loss: 4.9184 - val_accuracy: 0.1336\n",
            "Epoch 3/100\n",
            "122/122 [==============================] - 4s 29ms/step - loss: 0.8654 - accuracy: 0.7771 - val_loss: 3.0107 - val_accuracy: 0.3080\n",
            "Epoch 4/100\n",
            "122/122 [==============================] - 4s 29ms/step - loss: 0.5935 - accuracy: 0.8573 - val_loss: 1.9894 - val_accuracy: 0.4738\n",
            "Epoch 5/100\n",
            "122/122 [==============================] - 4s 29ms/step - loss: 0.4315 - accuracy: 0.8991 - val_loss: 1.6989 - val_accuracy: 0.5497\n",
            "Epoch 6/100\n",
            "122/122 [==============================] - 4s 30ms/step - loss: 0.3501 - accuracy: 0.9208 - val_loss: 1.4555 - val_accuracy: 0.6227\n",
            "Epoch 7/100\n",
            "122/122 [==============================] - 4s 30ms/step - loss: 0.2798 - accuracy: 0.9390 - val_loss: 1.0944 - val_accuracy: 0.6994\n",
            "Epoch 8/100\n",
            "122/122 [==============================] - 4s 30ms/step - loss: 0.2539 - accuracy: 0.9424 - val_loss: 1.2096 - val_accuracy: 0.6768\n",
            "Epoch 9/100\n",
            "122/122 [==============================] - 4s 30ms/step - loss: 0.2116 - accuracy: 0.9546 - val_loss: 0.6351 - val_accuracy: 0.8242\n",
            "Epoch 10/100\n",
            "122/122 [==============================] - 4s 30ms/step - loss: 0.1805 - accuracy: 0.9619 - val_loss: 0.3461 - val_accuracy: 0.9110\n",
            "Epoch 11/100\n",
            "122/122 [==============================] - 4s 30ms/step - loss: 0.1639 - accuracy: 0.9651 - val_loss: 2.3701 - val_accuracy: 0.4426\n",
            "Epoch 12/100\n",
            "122/122 [==============================] - 4s 30ms/step - loss: 0.1546 - accuracy: 0.9678 - val_loss: 1.0532 - val_accuracy: 0.7247\n",
            "Epoch 13/100\n",
            "122/122 [==============================] - 4s 30ms/step - loss: 0.1381 - accuracy: 0.9701 - val_loss: 0.9509 - val_accuracy: 0.7403\n",
            "Epoch 14/100\n",
            "122/122 [==============================] - 4s 30ms/step - loss: 0.1212 - accuracy: 0.9756 - val_loss: 1.2987 - val_accuracy: 0.6778\n",
            "Epoch 15/100\n",
            "122/122 [==============================] - 4s 30ms/step - loss: 0.1124 - accuracy: 0.9765 - val_loss: 0.6821 - val_accuracy: 0.8106\n",
            "Epoch 16/100\n",
            "122/122 [==============================] - 4s 31ms/step - loss: 0.0973 - accuracy: 0.9810 - val_loss: 0.6139 - val_accuracy: 0.8446\n",
            "Epoch 17/100\n",
            "122/122 [==============================] - 4s 31ms/step - loss: 0.1063 - accuracy: 0.9772 - val_loss: 1.2074 - val_accuracy: 0.7115\n",
            "Epoch 18/100\n",
            "122/122 [==============================] - 4s 31ms/step - loss: 0.0987 - accuracy: 0.9792 - val_loss: 1.3820 - val_accuracy: 0.6631\n",
            "Epoch 19/100\n",
            "122/122 [==============================] - 4s 31ms/step - loss: 0.0934 - accuracy: 0.9802 - val_loss: 0.8585 - val_accuracy: 0.7602\n",
            "Epoch 20/100\n",
            "122/122 [==============================] - 4s 31ms/step - loss: 0.0802 - accuracy: 0.9831 - val_loss: 0.4407 - val_accuracy: 0.8785\n",
            "Epoch 21/100\n",
            "122/122 [==============================] - 4s 31ms/step - loss: 0.0861 - accuracy: 0.9815 - val_loss: 1.5659 - val_accuracy: 0.6408\n",
            "Epoch 22/100\n",
            "122/122 [==============================] - 4s 31ms/step - loss: 0.0741 - accuracy: 0.9838 - val_loss: 0.7823 - val_accuracy: 0.7972\n",
            "Epoch 23/100\n",
            "122/122 [==============================] - 4s 31ms/step - loss: 0.0689 - accuracy: 0.9866 - val_loss: 1.3555 - val_accuracy: 0.6850\n",
            "Epoch 24/100\n",
            "122/122 [==============================] - 4s 31ms/step - loss: 0.0709 - accuracy: 0.9855 - val_loss: 0.3056 - val_accuracy: 0.9241\n",
            "Epoch 25/100\n",
            "122/122 [==============================] - 4s 31ms/step - loss: 0.0783 - accuracy: 0.9822 - val_loss: 0.3977 - val_accuracy: 0.8963\n",
            "Epoch 26/100\n",
            "122/122 [==============================] - 4s 31ms/step - loss: 0.0486 - accuracy: 0.9916 - val_loss: 0.3569 - val_accuracy: 0.9035\n",
            "Epoch 27/100\n",
            "122/122 [==============================] - 4s 31ms/step - loss: 0.0572 - accuracy: 0.9883 - val_loss: 0.4666 - val_accuracy: 0.8886\n",
            "Epoch 28/100\n",
            "122/122 [==============================] - 4s 32ms/step - loss: 0.0571 - accuracy: 0.9876 - val_loss: 0.4061 - val_accuracy: 0.8953\n",
            "Epoch 29/100\n",
            "122/122 [==============================] - 4s 31ms/step - loss: 0.0485 - accuracy: 0.9899 - val_loss: 0.8110 - val_accuracy: 0.7985\n",
            "Epoch 30/100\n",
            "122/122 [==============================] - 4s 31ms/step - loss: 0.0393 - accuracy: 0.9923 - val_loss: 0.1440 - val_accuracy: 0.9609\n",
            "Epoch 31/100\n",
            "122/122 [==============================] - 4s 32ms/step - loss: 0.0553 - accuracy: 0.9882 - val_loss: 0.7303 - val_accuracy: 0.8024\n",
            "Epoch 32/100\n",
            "122/122 [==============================] - 4s 31ms/step - loss: 0.0508 - accuracy: 0.9879 - val_loss: 1.5267 - val_accuracy: 0.6742\n",
            "Epoch 33/100\n",
            "122/122 [==============================] - 4s 31ms/step - loss: 0.0826 - accuracy: 0.9795 - val_loss: 1.4833 - val_accuracy: 0.6529\n",
            "Epoch 34/100\n",
            "122/122 [==============================] - 4s 32ms/step - loss: 0.0372 - accuracy: 0.9921 - val_loss: 0.9679 - val_accuracy: 0.7476\n",
            "Epoch 35/100\n",
            "122/122 [==============================] - 4s 31ms/step - loss: 0.0466 - accuracy: 0.9896 - val_loss: 1.0949 - val_accuracy: 0.7102\n",
            "Epoch 36/100\n",
            "122/122 [==============================] - 4s 31ms/step - loss: 0.0522 - accuracy: 0.9885 - val_loss: 0.4862 - val_accuracy: 0.8742\n",
            "Epoch 37/100\n",
            "122/122 [==============================] - 4s 31ms/step - loss: 0.0600 - accuracy: 0.9865 - val_loss: 0.2774 - val_accuracy: 0.9156\n",
            "Epoch 38/100\n",
            "122/122 [==============================] - 4s 31ms/step - loss: 0.0319 - accuracy: 0.9939 - val_loss: 0.1056 - val_accuracy: 0.9748\n",
            "Epoch 39/100\n",
            "122/122 [==============================] - 4s 31ms/step - loss: 0.0402 - accuracy: 0.9913 - val_loss: 0.6978 - val_accuracy: 0.8111\n",
            "Epoch 40/100\n",
            "122/122 [==============================] - 4s 31ms/step - loss: 0.0255 - accuracy: 0.9941 - val_loss: 0.9092 - val_accuracy: 0.8114\n",
            "Epoch 41/100\n",
            "122/122 [==============================] - 4s 31ms/step - loss: 0.0285 - accuracy: 0.9940 - val_loss: 0.2635 - val_accuracy: 0.9264\n",
            "Epoch 42/100\n",
            "122/122 [==============================] - 4s 31ms/step - loss: 0.0352 - accuracy: 0.9920 - val_loss: 0.4011 - val_accuracy: 0.8837\n",
            "Epoch 43/100\n",
            "122/122 [==============================] - 4s 31ms/step - loss: 0.0384 - accuracy: 0.9914 - val_loss: 0.8109 - val_accuracy: 0.7957\n",
            "Epoch 44/100\n",
            "122/122 [==============================] - 4s 32ms/step - loss: 0.0452 - accuracy: 0.9897 - val_loss: 0.5889 - val_accuracy: 0.8438\n",
            "Epoch 45/100\n",
            "122/122 [==============================] - 4s 31ms/step - loss: 0.0348 - accuracy: 0.9916 - val_loss: 0.4287 - val_accuracy: 0.8865\n",
            "Epoch 46/100\n",
            "122/122 [==============================] - 4s 32ms/step - loss: 0.0181 - accuracy: 0.9968 - val_loss: 0.0911 - val_accuracy: 0.9753\n",
            "Epoch 47/100\n",
            "122/122 [==============================] - 4s 31ms/step - loss: 0.0205 - accuracy: 0.9959 - val_loss: 1.5793 - val_accuracy: 0.6420\n",
            "Epoch 48/100\n",
            "122/122 [==============================] - 4s 31ms/step - loss: 0.0359 - accuracy: 0.9922 - val_loss: 0.4082 - val_accuracy: 0.9012\n",
            "Epoch 49/100\n",
            "122/122 [==============================] - 4s 31ms/step - loss: 0.0225 - accuracy: 0.9953 - val_loss: 0.4936 - val_accuracy: 0.8706\n",
            "Epoch 50/100\n",
            "122/122 [==============================] - 4s 32ms/step - loss: 0.0361 - accuracy: 0.9909 - val_loss: 0.2219 - val_accuracy: 0.9385\n",
            "Epoch 51/100\n",
            "122/122 [==============================] - 4s 31ms/step - loss: 0.0264 - accuracy: 0.9943 - val_loss: 0.7326 - val_accuracy: 0.8147\n",
            "Epoch 52/100\n",
            "122/122 [==============================] - 4s 31ms/step - loss: 0.0497 - accuracy: 0.9884 - val_loss: 1.5885 - val_accuracy: 0.6547\n",
            "Epoch 53/100\n",
            "122/122 [==============================] - 4s 31ms/step - loss: 0.0225 - accuracy: 0.9956 - val_loss: 0.3973 - val_accuracy: 0.9025\n",
            "Epoch 54/100\n",
            "122/122 [==============================] - 4s 31ms/step - loss: 0.0244 - accuracy: 0.9949 - val_loss: 0.6774 - val_accuracy: 0.8433\n",
            "Epoch 55/100\n",
            "122/122 [==============================] - 4s 31ms/step - loss: 0.0265 - accuracy: 0.9938 - val_loss: 0.3975 - val_accuracy: 0.8973\n",
            "Epoch 56/100\n",
            "122/122 [==============================] - 4s 31ms/step - loss: 0.0322 - accuracy: 0.9926 - val_loss: 0.4676 - val_accuracy: 0.8767\n",
            "Epoch 57/100\n",
            "122/122 [==============================] - 4s 31ms/step - loss: 0.0229 - accuracy: 0.9953 - val_loss: 0.2460 - val_accuracy: 0.9367\n",
            "Epoch 58/100\n",
            "122/122 [==============================] - 4s 32ms/step - loss: 0.0246 - accuracy: 0.9947 - val_loss: 0.1609 - val_accuracy: 0.9524\n",
            "Epoch 59/100\n",
            "122/122 [==============================] - 4s 31ms/step - loss: 0.0199 - accuracy: 0.9962 - val_loss: 0.8708 - val_accuracy: 0.7931\n",
            "Epoch 60/100\n",
            "122/122 [==============================] - 4s 31ms/step - loss: 0.0315 - accuracy: 0.9927 - val_loss: 1.1573 - val_accuracy: 0.7203\n",
            "Epoch 61/100\n",
            "122/122 [==============================] - 4s 32ms/step - loss: 0.0215 - accuracy: 0.9952 - val_loss: 0.4913 - val_accuracy: 0.8685\n",
            "Epoch 62/100\n",
            "122/122 [==============================] - 4s 31ms/step - loss: 0.0226 - accuracy: 0.9950 - val_loss: 0.5535 - val_accuracy: 0.8616\n",
            "Epoch 63/100\n",
            "122/122 [==============================] - 4s 31ms/step - loss: 0.0167 - accuracy: 0.9967 - val_loss: 0.3970 - val_accuracy: 0.9076\n",
            "Epoch 64/100\n",
            "122/122 [==============================] - 4s 31ms/step - loss: 0.0134 - accuracy: 0.9972 - val_loss: 0.1396 - val_accuracy: 0.9632\n",
            "Epoch 65/100\n",
            "122/122 [==============================] - 4s 31ms/step - loss: 0.0170 - accuracy: 0.9969 - val_loss: 0.6050 - val_accuracy: 0.8592\n",
            "Epoch 66/100\n",
            "122/122 [==============================] - 4s 31ms/step - loss: 0.0228 - accuracy: 0.9947 - val_loss: 1.3800 - val_accuracy: 0.6652\n",
            "Epoch 67/100\n",
            "122/122 [==============================] - 4s 31ms/step - loss: 0.0215 - accuracy: 0.9957 - val_loss: 0.9586 - val_accuracy: 0.7877\n",
            "Epoch 68/100\n",
            "122/122 [==============================] - 4s 31ms/step - loss: 0.0239 - accuracy: 0.9945 - val_loss: 0.0996 - val_accuracy: 0.9730\n",
            "Epoch 69/100\n",
            "122/122 [==============================] - 4s 31ms/step - loss: 0.0338 - accuracy: 0.9916 - val_loss: 0.4574 - val_accuracy: 0.8857\n",
            "Epoch 70/100\n",
            "122/122 [==============================] - 4s 31ms/step - loss: 0.0182 - accuracy: 0.9963 - val_loss: 0.4822 - val_accuracy: 0.8760\n",
            "Epoch 71/100\n",
            "122/122 [==============================] - 4s 31ms/step - loss: 0.0207 - accuracy: 0.9956 - val_loss: 0.1573 - val_accuracy: 0.9586\n",
            "Epoch 72/100\n",
            "122/122 [==============================] - 4s 31ms/step - loss: 0.0278 - accuracy: 0.9932 - val_loss: 1.0561 - val_accuracy: 0.7442\n",
            "Epoch 73/100\n",
            "122/122 [==============================] - 4s 31ms/step - loss: 0.0289 - accuracy: 0.9924 - val_loss: 0.9879 - val_accuracy: 0.7609\n",
            "Epoch 74/100\n",
            "122/122 [==============================] - 4s 32ms/step - loss: 0.0188 - accuracy: 0.9963 - val_loss: 0.5296 - val_accuracy: 0.8695\n",
            "Epoch 75/100\n",
            "122/122 [==============================] - 4s 31ms/step - loss: 0.0212 - accuracy: 0.9949 - val_loss: 0.1131 - val_accuracy: 0.9668\n",
            "Epoch 76/100\n",
            "122/122 [==============================] - 4s 31ms/step - loss: 0.0083 - accuracy: 0.9987 - val_loss: 0.0110 - val_accuracy: 0.9961\n",
            "Epoch 77/100\n",
            "122/122 [==============================] - 4s 31ms/step - loss: 0.0074 - accuracy: 0.9985 - val_loss: 0.3707 - val_accuracy: 0.9002\n",
            "Epoch 78/100\n",
            "122/122 [==============================] - 4s 31ms/step - loss: 0.0200 - accuracy: 0.9959 - val_loss: 0.5217 - val_accuracy: 0.8595\n",
            "Epoch 79/100\n",
            "122/122 [==============================] - 4s 32ms/step - loss: 0.0170 - accuracy: 0.9957 - val_loss: 0.3458 - val_accuracy: 0.9207\n",
            "Epoch 80/100\n",
            "122/122 [==============================] - 4s 31ms/step - loss: 0.0136 - accuracy: 0.9971 - val_loss: 0.2114 - val_accuracy: 0.9403\n",
            "Epoch 81/100\n",
            "122/122 [==============================] - 4s 32ms/step - loss: 0.0142 - accuracy: 0.9968 - val_loss: 0.7230 - val_accuracy: 0.8250\n",
            "Epoch 82/100\n",
            "122/122 [==============================] - 4s 31ms/step - loss: 0.0133 - accuracy: 0.9968 - val_loss: 0.1660 - val_accuracy: 0.9555\n",
            "Epoch 83/100\n",
            "122/122 [==============================] - 4s 31ms/step - loss: 0.0185 - accuracy: 0.9960 - val_loss: 0.8306 - val_accuracy: 0.8024\n",
            "Epoch 84/100\n",
            "122/122 [==============================] - 4s 31ms/step - loss: 0.0258 - accuracy: 0.9941 - val_loss: 0.0518 - val_accuracy: 0.9861\n",
            "Epoch 85/100\n",
            "122/122 [==============================] - 4s 31ms/step - loss: 0.0164 - accuracy: 0.9963 - val_loss: 0.8717 - val_accuracy: 0.7921\n",
            "Epoch 86/100\n",
            "122/122 [==============================] - 4s 31ms/step - loss: 0.0065 - accuracy: 0.9990 - val_loss: 0.2263 - val_accuracy: 0.9478\n",
            "Epoch 87/100\n",
            "122/122 [==============================] - 4s 31ms/step - loss: 0.0072 - accuracy: 0.9984 - val_loss: 0.3066 - val_accuracy: 0.9233\n",
            "Epoch 88/100\n",
            "122/122 [==============================] - 4s 31ms/step - loss: 0.0092 - accuracy: 0.9983 - val_loss: 0.2272 - val_accuracy: 0.9470\n",
            "Epoch 89/100\n",
            "122/122 [==============================] - 4s 31ms/step - loss: 0.0135 - accuracy: 0.9968 - val_loss: 0.5458 - val_accuracy: 0.8693\n",
            "Epoch 90/100\n",
            "122/122 [==============================] - 4s 31ms/step - loss: 0.0076 - accuracy: 0.9985 - val_loss: 0.2703 - val_accuracy: 0.9277\n",
            "Epoch 91/100\n",
            "122/122 [==============================] - 4s 31ms/step - loss: 0.0056 - accuracy: 0.9991 - val_loss: 0.3582 - val_accuracy: 0.9197\n",
            "Epoch 92/100\n",
            "122/122 [==============================] - 4s 31ms/step - loss: 0.0044 - accuracy: 0.9991 - val_loss: 0.0494 - val_accuracy: 0.9864\n",
            "Epoch 93/100\n",
            "122/122 [==============================] - 4s 31ms/step - loss: 0.0371 - accuracy: 0.9921 - val_loss: 0.4702 - val_accuracy: 0.8773\n",
            "Epoch 94/100\n",
            "122/122 [==============================] - 4s 31ms/step - loss: 0.0205 - accuracy: 0.9959 - val_loss: 0.1700 - val_accuracy: 0.9521\n",
            "Epoch 95/100\n",
            "122/122 [==============================] - 4s 31ms/step - loss: 0.0169 - accuracy: 0.9957 - val_loss: 0.8557 - val_accuracy: 0.8191\n",
            "Epoch 96/100\n",
            "122/122 [==============================] - 4s 31ms/step - loss: 0.0247 - accuracy: 0.9941 - val_loss: 1.2343 - val_accuracy: 0.7236\n",
            "Epoch 97/100\n",
            "122/122 [==============================] - 4s 31ms/step - loss: 0.0100 - accuracy: 0.9981 - val_loss: 0.0946 - val_accuracy: 0.9738\n",
            "Epoch 98/100\n",
            "122/122 [==============================] - 4s 31ms/step - loss: 0.0075 - accuracy: 0.9984 - val_loss: 1.2093 - val_accuracy: 0.7249\n",
            "Epoch 99/100\n",
            "122/122 [==============================] - 4s 31ms/step - loss: 0.0215 - accuracy: 0.9954 - val_loss: 0.0591 - val_accuracy: 0.9810\n",
            "Epoch 100/100\n",
            "122/122 [==============================] - 4s 31ms/step - loss: 0.0044 - accuracy: 0.9992 - val_loss: 0.0217 - val_accuracy: 0.9941\n"
          ],
          "name": "stdout"
        }
      ]
    },
    {
      "cell_type": "markdown",
      "metadata": {
        "id": "jOT-A1wDfzDV",
        "colab_type": "text"
      },
      "source": [
        "*Na sledećem zajedničkom grafiku je prikazana funkcija gubitka na skupu za treniranje i validaciju, a potom i funkcija preciznosti.*\n"
      ]
    },
    {
      "cell_type": "code",
      "metadata": {
        "id": "Lt0mcagafzVQ",
        "colab_type": "code",
        "colab": {
          "base_uri": "https://localhost:8080/",
          "height": 281
        },
        "outputId": "64a6cb90-56d0-4180-9ba9-eafa484fec68"
      },
      "source": [
        "plot_loss_accuracy(100, alex_history_new)"
      ],
      "execution_count": 97,
      "outputs": [
        {
          "output_type": "display_data",
          "data": {
            "image/png": "[encoded data removed]",
            "text/plain": [
              "<Figure size 720x288 with 2 Axes>"
            ]
          },
          "metadata": {
            "tags": [],
            "needs_background": "light"
          }
        }
      ]
    },
    {
      "cell_type": "markdown",
      "metadata": {
        "id": "yv3HAcjqf7mX",
        "colab_type": "text"
      },
      "source": [
        "**TODO**\n"
      ]
    },
    {
      "cell_type": "code",
      "metadata": {
        "id": "Hw5KbmOXf8Yu",
        "colab_type": "code",
        "colab": {
          "base_uri": "https://localhost:8080/",
          "height": 232
        },
        "outputId": "a610299e-feb7-40c2-9067-1c98fe485b6d"
      },
      "source": [
        "show_classification_report(alex_history_new, X_test, y_test)"
      ],
      "execution_count": 100,
      "outputs": [
        {
          "output_type": "error",
          "ename": "AttributeError",
          "evalue": "ignored",
          "traceback": [
            "\u001b[0;31m---------------------------------------------------------------------------\u001b[0m",
            "\u001b[0;31mAttributeError\u001b[0m                            Traceback (most recent call last)",
            "\u001b[0;32m<ipython-input-100-1896fb95dcd3>\u001b[0m in \u001b[0;36m<module>\u001b[0;34m()\u001b[0m\n\u001b[0;32m----> 1\u001b[0;31m \u001b[0mshow_classification_report\u001b[0m\u001b[0;34m(\u001b[0m\u001b[0malex_history_new\u001b[0m\u001b[0;34m,\u001b[0m \u001b[0mX_test\u001b[0m\u001b[0;34m,\u001b[0m \u001b[0my_test\u001b[0m\u001b[0;34m)\u001b[0m\u001b[0;34m\u001b[0m\u001b[0;34m\u001b[0m\u001b[0m\n\u001b[0m",
            "\u001b[0;32m<ipython-input-99-b35d74a96057>\u001b[0m in \u001b[0;36mshow_classification_report\u001b[0;34m(model, X_test, y_test)\u001b[0m\n\u001b[1;32m      1\u001b[0m \u001b[0;32mdef\u001b[0m \u001b[0mshow_classification_report\u001b[0m\u001b[0;34m(\u001b[0m\u001b[0mmodel\u001b[0m\u001b[0;34m,\u001b[0m \u001b[0mX_test\u001b[0m\u001b[0;34m,\u001b[0m \u001b[0my_test\u001b[0m\u001b[0;34m)\u001b[0m\u001b[0;34m:\u001b[0m\u001b[0;34m\u001b[0m\u001b[0;34m\u001b[0m\u001b[0m\n\u001b[0;32m----> 2\u001b[0;31m   \u001b[0mprint\u001b[0m\u001b[0;34m(\u001b[0m\u001b[0mclassification_report\u001b[0m\u001b[0;34m(\u001b[0m\u001b[0mnp\u001b[0m\u001b[0;34m.\u001b[0m\u001b[0margmax\u001b[0m\u001b[0;34m(\u001b[0m\u001b[0my_test\u001b[0m\u001b[0;34m,\u001b[0m \u001b[0maxis\u001b[0m\u001b[0;34m=\u001b[0m\u001b[0;36m1\u001b[0m\u001b[0;34m)\u001b[0m\u001b[0;34m,\u001b[0m \u001b[0mmodel\u001b[0m\u001b[0;34m.\u001b[0m\u001b[0mpredict_classes\u001b[0m\u001b[0;34m(\u001b[0m\u001b[0mX_test\u001b[0m\u001b[0;34m)\u001b[0m\u001b[0;34m)\u001b[0m\u001b[0;34m)\u001b[0m\u001b[0;34m\u001b[0m\u001b[0;34m\u001b[0m\u001b[0m\n\u001b[0m",
            "\u001b[0;31mAttributeError\u001b[0m: 'History' object has no attribute 'predict_classes'"
          ]
        }
      ]
    },
    {
      "cell_type": "code",
      "metadata": {
        "id": "rmcA8Q0hgA4x",
        "colab_type": "code",
        "colab": {
          "base_uri": "https://localhost:8080/",
          "height": 51
        },
        "outputId": "58155826-fdc1-43b0-aaf3-f9547d4fb9dc"
      },
      "source": [
        "# Evaluate model\n",
        "score = alexnet_model.evaluate(X_test, y_test, verbose=0)\n",
        "print('Test loss:', score[0])\n",
        "print('Test accuracy:', score[1])"
      ],
      "execution_count": 101,
      "outputs": [
        {
          "output_type": "stream",
          "text": [
            "Test loss: 0.030186228454113007\n",
            "Test accuracy: 0.991536021232605\n"
          ],
          "name": "stdout"
        }
      ]
    }
  ]
}