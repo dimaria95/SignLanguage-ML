{
  "nbformat": 4,
  "nbformat_minor": 0,
  "metadata": {
    "colab": {
      "name": "signLanguage-ML",
      "provenance": [],
      "collapsed_sections": []
    },
    "kernelspec": {
      "name": "python3",
      "display_name": "Python 3"
    }
  },
  "cells": [
    {
      "cell_type": "markdown",
      "metadata": {
        "id": "MpKHh-cVhDVr",
        "colab_type": "text"
      },
      "source": [
        "*Sign Language - Machine Learning*\n",
        "\n",
        "---\n",
        "\n",
        "Seminarski rad u sklopu kursa Mašinsko učenje - Matematički fakultet, Univerzitet u Beogradu\n",
        "\n",
        "**Autori**  \n",
        "Nikola Dimić i Zorana Gajić"
      ]
    },
    {
      "cell_type": "markdown",
      "metadata": {
        "id": "js3s3xGNh1yA",
        "colab_type": "text"
      },
      "source": [
        "**Opis projekta**  \n",
        " Cilj ovog projekta jeste da se konstruiše model za klasifikaciju slika znakovnog jezika kako bismo olakšali njegovo učenje i razumevanje.\n",
        "\n",
        "**Baza podataka**  \n",
        "Baza podataka sadrži 3000 slika za svako slovo. Znakovi su slikani iz različitih uglova i pod različitim osvetljenjem, kako bi se dobio što precizniji model. Link do baze je [ovde](https://www.kaggle.com/paultimothymooney/interpret-sign-language-with-deep-learning/data).\n",
        "\n"
      ]
    },
    {
      "cell_type": "markdown",
      "metadata": {
        "id": "vbFXsceqj_fy",
        "colab_type": "text"
      },
      "source": [
        "**Neophodne biblioteke**"
      ]
    },
    {
      "cell_type": "code",
      "metadata": {
        "id": "jkHECs2HhCJi",
        "colab_type": "code",
        "colab": {}
      },
      "source": [
        "import os\n",
        "import matplotlib.pyplot as plt\n",
        "import cv2\n",
        "import numpy as np\n",
        "from skimage.transform import resize\n",
        "from sklearn.model_selection import train_test_split\n",
        "from tqdm import tqdm\n",
        "\n",
        "from keras.utils.np_utils import to_categorical\n",
        "from keras.models import Sequential\n",
        "from keras.layers import Dense, Dropout, Flatten\n",
        "from keras.layers import Conv2D, MaxPooling2D\n",
        "from keras import optimizers\n",
        "from keras import utils\n",
        "\n",
        "from sklearn.metrics import classification_report, confusion_matrix, plot_confusion_matrix"
      ],
      "execution_count": null,
      "outputs": []
    },
    {
      "cell_type": "markdown",
      "metadata": {
        "id": "8-IkZ_LVhA8o",
        "colab_type": "text"
      },
      "source": [
        "**Pretprocesiranje slika**\n"
      ]
    },
    {
      "cell_type": "code",
      "metadata": {
        "id": "P5pniroKf12g",
        "colab_type": "code",
        "colab": {}
      },
      "source": [
        "# Input test and train data\n",
        "\n",
        "trainFolder = \"../input/asl-alphabet/asl_alphabet_train/\"\n",
        "testFolder =  \"../input/asl-alphabet/asl_alphabet_test/\"\n",
        "\n",
        "# Converst letter to number\n",
        "def letterToNumber(letter):\n",
        "    if(len(letter) == 1):\n",
        "        letterNum = ord(letter.lower()) - 97\n",
        "    elif(letter == 'del'):\n",
        "        letterNum = 26\n",
        "    elif(letter == 'nothing'):\n",
        "        letterNum = 27\n",
        "    elif(letter == 'space'):\n",
        "        letterNum = 28\n",
        "    else:\n",
        "        letterNum = 29\n",
        "    return letterNum\n",
        "    \n",
        "# Normalizes the image file and resizes it\n",
        "def processImageFile(imageFile, isInColor):\n",
        "    # When the picture is downsized - anti_aliasing is suggested\n",
        "    if isInColor == 0:\n",
        "        color = 1\n",
        "    else:\n",
        "        color = 3\n",
        "    resizedImage = resize(imageFile, (224, 224, color), anti_aliasing=True)\n",
        "    return np.asarray(resizedImage)\n",
        "\n",
        "# Extracts the data\n",
        "def extractData(file, isInColor = 0):\n",
        "    X = []\n",
        "    y = []\n",
        "    for folderName in os.listdir(file):\n",
        "        if not folderName.startswith('.'):\n",
        "            classLetter = folderName\n",
        "            classNum = letterToNumber(classLetter)\n",
        "            fullFolderName = file+folderName\n",
        "            listOfImages = os.listdir(fullFolderName)\n",
        "            for imageName in tqdm(listOfImages[0:1000]):\n",
        "                fullImageName = fullFolderName + \"/\" + imageName\n",
        "                imageFile = cv2.imread(fullImageName, isInColor)\n",
        "                resizedImage = processImageFile(imageFile, isInColor)            \n",
        "                X.append(resizedImage)\n",
        "                y.append(classNum)\n",
        "    X = np.asarray(X)\n",
        "    y = np.asarray(y)\n",
        "    return X,y"
      ],
      "execution_count": null,
      "outputs": []
    },
    {
      "cell_type": "code",
      "metadata": {
        "id": "iDZMpXAif4Sc",
        "colab_type": "code",
        "colab": {}
      },
      "source": [
        "X, y = extractData(trainFolder, 1)"
      ],
      "execution_count": null,
      "outputs": []
    },
    {
      "cell_type": "markdown",
      "metadata": {
        "id": "avppEdDznuaU",
        "colab_type": "text"
      },
      "source": [
        "**Prikaz podataka**"
      ]
    },
    {
      "cell_type": "code",
      "metadata": {
        "id": "pMXfEmE5nwOB",
        "colab_type": "code",
        "colab": {}
      },
      "source": [
        "isInColor = 1\n",
        "\n",
        "testImage = cv2.imread(\"../input/asl-alphabet/asl_alphabet_train/A/A1.jpg\", isInColor)\n",
        "resizedTestImage = processImageFile(testImage, isInColor)\n",
        "print(resizedTestImage.shape)\n",
        "plt.imshow(resizedTestImage, cmap='gray')\n",
        "plt.show()"
      ],
      "execution_count": null,
      "outputs": []
    },
    {
      "cell_type": "markdown",
      "metadata": {
        "id": "M3UlCC_1oOqQ",
        "colab_type": "text"
      },
      "source": [
        "**Pretprocesiranje ciljne promenljive**  \n",
        "U sklopu transformacije ciljne promenljive je korišćeno `One-Hot encoding`, odnosno kodiranje koje kategoričkom atributu (ciljnoj promenljivoj) sa $k$ mogućih različitih vrednosti (gde je $k$ u našem slučaju vrednost 30) pridružuje $k$ novih promenljivih, a vrednostima kategoričke promenljive vrednosti indikatora.\n",
        "\n",
        "0 &#8594; 1 0 0 0 ... 0  \n",
        "1 &#8594; 0 1 0 0 ... 0  \n",
        "2 &#8594; 0 0 1 0 ... 0  \n",
        "...  \n",
        "29 &#8594; 0 0 0 0 ... 0  "
      ]
    },
    {
      "cell_type": "code",
      "metadata": {
        "id": "M-wuT8Jcnz3Q",
        "colab_type": "code",
        "colab": {}
      },
      "source": [
        "# One hot encoding of target variable\n",
        "numOfClasses = 30\n",
        "y = to_categorical(y, numOfClasses)"
      ],
      "execution_count": null,
      "outputs": []
    },
    {
      "cell_type": "markdown",
      "metadata": {
        "id": "uKs1M7gfo1as",
        "colab_type": "text"
      },
      "source": [
        "**Podela podataka na trening i test skup**  \n",
        "Učitani podaci se dele na trening i test skup u odnosu *3:1*, s tim što se uz pomoć naglašenog parametra *stratify* čuva udeo ciljne promenljive iz originalnog skupa podataka."
      ]
    },
    {
      "cell_type": "code",
      "metadata": {
        "id": "NhdRcPBjo5MC",
        "colab_type": "code",
        "colab": {}
      },
      "source": [
        "# Splitting data into train and test sets\n",
        "X_train, X_test, y_train, y_test = train_test_split(X, y, test_size=0.33, stratify=y)"
      ],
      "execution_count": null,
      "outputs": []
    },
    {
      "cell_type": "code",
      "metadata": {
        "id": "k0alb6Y_o7w2",
        "colab_type": "code",
        "colab": {}
      },
      "source": [
        "print(X_train.shape)\n",
        "print(X_test.shape)\n",
        "print(y_train.shape)\n",
        "print(y_test.shape)"
      ],
      "execution_count": null,
      "outputs": []
    },
    {
      "cell_type": "markdown",
      "metadata": {
        "id": "ySST93ix8EeR",
        "colab_type": "text"
      },
      "source": [
        "**Početni model**  \n",
        "Prvi pokušaj rešavanja problema je bila konvolutivna neuronska mreža sa arhitekturom sličnoj onoj prikazanoj na vežbama. Naime, korišćena je neuronska mreža sa propagacijom unapred, gde se dodaju sledeći slojevi:  \n",
        "**1 sloj:** Konvolucioni sloj sa *16* filtera, kernelom veličine *3x3*, uokvirenjem tako da veličina izlazne slike može biti istih dimenzija i *ReLu* aktivacionom funkcijom.    \n",
        "**2 sloj:** Agregacioni sloj koji vrši redukciju slojeva svođenjem blokova zadatih večina na njihove maksimalne vrednosti i veličinom bloka *2x2*.  \n",
        "**3 sloj:** Konvolucioni sloj sa *32* filtera, kernelom veličine *3x3*, uokvirenjem tako da veličina izlazne slike može biti istih dimenzija i *ReLu* aktivacionom funkcijom.    \n",
        "**4 sloj:** Agregacioni sloj koji vrši redukciju slojeva svođenjem blokova zadatih večina na njihove maksimalne vrednosti i veličinom bloka *2x2*.  \n",
        "**5 sloj:** Konvolucioni sloj sa *64* filtera, kernelom veličine *3x3*, uokvirenjem tako da veličina izlazne slike može biti istih dimenzija i *ReLu* aktivacionom funkcijom.  \n",
        "Zatim funkcija koja se koristi za transformisanje matrica u vektore *Flatten*.    \n",
        "**6 sloj:** Potpuno povezan sloj sa brojem izlaznih neurona 1024 i ReLu aktivacionom funkcijom.  \n",
        "Zatim tehnika regularizacije kojom isključujemo nasumično odabrane neurone i omogućavamo drugačiji protok podataka kroz mrežu *Dropout*."
      ]
    },
    {
      "cell_type": "code",
      "metadata": {
        "id": "aumCLaL1pjPL",
        "colab_type": "code",
        "colab": {}
      },
      "source": [
        "# DOBAR MODEL ZA COLOR \n",
        "# Training model\n",
        "model = Sequential()\n",
        "model.add(Conv2D(16, kernel_size=(3, 3), padding='same', activation='relu', input_shape=(50,50,3)))\n",
        "model.add(MaxPooling2D(pool_size=(2, 2)))\n",
        "model.add(Conv2D(32, kernel_size=(3, 3), padding='same', activation='relu'))\n",
        "model.add(MaxPooling2D(pool_size=(2, 2)))\n",
        "model.add(Conv2D(64, kernel_size=(3, 3), padding='same', activation='relu'))\n",
        "model.add(MaxPooling2D(pool_size=(2, 2)))\n",
        "model.add(Flatten())\n",
        "model.add(Dense(1024, activation='relu'))\n",
        "model.add(Dropout(0.5))\n",
        "model.add(Dense(numOfClasses, activation='softmax'))"
      ],
      "execution_count": null,
      "outputs": []
    },
    {
      "cell_type": "code",
      "metadata": {
        "id": "I_vFQths36sb",
        "colab_type": "code",
        "colab": {}
      },
      "source": [
        "# Model summary per layers\n",
        "model.summary()"
      ],
      "execution_count": null,
      "outputs": []
    },
    {
      "cell_type": "markdown",
      "metadata": {
        "id": "cOCSGl504gF_",
        "colab_type": "text"
      },
      "source": [
        "**Mrežu ćemo trenirati prema sledećim smernicama:**  \n",
        "*Funkcija greške*: Kategorička unakrsna entropija  \n",
        "*Optimizator*: Adam sa korakom učenja **0.001**   \n",
        "*Broj epoha*: **12**  \n",
        "*Veličina paketića za treniranje* (engl. batch size): **128**  \n",
        "\n",
        "Za evaluaciju mreže koristimo **preciznost**."
      ]
    },
    {
      "cell_type": "code",
      "metadata": {
        "id": "XLH-PSLY37Lz",
        "colab_type": "code",
        "colab": {}
      },
      "source": [
        "model.compile(loss='categorical_crossentropy', optimizer=optimizers.Adam(learning_rate=0.001), metrics=['accuracy'])"
      ],
      "execution_count": null,
      "outputs": []
    },
    {
      "cell_type": "code",
      "metadata": {
        "id": "QEzZpBPM37Sg",
        "colab_type": "code",
        "colab": {}
      },
      "source": [
        "batch_size = 128\n",
        "epochs = 12"
      ],
      "execution_count": null,
      "outputs": []
    },
    {
      "cell_type": "code",
      "metadata": {
        "id": "Ci9R2-o537aD",
        "colab_type": "code",
        "colab": {}
      },
      "source": [
        "# Train model\n",
        "history = model.fit(X_train, y_train,\n",
        "                    batch_size=batch_size,\n",
        "                    epochs=epochs,\n",
        "                    verbose=1,\n",
        "                    validation_split=0.2, shuffle=True)"
      ],
      "execution_count": null,
      "outputs": []
    },
    {
      "cell_type": "markdown",
      "metadata": {
        "id": "H4UK03p14WnA",
        "colab_type": "text"
      },
      "source": [
        "**Model iz naučnog rada**  \n",
        "Sledeći pokušaj rešavanja datog problema je bio uz pomoć pronađenog naučnog rada koji možete pogledati [ovde](https://) .  \n",
        "Iako se skupovi podataka razlikuju, pokušali smo sa predloženim modelom: korišćena je neuronska mreža sa propagacijom unapred, "
      ]
    },
    {
      "cell_type": "code",
      "metadata": {
        "id": "Yuu1teNtptw7",
        "colab_type": "code",
        "colab": {}
      },
      "source": [
        "# DOBAR MODEL ZA GRAYSCALE\n",
        "# Training model\n",
        "model = Sequential()\n",
        "model.add(Conv2D(16, (2,2), input_shape=(50,50,1), activation='relu'))\n",
        "model.add(MaxPooling2D(pool_size=(2, 2), strides=(2, 2), padding='same'))\n",
        "model.add(Conv2D(32, (3,3), activation='relu'))\n",
        "model.add(MaxPooling2D(pool_size=(3, 3), strides=(3, 3), padding='same'))\n",
        "model.add(Conv2D(64, (5,5), activation='relu'))\n",
        "model.add(MaxPooling2D(pool_size=(5, 5), strides=(5, 5), padding='same'))\n",
        "model.add(Flatten())\n",
        "model.add(Dense(128, activation='relu'))\n",
        "model.add(Dropout(0.2))\n",
        "model.add(Dense(numOfClasses, activation='softmax'))"
      ],
      "execution_count": null,
      "outputs": []
    },
    {
      "cell_type": "markdown",
      "metadata": {
        "id": "wE5yAs2P1CYn",
        "colab_type": "text"
      },
      "source": [
        " **Текст, выделенный полужирным шрифтом** "
      ]
    },
    {
      "cell_type": "code",
      "metadata": {
        "id": "lMnkfO3zpub1",
        "colab_type": "code",
        "colab": {}
      },
      "source": [
        "# Model summary per layers\n",
        "model.summary()"
      ],
      "execution_count": null,
      "outputs": []
    },
    {
      "cell_type": "markdown",
      "metadata": {
        "id": "43SBuO_W2Sg-",
        "colab_type": "text"
      },
      "source": [
        "Mreža"
      ]
    },
    {
      "cell_type": "code",
      "metadata": {
        "id": "g_theT_fp3Wu",
        "colab_type": "code",
        "colab": {}
      },
      "source": [
        "model.compile(loss='categorical_crossentropy', optimizer=optimizers.Adam(learning_rate=0.001), metrics=['accuracy'])"
      ],
      "execution_count": null,
      "outputs": []
    },
    {
      "cell_type": "code",
      "metadata": {
        "id": "dupAzPoSp40F",
        "colab_type": "code",
        "colab": {}
      },
      "source": [
        "batch_size = 500\n",
        "epochs = 50"
      ],
      "execution_count": null,
      "outputs": []
    },
    {
      "cell_type": "code",
      "metadata": {
        "id": "4XAYppvJp7AH",
        "colab_type": "code",
        "colab": {}
      },
      "source": [
        "history = model.fit(X_train, y_train,\n",
        "                    batch_size=batch_size,\n",
        "                    epochs=epochs,\n",
        "                    verbose=1,\n",
        "                    validation_split=0.2, shuffle=True)"
      ],
      "execution_count": null,
      "outputs": []
    },
    {
      "cell_type": "code",
      "metadata": {
        "id": "ksD7WaB4p_Wk",
        "colab_type": "code",
        "colab": {}
      },
      "source": [
        "# Plotting loss/accuracy values of train and validation data during training model\n",
        "def plot_loss_accuracy(epochs, history):\n",
        "  plt.figure(figsize=(10, 4))\n",
        "\n",
        "  plt.subplot(1, 2, 1)\n",
        "  plt.title('Loss')\n",
        "  plt.plot(np.arange(0, epochs), history.history['loss'], label='train')\n",
        "  plt.plot(np.arange(0, epochs), history.history['val_loss'], label='val')\n",
        "  plt.legend(loc='best')\n",
        "\n",
        "  plt.subplot(1, 2, 2)\n",
        "  plt.title('Accuracy')\n",
        "  plt.plot(np.arange(0, epochs), history.history['accuracy'], label='train')\n",
        "  plt.plot(np.arange(0, epochs), history.history['val_accuracy'], label='val')\n",
        "  plt.legend(loc='best')"
      ],
      "execution_count": null,
      "outputs": []
    },
    {
      "cell_type": "code",
      "metadata": {
        "id": "AB4LSxrWqNv_",
        "colab_type": "code",
        "colab": {}
      },
      "source": [
        "def show_classification_report(X_test, y_test):\n",
        "  print(classification_report(np.argmax(y_test, axis=1), model.predict_classes(X_test)))"
      ],
      "execution_count": null,
      "outputs": []
    },
    {
      "cell_type": "markdown",
      "metadata": {
        "id": "nZK4C0Bl6XpK",
        "colab_type": "text"
      },
      "source": [
        "Na sledećem zajedničkom grafiku je prikazana funkcija gubitka na skupu za treniranje i validaciju, a potom i funkcija preciznosti."
      ]
    },
    {
      "cell_type": "code",
      "metadata": {
        "id": "WWhGBk_Pqg25",
        "colab_type": "code",
        "colab": {}
      },
      "source": [
        "# plot_loss_accuracy(epochs, history)\n",
        "# show_classification_report(X_test, y_test)"
      ],
      "execution_count": null,
      "outputs": []
    },
    {
      "cell_type": "code",
      "metadata": {
        "id": "ltXGlxA-rY6l",
        "colab_type": "code",
        "colab": {}
      },
      "source": [
        ""
      ],
      "execution_count": null,
      "outputs": []
    }
  ]
}