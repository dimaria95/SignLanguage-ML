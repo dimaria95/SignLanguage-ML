{
  "nbformat": 4,
  "nbformat_minor": 0,
  "metadata": {
    "colab": {
      "name": "signLanguage-ML",
      "provenance": [],
      "collapsed_sections": []
    },
    "kernelspec": {
      "name": "python3",
      "display_name": "Python 3"
    }
  },
  "cells": [
    {
      "cell_type": "markdown",
      "metadata": {
        "id": "MpKHh-cVhDVr",
        "colab_type": "text"
      },
      "source": [
        "*Sign Language - Machine Learning*\n",
        "\n",
        "---\n",
        "\n",
        "Seminarski rad u sklopu kursa Mašinsko učenje - Matematički fakultet, Univerzitet u Beogradu\n",
        "\n",
        "**Autori**  \n",
        "Nikola Dimić i Zorana Gajić"
      ]
    },
    {
      "cell_type": "code",
      "metadata": {
        "id": "3Jn7Mz8aSOhp",
        "colab_type": "code",
        "colab": {}
      },
      "source": [
        "from google.colab import files\n",
        "files.upload()"
      ],
      "execution_count": null,
      "outputs": []
    },
    {
      "cell_type": "code",
      "metadata": {
        "id": "u1FOId0bTAhY",
        "colab_type": "code",
        "colab": {}
      },
      "source": [
        "!kaggle datasets download -d paultimothymooney/interpret-sign-language-with-deep-learning"
      ],
      "execution_count": null,
      "outputs": []
    },
    {
      "cell_type": "markdown",
      "metadata": {
        "id": "js3s3xGNh1yA",
        "colab_type": "text"
      },
      "source": [
        "**Opis projekta**  \n",
        " Cilj ovog projekta jeste da se konstruiše model za klasifikaciju slika znakovnog jezika kako bismo olakšali njegovo učenje i razumevanje.\n",
        "\n",
        "**Baza podataka**  \n",
        "Baza podataka sadrži 3000 slika za svako slovo. Znakovi su slikani iz različitih uglova i pod različitim osvetljenjem, kako bi se dobio što precizniji model. Link do baze je [ovde](https://www.kaggle.com/paultimothymooney/interpret-sign-language-with-deep-learning/data).\n",
        "\n"
      ]
    },
    {
      "cell_type": "markdown",
      "metadata": {
        "id": "vbFXsceqj_fy",
        "colab_type": "text"
      },
      "source": [
        "**Neophodne biblioteke**"
      ]
    },
    {
      "cell_type": "code",
      "metadata": {
        "id": "jkHECs2HhCJi",
        "colab_type": "code",
        "colab": {}
      },
      "source": [
        "import os\n",
        "import matplotlib.pyplot as plt\n",
        "import cv2\n",
        "import numpy as np\n",
        "from skimage.transform import resize\n",
        "from sklearn.model_selection import train_test_split\n",
        "from tqdm import tqdm\n",
        "\n",
        "from keras.utils.np_utils import to_categorical\n",
        "from keras.models import Sequential\n",
        "from keras.layers import Dense, Dropout, Flatten\n",
        "from keras.layers import Conv2D, MaxPooling2D\n",
        "from keras import optimizers\n",
        "from keras import utils\n",
        "\n",
        "from sklearn.metrics import classification_report, confusion_matrix, plot_confusion_matrix"
      ],
      "execution_count": null,
      "outputs": []
    },
    {
      "cell_type": "markdown",
      "metadata": {
        "id": "TqqxzbXXFQdw",
        "colab_type": "text"
      },
      "source": [
        "**Pretprocesiranje slika**\n",
        "\n",
        "Slike znakovnog jezika nalaze se u datotekama razvrstane po slovima. Prilikom učitavanja svake od datoteka, slika je obrađena u skladu sa potrebama mreže koja se trenira. Tako je svaka slika smanjena ili povećana u skladu sa odgovarajućim dimenzijama. Svakoj slici dodeljena je klasa u skladu sa datotekom u kojoj se nalaze, s tim što su klase konvertovane iz slovnog u brojevni zapis pa tako su slova *A,B...Z* redom označena rednim brojevima slova u abecedi (*0,1..25*), dok su specijalni karakteri *del*, *nothing* i *space* označeni brojevima *26,27,28* respektivno. Nakon obrade slika i pridruživanja klasa, ispisane su specifikacije skupa podataka, kao i dimenzije matrica kojima su opisane slike. "
      ]
    },
    {
      "cell_type": "code",
      "metadata": {
        "id": "P5pniroKf12g",
        "colab_type": "code",
        "colab": {}
      },
      "source": [
        "def letterToNumber(letter):\n",
        "    if(len(letter) == 1):\n",
        "        letterNum = ord(letter.lower()) - 97\n",
        "    elif(letter == 'del'):\n",
        "        letterNum = 26\n",
        "    elif(letter == 'nothing'):\n",
        "        letterNum = 27\n",
        "    elif(letter == 'space'):\n",
        "        letterNum = 28\n",
        "    else:\n",
        "        letterNum = 29\n",
        "    return letterNum\n",
        "\n",
        "def proccessImage(imageFile, size=(200,200), color = True):\n",
        "    color = 3 if color else 1\n",
        "    resizedImage = resize(imageFile, (size[0], size[1], color), anti_aliasing=True)\n",
        "    return np.asarray(resizedImage)\n",
        "\n",
        "def resizeData(X, size=(200,200), color = True):\n",
        "    Xnew = map(lambda img: proccessImage(img,size,color), X)\n",
        "    return list(Xnew)\n",
        "\n",
        "def logData(imageColor, imageSize, imagesPerLetter, item):\n",
        "    print(\"Extracted data with the following specifications:\")\n",
        "    print(\"--------------------------------------------------\")\n",
        "    print(\"color: \" + str(imageColor))\n",
        "    print(\"size: \" + str(imageSize))\n",
        "    print(\"images per letter: \" + str(imagesPerLetter))\n",
        "    print(\"output shape: \" + str(item.shape))\n",
        "\n",
        "def exctractDataFromFiles(file, imageColor = True, imageSize = (200,200), imagesPerLetter='all'):\n",
        "    color = 1 if imageColor else 0\n",
        "    X = []\n",
        "    y = []\n",
        "    for folderName in os.listdir(file):\n",
        "        if not folderName.startswith('.'):\n",
        "            classLetter = folderName\n",
        "            classNum = letterToNumber(classLetter)\n",
        "            fullFolderName = file+folderName\n",
        "            listOfImages = os.listdir(fullFolderName)\n",
        "            numOfImages = len(listOfImages) if imagesPerLetter == 'all' else imagesPerLetter\n",
        "            \n",
        "            for imageName in tqdm(listOfImages[0:numOfImages]):\n",
        "                fullImageName = fullFolderName + \"/\" + imageName\n",
        "                imageFile = cv2.imread(fullImageName, color)\n",
        "                resizedImage = proccessImage(imageFile, imageSize, color)   \n",
        "                X.append(resizedImage)\n",
        "                y.append(classNum)\n",
        "    X = np.asarray(X)\n",
        "    y = np.asarray(y)\n",
        "    logData(imageColor, imageSize, imagesPerLetter, X[0])\n",
        "    return X,y\n"
      ],
      "execution_count": null,
      "outputs": []
    },
    {
      "cell_type": "code",
      "metadata": {
        "id": "iDZMpXAif4Sc",
        "colab_type": "code",
        "colab": {}
      },
      "source": [
        "trainFolder = \"../input/asl-alphabet/asl_alphabet_train/\"\n",
        "#testFolder =  \"../input/asl-alphabet/asl_alphabet_test/\"\n",
        "\n",
        "X, y = exctractDataFromFiles(trainFolder, imageColor = False, imageSize = (50,50), imagesPerLetter = 1000)"
      ],
      "execution_count": null,
      "outputs": []
    },
    {
      "cell_type": "markdown",
      "metadata": {
        "id": "avppEdDznuaU",
        "colab_type": "text"
      },
      "source": [
        "**Prikaz slike**\n"
      ]
    },
    {
      "cell_type": "code",
      "metadata": {
        "id": "pMXfEmE5nwOB",
        "colab_type": "code",
        "colab": {}
      },
      "source": [
        "testImage = cv2.imread(\"../input/asl-alphabet/asl_alphabet_train/A/A1.jpg\")\n",
        "resizedTestImage = proccessImage(testImage, size=(50,50), color=True)\n",
        "print(resizedTestImage.shape)\n",
        "plt.imshow(resizedTestImage, cmap='gray')\n",
        "plt.show()"
      ],
      "execution_count": null,
      "outputs": []
    },
    {
      "cell_type": "markdown",
      "metadata": {
        "id": "M3UlCC_1oOqQ",
        "colab_type": "text"
      },
      "source": [
        "**Pretprocesiranje ciljne promenljive**  \n",
        "U sklopu transformacije ciljne promenljive je korišćeno `One-Hot encoding`, odnosno kodiranje koje kategoričkom atributu (ciljnoj promenljivoj) sa $k$ mogućih različitih vrednosti (gde je $k$ u našem slučaju vrednost 30) pridružuje $k$ novih promenljivih, a vrednostima kategoričke promenljive vrednosti indikatora.\n",
        "\n",
        "0 &#8594; 1 0 0 0 ... 0  \n",
        "1 &#8594; 0 1 0 0 ... 0  \n",
        "2 &#8594; 0 0 1 0 ... 0  \n",
        "...  \n",
        "29 &#8594; 0 0 0 0 ... 0  "
      ]
    },
    {
      "cell_type": "code",
      "metadata": {
        "id": "M-wuT8Jcnz3Q",
        "colab_type": "code",
        "colab": {}
      },
      "source": [
        "# One hot encoding of target variable\n",
        "numOfClasses = 30\n",
        "y = to_categorical(y, numOfClasses)"
      ],
      "execution_count": null,
      "outputs": []
    },
    {
      "cell_type": "markdown",
      "metadata": {
        "id": "uKs1M7gfo1as",
        "colab_type": "text"
      },
      "source": [
        "**Podela podataka na trening i test skup**  \n",
        "Učitani podaci se dele na trening i test skup u odnosu *3:1*, s tim što se uz pomoć naglašenog parametra *stratify* čuva udeo ciljne promenljive iz originalnog skupa podataka."
      ]
    },
    {
      "cell_type": "code",
      "metadata": {
        "id": "NhdRcPBjo5MC",
        "colab_type": "code",
        "colab": {}
      },
      "source": [
        "# Splitting data into train and test sets\n",
        "X_train, X_test, y_train, y_test = train_test_split(X, y, test_size=0.33, stratify=y)"
      ],
      "execution_count": null,
      "outputs": []
    },
    {
      "cell_type": "code",
      "metadata": {
        "id": "k0alb6Y_o7w2",
        "colab_type": "code",
        "colab": {}
      },
      "source": [
        "print(X_train.shape)\n",
        "print(X_test.shape)\n",
        "print(y_train.shape)\n",
        "print(y_test.shape)"
      ],
      "execution_count": null,
      "outputs": []
    },
    {
      "cell_type": "markdown",
      "metadata": {
        "id": "ySST93ix8EeR",
        "colab_type": "text"
      },
      "source": [
        "**Početni model**  \n",
        "Prvi pokušaj rešavanja problema je bila konvolutivna neuronska mreža sa arhitekturom sličnoj onoj prikazanoj na vežbama. Naime, korišćena je neuronska mreža sa propagacijom unapred, gde se dodaju sledeći slojevi:  \n",
        "**1 sloj:** Konvolucioni sloj sa *16* filtera, kernelom veličine *3x3*, uokvirenjem tako da veličina izlazne slike može biti istih dimenzija i *ReLu* aktivacionom funkcijom.    \n",
        "**2 sloj:** Agregacioni sloj koji vrši redukciju slojeva svođenjem blokova zadatih večina na njihove maksimalne vrednosti i veličinom bloka *2x2*.  \n",
        "**3 sloj:** Konvolucioni sloj sa *32* filtera, kernelom veličine *3x3*, uokvirenjem tako da veličina izlazne slike može biti istih dimenzija i *ReLu* aktivacionom funkcijom.    \n",
        "**4 sloj:** Agregacioni sloj koji vrši redukciju slojeva svođenjem blokova zadatih večina na njihove maksimalne vrednosti i veličinom bloka *2x2*.  \n",
        "**5 sloj:** Konvolucioni sloj sa *64* filtera, kernelom veličine *3x3*, uokvirenjem tako da veličina izlazne slike može biti istih dimenzija i *ReLu* aktivacionom funkcijom.  \n",
        "Zatim funkcija koja se koristi za transformisanje matrica u vektore *Flatten*.    \n",
        "**6 sloj:** Potpuno povezan sloj sa brojem izlaznih neurona *1024* i ReLu aktivacionom funkcijom.  \n",
        "Zatim tehnika regularizacije kojom isključujemo nasumično odabrane neurone i omogućavamo drugačiji protok podataka kroz mrežu *Dropout*.\n",
        "**7 sloj:** Potpuno povezan sloj sa brojem izlaznih neurona *30* i *softmax* aktivacionom funkcijom. "
      ]
    },
    {
      "cell_type": "code",
      "metadata": {
        "id": "aumCLaL1pjPL",
        "colab_type": "code",
        "colab": {}
      },
      "source": [
        "# DOBAR MODEL ZA COLOR \n",
        "# Training model\n",
        "model = Sequential()\n",
        "model.add(Conv2D(16, kernel_size=(3, 3), padding='same', activation='relu', input_shape=(50,50,3)))\n",
        "model.add(MaxPooling2D(pool_size=(2, 2)))\n",
        "model.add(Conv2D(32, kernel_size=(3, 3), padding='same', activation='relu'))\n",
        "model.add(MaxPooling2D(pool_size=(2, 2)))\n",
        "model.add(Conv2D(64, kernel_size=(3, 3), padding='same', activation='relu'))\n",
        "model.add(MaxPooling2D(pool_size=(2, 2)))\n",
        "model.add(Flatten())\n",
        "model.add(Dense(1024, activation='relu'))\n",
        "model.add(Dropout(0.5))\n",
        "model.add(Dense(numOfClasses, activation='softmax'))"
      ],
      "execution_count": null,
      "outputs": []
    },
    {
      "cell_type": "code",
      "metadata": {
        "id": "I_vFQths36sb",
        "colab_type": "code",
        "colab": {}
      },
      "source": [
        "# Model summary per layers\n",
        "model.summary()"
      ],
      "execution_count": null,
      "outputs": []
    },
    {
      "cell_type": "markdown",
      "metadata": {
        "id": "cOCSGl504gF_",
        "colab_type": "text"
      },
      "source": [
        "**Mrežu ćemo trenirati prema sledećim smernicama:**  \n",
        "*Funkcija greške*: Kategorička unakrsna entropija  \n",
        "*Optimizator*: Adam sa korakom učenja **0.001**   \n",
        "*Broj epoha*: **12**  \n",
        "*Veličina paketića za treniranje* (engl. batch size): **128**  \n",
        "\n",
        "Za evaluaciju mreže koristimo **preciznost**."
      ]
    },
    {
      "cell_type": "code",
      "metadata": {
        "id": "XLH-PSLY37Lz",
        "colab_type": "code",
        "colab": {}
      },
      "source": [
        "model.compile(loss='categorical_crossentropy', optimizer=optimizers.Adam(learning_rate=0.001), metrics=['accuracy'])"
      ],
      "execution_count": null,
      "outputs": []
    },
    {
      "cell_type": "code",
      "metadata": {
        "id": "Ci9R2-o537aD",
        "colab_type": "code",
        "colab": {}
      },
      "source": [
        "# Train model\n",
        "history = model.fit(X_train, y_train,\n",
        "                    batch_size=128,\n",
        "                    epochs=12,\n",
        "                    verbose=1,\n",
        "                    validation_split=0.2, \n",
        "                    shuffle=True)"
      ],
      "execution_count": null,
      "outputs": []
    },
    {
      "cell_type": "code",
      "metadata": {
        "id": "tMvB1MOEOxVF",
        "colab_type": "code",
        "colab": {}
      },
      "source": [
        "# Plotting loss/accuracy values of train and validation data during training model\n",
        "def plot_loss_accuracy(epochs, history):\n",
        "  plt.figure(figsize=(10, 4))\n",
        "\n",
        "  plt.subplot(1, 2, 1)\n",
        "  plt.title('Loss')\n",
        "  plt.plot(np.arange(0, epochs), history.history['loss'], label='train')\n",
        "  plt.plot(np.arange(0, epochs), history.history['val_loss'], label='val')\n",
        "  plt.legend(loc='best')\n",
        "\n",
        "  plt.subplot(1, 2, 2)\n",
        "  plt.title('Accuracy')\n",
        "  plt.plot(np.arange(0, epochs), history.history['accuracy'], label='train')\n",
        "  plt.plot(np.arange(0, epochs), history.history['val_accuracy'], label='val')\n",
        "  plt.legend(loc='best')"
      ],
      "execution_count": null,
      "outputs": []
    },
    {
      "cell_type": "markdown",
      "metadata": {
        "id": "xcctqhYsO949",
        "colab_type": "text"
      },
      "source": [
        "Na sledećem zajedničkom grafiku je prikazana funkcija gubitka na skupu za treniranje i validaciju, a potom i funkcija preciznosti."
      ]
    },
    {
      "cell_type": "code",
      "metadata": {
        "id": "R-IoL8rjM9IK",
        "colab_type": "code",
        "colab": {}
      },
      "source": [
        "plot_loss_accuracy(12, history)"
      ],
      "execution_count": null,
      "outputs": []
    },
    {
      "cell_type": "code",
      "metadata": {
        "id": "A-gVsg_qO3-p",
        "colab_type": "code",
        "colab": {}
      },
      "source": [
        "def show_classification_report(model, X_test, y_test):\n",
        "  print(classification_report(np.argmax(y_test, axis=1), model.predict_classes(X_test)))"
      ],
      "execution_count": null,
      "outputs": []
    },
    {
      "cell_type": "markdown",
      "metadata": {
        "id": "L53ZSIlMPAI7",
        "colab_type": "text"
      },
      "source": [
        "TODO"
      ]
    },
    {
      "cell_type": "code",
      "metadata": {
        "id": "eHUH3ePbND3J",
        "colab_type": "code",
        "colab": {}
      },
      "source": [
        "show_classification_report(model, X_test, y_test):"
      ],
      "execution_count": null,
      "outputs": []
    },
    {
      "cell_type": "code",
      "metadata": {
        "id": "Q0LtNhuPJrmq",
        "colab_type": "code",
        "colab": {}
      },
      "source": [
        "# Evaluate model\n",
        "score = model.evaluate(X_test, y_test, verbose=0)\n",
        "print('Test loss:', score[0])\n",
        "print('Test accuracy:', score[1])"
      ],
      "execution_count": null,
      "outputs": []
    },
    {
      "cell_type": "markdown",
      "metadata": {
        "id": "H4UK03p14WnA",
        "colab_type": "text"
      },
      "source": [
        "**Model iz naučnog rada**  \n",
        "Sledeći pokušaj rešavanja datog problema je bio uz pomoć pronađenog naučnog rada koji možete pogledati [ovde](https://) .  \n",
        "Iako se skupovi podataka razlikuju, pokušali smo sa predloženim modelom: korišćena je neuronska mreža sa propagacijom unapred, gde se dodaju sledeći slojevi:  \n",
        "**1 sloj:** Konvolucioni sloj sa *16* filtera, kernelom veličine *2x2* i *ReLu* aktivacionom funkcijom.    \n",
        "**2 sloj:** Agregacioni sloj koji vrši redukciju slojeva svođenjem blokova zadatih večina na njihove maksimalne vrednosti, veličinom bloka *2x2*, veličinom pomeraja *2x2* i uokvirenjem tako da veličina izlazne slike može biti istih dimenzija.  \n",
        "**3 sloj:** Konvolucioni sloj sa *32* filtera, kernelom veličine *3x3* i *ReLu* aktivacionom funkcijom.    \n",
        "**4 sloj:** Agregacioni sloj koji vrši redukciju slojeva svođenjem blokova zadatih večina na njihove maksimalne vrednosti, veličinom bloka *3x3*, veličinom pomeraja *3x3* i uokvirenjem tako da veličina izlazne slike može biti istih dimenzija.   \n",
        "**5 sloj:** Konvolucioni sloj sa *64* filtera, kernelom veličine *5x5* i *ReLu* aktivacionom funkcijom.  \n",
        "Zatim funkcija koja se koristi za transformisanje matrica u vektore *Flatten*.    \n",
        "**6 sloj:** Potpuno povezan sloj sa brojem izlaznih neurona *128* i ReLu aktivacionom funkcijom.  \n",
        "Zatim tehnika regularizacije kojom isključujemo nasumično odabrane neurone i omogućavamo drugačiji protok podataka kroz mrežu *Dropout*.\n",
        "**7 sloj:** Potpuno povezan sloj sa brojem izlaznih neurona *30* i *softmax* aktivacionom funkcijom. "
      ]
    },
    {
      "cell_type": "code",
      "metadata": {
        "id": "Yuu1teNtptw7",
        "colab_type": "code",
        "colab": {}
      },
      "source": [
        "# DOBAR MODEL ZA GRAYSCALE\n",
        "# Training model\n",
        "paper_model = Sequential()\n",
        "paper_model.add(Conv2D(16, (2,2), input_shape=(50,50,1), activation='relu'))\n",
        "paper_model.add(MaxPooling2D(pool_size=(2, 2), strides=(2, 2), padding='same'))\n",
        "paper_model.add(Conv2D(32, (3,3), activation='relu'))\n",
        "paper_model.add(MaxPooling2D(pool_size=(3, 3), strides=(3, 3), padding='same'))\n",
        "paper_model.add(Conv2D(64, (5,5), activation='relu'))\n",
        "paper_model.add(MaxPooling2D(pool_size=(5, 5), strides=(5, 5), padding='same'))\n",
        "paper_model.add(Flatten())\n",
        "paper_model.add(Dense(128, activation='relu'))\n",
        "paper_model.add(Dropout(0.2))\n",
        "paper_model.add(Dense(numOfClasses, activation='softmax'))"
      ],
      "execution_count": null,
      "outputs": []
    },
    {
      "cell_type": "code",
      "metadata": {
        "id": "lMnkfO3zpub1",
        "colab_type": "code",
        "colab": {}
      },
      "source": [
        "# Model summary per layers\n",
        "paper_model.summary()"
      ],
      "execution_count": null,
      "outputs": []
    },
    {
      "cell_type": "markdown",
      "metadata": {
        "id": "43SBuO_W2Sg-",
        "colab_type": "text"
      },
      "source": [
        "**Mrežu ćemo trenirati prema sledećim smernicama:**  \n",
        "*Funkcija greške*: Kategorička unakrsna entropija  \n",
        "*Optimizator*: Adam sa korakom učenja **0.001**   \n",
        "*Broj epoha*: **50**  \n",
        "*Veličina paketića za treniranje* (engl. batch size): **500**  \n",
        "\n",
        "Za evaluaciju mreže koristimo **preciznost**.\n"
      ]
    },
    {
      "cell_type": "code",
      "metadata": {
        "id": "g_theT_fp3Wu",
        "colab_type": "code",
        "colab": {}
      },
      "source": [
        "paper_model.compile(loss='categorical_crossentropy', optimizer=optimizers.Adam(learning_rate=0.001), metrics=['accuracy'])"
      ],
      "execution_count": null,
      "outputs": []
    },
    {
      "cell_type": "code",
      "metadata": {
        "id": "4XAYppvJp7AH",
        "colab_type": "code",
        "colab": {}
      },
      "source": [
        "# Train model\n",
        "paper_history = paper_model.fit(X_train, y_train,\n",
        "                    batch_size=500,\n",
        "                    epochs=50,\n",
        "                    verbose=1,\n",
        "                    validation_split=0.2, \n",
        "                    shuffle=True)"
      ],
      "execution_count": null,
      "outputs": []
    },
    {
      "cell_type": "markdown",
      "metadata": {
        "id": "LUCKQEKePHPd",
        "colab_type": "text"
      },
      "source": [
        "*Na sledećem zajedničkom grafiku je prikazana funkcija gubitka na skupu za treniranje i validaciju, a potom i funkcija preciznosti.*"
      ]
    },
    {
      "cell_type": "code",
      "metadata": {
        "id": "ThoWY61PNayM",
        "colab_type": "code",
        "colab": {}
      },
      "source": [
        "plot_loss_accuracy(50, paper_history)"
      ],
      "execution_count": null,
      "outputs": []
    },
    {
      "cell_type": "markdown",
      "metadata": {
        "id": "03yixKaoPInN",
        "colab_type": "text"
      },
      "source": [
        "**TODO**"
      ]
    },
    {
      "cell_type": "code",
      "metadata": {
        "id": "PocJ2jw7NeJ8",
        "colab_type": "code",
        "colab": {}
      },
      "source": [
        "show_classification_report(paper_model, X_test, y_test)"
      ],
      "execution_count": null,
      "outputs": []
    },
    {
      "cell_type": "code",
      "metadata": {
        "id": "5dZonTRYMgE7",
        "colab_type": "code",
        "colab": {}
      },
      "source": [
        "# Evaluate model\n",
        "score = paper_model.evaluate(X_test, y_test, verbose=0)\n",
        "print('Test loss:', score[0])\n",
        "print('Test accuracy:', score[1])"
      ],
      "execution_count": null,
      "outputs": []
    },
    {
      "cell_type": "markdown",
      "metadata": {
        "id": "fXZUrMWKW9e3",
        "colab_type": "text"
      },
      "source": [
        "**VGG16 model**  \n",
        "Sledeći pokušaj rešavanja datog problema je bio uz pomoć arhitekture VGG16 mreže. Korišćena je neuronska mreža sa propagacijom unapred, gde se dodaju sledeći slojevi:  \n",
        "**1 sloj:** Konvolucioni sloj sa *64* filtera, kernelom veličine *3x3*, okvirenjem tako da veličina izlazne slike može biti istih dimenzija i *ReLu* aktivacionom funkcijom.  \n",
        "**2 sloj:** Kao i prvi sloj.  \n",
        "**3 sloj:** Agregacioni sloj koji vrši redukciju slojeva svođenjem blokova zadatih večina na njihove maksimalne vrednosti, veličinom bloka *2x2*, veličinom pomeraja *2x2*.  \n",
        "**4 sloj:** Konvolucioni sloj sa *128* filtera, kernelom veličine *3x3*, okvirenjem tako da veličina izlazne slike može biti istih dimenzija i *ReLu* aktivacionom funkcijom.  \n",
        "**5 sloj:** Kao i četvrti sloj.   \n",
        "**6 sloj:** Kao i treći sloj.     \n",
        "**7 sloj:** Konvolucioni sloj sa *256* filtera, kernelom veličine *3x3*, okvirenjem tako da veličina izlazne slike može biti istih dimenzija i *ReLu* aktivacionom funkcijom.  \n",
        "**8 sloj:** Kao i sedmi sloj.  \n",
        "**9 sloj:** Kao i sedmi sloj.  \n",
        "**10 sloj:** Konvolucioni sloj sa *512* filtera, kernelom veličine *3x3*, okvirenjem tako da veličina izlazne slike može biti istih dimenzija i *ReLu* aktivacionom funkcijom.  \n",
        "**11 sloj:** Kao i deseti sloj.  \n",
        "**12 sloj:** Kao i deseti sloj.\n",
        "**13 sloj:** Kao i treći sloj.  \n",
        "**14 sloj:** Kao i deseti sloj.  \n",
        "**15 sloj:** Kao i deseti sloj.  \n",
        "**16 sloj:** Kao i deseti sloj.  \n",
        "**17 sloj:** Kao i treći sloj.  \n",
        "Zatim funkcija koja se koristi za transformisanje matrica u vektore *Flatten*.  \n",
        "**18 sloj:** Potpuno povezan sloj sa brojem izlaznih neurona *4096* i *ReLu* aktivacionom funkcijom. \n",
        "**19 sloj:** Kao i 18. sloj.  \n",
        "**20 sloj:** Potpuno povezan sloj sa brojem izlaznih neurona *30* i *softmax* aktivacionom funkcijom. \n"
      ]
    },
    {
      "cell_type": "code",
      "metadata": {
        "id": "hFDwLlWkW8yo",
        "colab_type": "code",
        "colab": {}
      },
      "source": [
        "# VGG16 model\n",
        "vgg16_model = Sequential()\n",
        "\n",
        "vgg16_model.add(Conv2D(input_shape=(224,224,3), filters=64, kernel_size=(3,3), padding=\"same\", activation=\"relu\"))\n",
        "vgg16_model.add(Conv2D(filters=64, kernel_size=(3,3), padding=\"same\", activation=\"relu\"))\n",
        "vgg16_model.add(MaxPooling2D(pool_size=(2,2), strides=(2,2)))\n",
        "vgg16_model.add(Conv2D(filters=128, kernel_size=(3,3), padding=\"same\", activation=\"relu\"))\n",
        "vgg16_model.add(Conv2D(filters=128, kernel_size=(3,3), padding=\"same\", activation=\"relu\"))\n",
        "vgg16_model.add(MaxPooling2D(pool_size=(2,2), strides=(2,2)))\n",
        "vgg16_model.add(Conv2D(filters=256, kernel_size=(3,3), padding=\"same\", activation=\"relu\"))\n",
        "vgg16_model.add(Conv2D(filters=256, kernel_size=(3,3), padding=\"same\", activation=\"relu\"))\n",
        "vgg16_model.add(Conv2D(filters=256, kernel_size=(3,3), padding=\"same\", activation=\"relu\"))\n",
        "vgg16_model.add(MaxPooling2D(pool_size=(2,2), strides=(2,2)))\n",
        "vgg16_model.add(Conv2D(filters=512, kernel_size=(3,3), padding=\"same\", activation=\"relu\"))\n",
        "vgg16_model.add(Conv2D(filters=512, kernel_size=(3,3), padding=\"same\", activation=\"relu\"))\n",
        "vgg16_model.add(Conv2D(filters=512, kernel_size=(3,3), padding=\"same\", activation=\"relu\"))\n",
        "vgg16_model.add(MaxPooling2D(pool_size=(2,2), strides=(2,2)))\n",
        "vgg16_model.add(Conv2D(filters=512, kernel_size=(3,3), padding=\"same\", activation=\"relu\"))\n",
        "vgg16_model.add(Conv2D(filters=512, kernel_size=(3,3), padding=\"same\", activation=\"relu\"))\n",
        "vgg16_model.add(Conv2D(filters=512, kernel_size=(3,3), padding=\"same\", activation=\"relu\"))\n",
        "vgg16_model.add(MaxPooling2D(pool_size=(2,2), strides=(2,2)))\n",
        "\n",
        "vgg16_model.add(Flatten())\n",
        "vgg16_model.add(Dense(units=4096, activation=\"relu\"))\n",
        "vgg16_model.add(Dense(units=4096, activation=\"relu\"))\n",
        "vgg16_model.add(Dense(units=numOfClasses, activation=\"softmax\"))"
      ],
      "execution_count": null,
      "outputs": []
    },
    {
      "cell_type": "code",
      "metadata": {
        "id": "nFyRQ8KMZ296",
        "colab_type": "code",
        "colab": {}
      },
      "source": [
        "# Model summary per layers\n",
        "model.summary()"
      ],
      "execution_count": null,
      "outputs": []
    },
    {
      "cell_type": "markdown",
      "metadata": {
        "id": "nJr1es1UaJe3",
        "colab_type": "text"
      },
      "source": [
        "**Mrežu ćemo trenirati prema sledećim smernicama:**  \n",
        "*Funkcija greške*: Kategorička unakrsna entropija  \n",
        "*Optimizator*: Adam sa korakom učenja **0.001**   \n",
        "*Broj epoha*: **100**  \n",
        "*Veličina paketića za treniranje* (engl. batch size): **128**  \n",
        "\n",
        "Za evaluaciju mreže koristimo **preciznost**."
      ]
    },
    {
      "cell_type": "code",
      "metadata": {
        "id": "lrSNem6yaJrp",
        "colab_type": "code",
        "colab": {}
      },
      "source": [
        "vgg16_model.compile(loss='categorical_crossentropy', optimizer=optimizers.Adam(learning_rate=0.001), metrics=['accuracy'])"
      ],
      "execution_count": null,
      "outputs": []
    },
    {
      "cell_type": "code",
      "metadata": {
        "id": "GiEIFhPkaRhg",
        "colab_type": "code",
        "colab": {}
      },
      "source": [
        "history = model.fit(X_train, y_train,\n",
        "                    batch_size=128,\n",
        "                    epochs=100,\n",
        "                    verbose=1,\n",
        "                    validation_split=0.2, \n",
        "                    shuffle=True)"
      ],
      "execution_count": null,
      "outputs": []
    },
    {
      "cell_type": "markdown",
      "metadata": {
        "id": "AWMQuu4dajyW",
        "colab_type": "text"
      },
      "source": [
        "*Na sledećem zajedničkom grafiku je prikazana funkcija gubitka na skupu za treniranje i validaciju, a potom i funkcija preciznosti.*"
      ]
    },
    {
      "cell_type": "code",
      "metadata": {
        "id": "KQ_aBdqMai--",
        "colab_type": "code",
        "colab": {}
      },
      "source": [
        "plot_loss_accuracy(100, history)"
      ],
      "execution_count": null,
      "outputs": []
    },
    {
      "cell_type": "markdown",
      "metadata": {
        "id": "qKxyINCnar1J",
        "colab_type": "text"
      },
      "source": [
        "**TODO**"
      ]
    },
    {
      "cell_type": "code",
      "metadata": {
        "id": "Obx9gj76at5S",
        "colab_type": "code",
        "colab": {}
      },
      "source": [
        "show_classification_report(vgg16_model, X_test, y_test)"
      ],
      "execution_count": null,
      "outputs": []
    },
    {
      "cell_type": "code",
      "metadata": {
        "id": "eJBL411jaxY1",
        "colab_type": "code",
        "colab": {}
      },
      "source": [
        "# Evaluate model\n",
        "score = model.evaluate(X_test, y_test, verbose=0)\n",
        "print('Test loss:', score[0])\n",
        "print('Test accuracy:', score[1])"
      ],
      "execution_count": null,
      "outputs": []
    }
  ]
}