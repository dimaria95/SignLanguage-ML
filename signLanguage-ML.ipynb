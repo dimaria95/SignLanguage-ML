{
 "cells": [
  {
   "cell_type": "code",
   "execution_count": 4,
   "metadata": {},
   "outputs": [],
   "source": [
    "import os\n",
    "import matplotlib.pyplot as plt\n",
    "import cv2\n",
    "import numpy as np\n",
    "from skimage.transform import resize\n",
    "from sklearn.model_selection import train_test_split\n",
    "from tqdm import tqdm\n",
    "\n",
    "from keras.utils.np_utils import to_categorical\n",
    "from keras.models import Sequential\n",
    "from keras.layers import Dense, Dropout, Flatten\n",
    "from keras.layers import Conv2D, MaxPooling2D\n",
    "from keras import optimizers\n",
    "from keras import utils"
   ]
  },
  {
   "cell_type": "markdown",
   "metadata": {},
   "source": [
    "### Extracting and preprocessing data"
   ]
  },
  {
   "cell_type": "code",
   "execution_count": 5,
   "metadata": {
    "scrolled": true
   },
   "outputs": [],
   "source": [
    "# Input test and train data\n",
    "\n",
    "trainFolder = \"../input/asl-alphabet/asl_alphabet_train/\"\n",
    "testFolder =  \"../input/asl-alphabet/asl_alphabet_test/\"\n",
    "\n",
    "# Converst letter to number\n",
    "def letterToNumber(letter):\n",
    "    if(len(letter) == 1):\n",
    "        letterNum = ord(letter.lower()) - 97\n",
    "    elif(letter == 'del'):\n",
    "        letterNum = 26\n",
    "    elif(letter == 'nothing'):\n",
    "        letterNum = 27\n",
    "    elif(letter == 'space'):\n",
    "        letterNum = 28\n",
    "    else:\n",
    "        letterNum = 29\n",
    "    return letterNum\n",
    "    \n",
    "# Normalizes the image file and resizes it\n",
    "def processImageFile(imageFile, isInColor):\n",
    "    # When the picture is downsized - anti_aliasing is suggested\n",
    "    if isInColor == 0:\n",
    "        color = 1\n",
    "    else:\n",
    "        color = 3\n",
    "    resizedImage = resize(imageFile, (50, 50, color), anti_aliasing=True)\n",
    "    return np.asarray(resizedImage)\n",
    "\n",
    "# Extracts the data\n",
    "def extractData(file, isInColor = 0):\n",
    "    X = []\n",
    "    y = []\n",
    "    for folderName in os.listdir(file):\n",
    "        if not folderName.startswith('.'):\n",
    "            classLetter = folderName\n",
    "            classNum = letterToNumber(classLetter)\n",
    "            fullFolderName = file+folderName\n",
    "            listOfImages = os.listdir(fullFolderName)\n",
    "            for imageName in tqdm(listOfImages[0:1000]):\n",
    "                fullImageName = fullFolderName + \"/\" + imageName\n",
    "                imageFile = cv2.imread(fullImageName, isInColor)\n",
    "                resizedImage = processImageFile(imageFile, isInColor)            \n",
    "                X.append(resizedImage)\n",
    "                y.append(classNum)\n",
    "    X = np.asarray(X)\n",
    "    y = np.asarray(y)\n",
    "    return X,y"
   ]
  },
  {
   "cell_type": "code",
   "execution_count": 11,
   "metadata": {},
   "outputs": [
    {
     "name": "stderr",
     "output_type": "stream",
     "text": [
      "100%|██████████| 1000/1000 [00:02<00:00, 419.33it/s]\n",
      "100%|██████████| 1000/1000 [00:02<00:00, 453.65it/s]\n",
      "100%|██████████| 1000/1000 [00:02<00:00, 464.34it/s]\n",
      "100%|██████████| 1000/1000 [00:02<00:00, 495.83it/s]\n",
      "100%|██████████| 1000/1000 [00:02<00:00, 498.05it/s]\n",
      "100%|██████████| 1000/1000 [00:02<00:00, 427.63it/s]\n",
      "100%|██████████| 1000/1000 [00:03<00:00, 270.43it/s]\n",
      "100%|██████████| 1000/1000 [00:03<00:00, 273.59it/s]\n",
      "100%|██████████| 1000/1000 [00:03<00:00, 274.78it/s]\n",
      "100%|██████████| 1000/1000 [00:03<00:00, 272.84it/s]\n",
      "100%|██████████| 1000/1000 [00:03<00:00, 274.90it/s]\n",
      "100%|██████████| 1000/1000 [00:03<00:00, 274.30it/s]\n",
      "100%|██████████| 1000/1000 [00:03<00:00, 267.39it/s]\n",
      "100%|██████████| 1000/1000 [00:03<00:00, 300.10it/s]\n",
      "100%|██████████| 1000/1000 [00:03<00:00, 278.16it/s]\n",
      "100%|██████████| 1000/1000 [00:03<00:00, 289.07it/s]\n",
      "100%|██████████| 1000/1000 [00:03<00:00, 286.87it/s]\n",
      "100%|██████████| 1000/1000 [00:03<00:00, 280.75it/s]\n",
      "100%|██████████| 1000/1000 [00:03<00:00, 276.79it/s]\n",
      "100%|██████████| 1000/1000 [00:03<00:00, 277.57it/s]\n",
      "100%|██████████| 1000/1000 [00:03<00:00, 282.76it/s]\n",
      "100%|██████████| 1000/1000 [00:03<00:00, 282.20it/s]\n",
      "100%|██████████| 1000/1000 [00:03<00:00, 272.06it/s]\n",
      "100%|██████████| 1000/1000 [00:03<00:00, 284.58it/s]\n",
      "100%|██████████| 1000/1000 [00:03<00:00, 288.47it/s]\n",
      "100%|██████████| 1000/1000 [00:03<00:00, 284.01it/s]\n",
      "100%|██████████| 1000/1000 [00:03<00:00, 290.05it/s]\n",
      "100%|██████████| 1000/1000 [00:03<00:00, 321.64it/s]\n",
      "100%|██████████| 1000/1000 [00:02<00:00, 495.82it/s]\n"
     ]
    }
   ],
   "source": [
    "# Extract the data\n",
    "X, y = extractData(trainFolder)"
   ]
  },
  {
   "cell_type": "markdown",
   "metadata": {},
   "source": [
    "### Saving preprocessed data"
   ]
  },
  {
   "cell_type": "code",
   "execution_count": 3,
   "metadata": {},
   "outputs": [
    {
     "ename": "NameError",
     "evalue": "name 'X' is not defined",
     "output_type": "error",
     "traceback": [
      "\u001b[0;31m---------------------------------------------------------------------------\u001b[0m",
      "\u001b[0;31mNameError\u001b[0m                                 Traceback (most recent call last)",
      "\u001b[0;32m<ipython-input-3-2681b085aec5>\u001b[0m in \u001b[0;36m<module>\u001b[0;34m\u001b[0m\n\u001b[0;32m----> 1\u001b[0;31m \u001b[0mnp\u001b[0m\u001b[0;34m.\u001b[0m\u001b[0msave\u001b[0m\u001b[0;34m(\u001b[0m\u001b[0;34m\"../data/XData\"\u001b[0m\u001b[0;34m,\u001b[0m \u001b[0mX\u001b[0m\u001b[0;34m)\u001b[0m\u001b[0;34m\u001b[0m\u001b[0;34m\u001b[0m\u001b[0m\n\u001b[0m\u001b[1;32m      2\u001b[0m \u001b[0mprint\u001b[0m\u001b[0;34m(\u001b[0m\u001b[0;34m\"XData saved\"\u001b[0m\u001b[0;34m)\u001b[0m\u001b[0;34m\u001b[0m\u001b[0;34m\u001b[0m\u001b[0m\n\u001b[1;32m      3\u001b[0m \u001b[0mnp\u001b[0m\u001b[0;34m.\u001b[0m\u001b[0msave\u001b[0m\u001b[0;34m(\u001b[0m\u001b[0;34m\"../data/yData\"\u001b[0m\u001b[0;34m,\u001b[0m \u001b[0my\u001b[0m\u001b[0;34m)\u001b[0m\u001b[0;34m\u001b[0m\u001b[0;34m\u001b[0m\u001b[0m\n\u001b[1;32m      4\u001b[0m \u001b[0mprint\u001b[0m\u001b[0;34m(\u001b[0m\u001b[0;34m\"yData saved\"\u001b[0m\u001b[0;34m)\u001b[0m\u001b[0;34m\u001b[0m\u001b[0;34m\u001b[0m\u001b[0m\n",
      "\u001b[0;31mNameError\u001b[0m: name 'X' is not defined"
     ]
    }
   ],
   "source": [
    "np.save(\"../data/XData\", X)\n",
    "print(\"XData saved\")\n",
    "np.save(\"../data/yData\", y)\n",
    "print(\"yData saved\")"
   ]
  },
  {
   "cell_type": "markdown",
   "metadata": {},
   "source": [
    "### Data preview"
   ]
  },
  {
   "cell_type": "code",
   "execution_count": 10,
   "metadata": {
    "scrolled": true
   },
   "outputs": [
    {
     "name": "stdout",
     "output_type": "stream",
     "text": [
      "(50, 50, 3)\n"
     ]
    },
    {
     "data": {
      "image/png": "[encoded data removed]",
      "text/plain": [
       "<Figure size 432x288 with 1 Axes>"
      ]
     },
     "metadata": {
      "needs_background": "light"
     },
     "output_type": "display_data"
    }
   ],
   "source": [
    "isInColor = 1\n",
    "\n",
    "testImage = cv2.imread(\"../input/asl-alphabet/asl_alphabet_train/A/A1.jpg\", isInColor)\n",
    "resizedTestImage = processImageFile(testImage, isInColor)\n",
    "print(resizedTestImage.shape)\n",
    "plt.imshow(resizedTestImage, cmap='gray')\n",
    "plt.show()"
   ]
  },
  {
   "cell_type": "markdown",
   "metadata": {},
   "source": [
    "### Loading preprocessed data"
   ]
  },
  {
   "cell_type": "code",
   "execution_count": 20,
   "metadata": {},
   "outputs": [],
   "source": [
    "X = np.load('../data/XData.npy')\n",
    "y = np.load('../data/yData.npy')"
   ]
  },
  {
   "cell_type": "code",
   "execution_count": 12,
   "metadata": {},
   "outputs": [
    {
     "name": "stdout",
     "output_type": "stream",
     "text": [
      "(29000, 50, 50, 1)\n",
      "(29000,)\n"
     ]
    }
   ],
   "source": [
    "print(X.shape)\n",
    "print(y.shape)"
   ]
  },
  {
   "cell_type": "markdown",
   "metadata": {},
   "source": [
    "### Preprocess target variable"
   ]
  },
  {
   "cell_type": "code",
   "execution_count": 13,
   "metadata": {},
   "outputs": [],
   "source": [
    "# One hot encoding of target variable\n",
    "\n",
    "numOfClasses = 30\n",
    "y = to_categorical(y, numOfClasses)"
   ]
  },
  {
   "cell_type": "markdown",
   "metadata": {},
   "source": [
    "### Splitting data"
   ]
  },
  {
   "cell_type": "code",
   "execution_count": 14,
   "metadata": {},
   "outputs": [],
   "source": [
    "# Splitting data into train and test datasets\n",
    "\n",
    "X_train, X_test, y_train, y_test = train_test_split(X, y, test_size=0.33, stratify=y)"
   ]
  },
  {
   "cell_type": "markdown",
   "metadata": {},
   "source": [
    "### Saving test and training datasets"
   ]
  },
  {
   "cell_type": "code",
   "execution_count": 24,
   "metadata": {},
   "outputs": [
    {
     "name": "stdout",
     "output_type": "stream",
     "text": [
      "X saved\n",
      "Y saved\n"
     ]
    }
   ],
   "source": [
    "np.save(\"../data/Xtrain\", X_train)\n",
    "np.save(\"../data/Xtest\", X_test)\n",
    "print(\"X saved\")\n",
    "np.save(\"../data/Ytrain\", y_train)\n",
    "np.save(\"../data/Ytest\", y_test)\n",
    "print(\"Y saved\")"
   ]
  },
  {
   "cell_type": "markdown",
   "metadata": {},
   "source": [
    "### Loading test and training datasets"
   ]
  },
  {
   "cell_type": "code",
   "execution_count": 25,
   "metadata": {},
   "outputs": [
    {
     "name": "stdout",
     "output_type": "stream",
     "text": [
      "X loaded\n",
      "Y loaded\n"
     ]
    }
   ],
   "source": [
    "X_train = np.load(\"../data/Xtrain.npy\")\n",
    "X_test = np.load(\"../data/Xtest.npy\")\n",
    "print(\"X loaded\")\n",
    "y_train = np.load(\"../data/Ytrain.npy\")\n",
    "y_test = np.load(\"../data/Ytest.npy\")\n",
    "print(\"Y loaded\")"
   ]
  },
  {
   "cell_type": "code",
   "execution_count": 26,
   "metadata": {},
   "outputs": [
    {
     "name": "stdout",
     "output_type": "stream",
     "text": [
      "(19430, 50, 50, 3)\n",
      "(9570, 50, 50, 3)\n",
      "(19430, 30)\n",
      "(9570, 30)\n"
     ]
    }
   ],
   "source": [
    "print(X_train.shape)\n",
    "print(X_test.shape)\n",
    "print(y_train.shape)\n",
    "print(y_test.shape)"
   ]
  },
  {
   "cell_type": "markdown",
   "metadata": {},
   "source": [
    "### Model making"
   ]
  },
  {
   "cell_type": "code",
   "execution_count": 32,
   "metadata": {},
   "outputs": [],
   "source": [
    "# DOBAR MODEL ZA COLOR \n",
    "model = Sequential()\n",
    "model.add(Conv2D(16, kernel_size=(3, 3), padding='same', activation='relu', input_shape=(50,50,3)))\n",
    "model.add(MaxPooling2D(pool_size=(2, 2)))\n",
    "model.add(Conv2D(32, kernel_size=(3, 3), padding='same', activation='relu'))\n",
    "model.add(MaxPooling2D(pool_size=(2, 2)))\n",
    "model.add(Conv2D(64, kernel_size=(3, 3), padding='same', activation='relu'))\n",
    "model.add(MaxPooling2D(pool_size=(2, 2)))\n",
    "model.add(Flatten())\n",
    "model.add(Dense(1024, activation='relu'))\n",
    "model.add(Dropout(0.5))\n",
    "model.add(Dense(numOfClasses, activation='softmax'))"
   ]
  },
  {
   "cell_type": "code",
   "execution_count": 15,
   "metadata": {},
   "outputs": [],
   "source": [
    "# DOBAR MODEL ZA GRAYSCALE\n",
    "model = Sequential()\n",
    "model.add(Conv2D(16, (2,2), input_shape=(50,50,1), activation='relu'))\n",
    "model.add(MaxPooling2D(pool_size=(2, 2), strides=(2, 2), padding='same'))\n",
    "model.add(Conv2D(32, (3,3), activation='relu'))\n",
    "model.add(MaxPooling2D(pool_size=(3, 3), strides=(3, 3), padding='same'))\n",
    "model.add(Conv2D(64, (5,5), activation='relu'))\n",
    "model.add(MaxPooling2D(pool_size=(5, 5), strides=(5, 5), padding='same'))\n",
    "model.add(Flatten())\n",
    "model.add(Dense(128, activation='relu'))\n",
    "model.add(Dropout(0.2))\n",
    "model.add(Dense(numOfClasses, activation='softmax'))"
   ]
  },
  {
   "cell_type": "code",
   "execution_count": 16,
   "metadata": {},
   "outputs": [
    {
     "name": "stdout",
     "output_type": "stream",
     "text": [
      "Model: \"sequential_1\"\n",
      "_________________________________________________________________\n",
      "Layer (type)                 Output Shape              Param #   \n",
      "=================================================================\n",
      "conv2d_1 (Conv2D)            (None, 49, 49, 16)        80        \n",
      "_________________________________________________________________\n",
      "max_pooling2d_1 (MaxPooling2 (None, 25, 25, 16)        0         \n",
      "_________________________________________________________________\n",
      "conv2d_2 (Conv2D)            (None, 23, 23, 32)        4640      \n",
      "_________________________________________________________________\n",
      "max_pooling2d_2 (MaxPooling2 (None, 8, 8, 32)          0         \n",
      "_________________________________________________________________\n",
      "conv2d_3 (Conv2D)            (None, 4, 4, 64)          51264     \n",
      "_________________________________________________________________\n",
      "max_pooling2d_3 (MaxPooling2 (None, 1, 1, 64)          0         \n",
      "_________________________________________________________________\n",
      "flatten_1 (Flatten)          (None, 64)                0         \n",
      "_________________________________________________________________\n",
      "dense_1 (Dense)              (None, 128)               8320      \n",
      "_________________________________________________________________\n",
      "dropout_1 (Dropout)          (None, 128)               0         \n",
      "_________________________________________________________________\n",
      "dense_2 (Dense)              (None, 30)                3870      \n",
      "=================================================================\n",
      "Total params: 68,174\n",
      "Trainable params: 68,174\n",
      "Non-trainable params: 0\n",
      "_________________________________________________________________\n"
     ]
    }
   ],
   "source": [
    "model.summary()"
   ]
  },
  {
   "cell_type": "code",
   "execution_count": 17,
   "metadata": {},
   "outputs": [],
   "source": [
    "model.compile(loss='categorical_crossentropy', optimizer=optimizers.Adam(learning_rate=0.001), metrics=['accuracy'])"
   ]
  },
  {
   "cell_type": "code",
   "execution_count": 18,
   "metadata": {},
   "outputs": [],
   "source": [
    "batch_size = 128\n",
    "epochs = 12"
   ]
  },
  {
   "cell_type": "code",
   "execution_count": 19,
   "metadata": {},
   "outputs": [
    {
     "name": "stdout",
     "output_type": "stream",
     "text": [
      "Train on 15544 samples, validate on 3886 samples\n",
      "Epoch 1/12\n",
      "15544/15544 [==============================] - 12s 741us/step - loss: 3.1725 - accuracy: 0.1020 - val_loss: 2.5456 - val_accuracy: 0.3052\n",
      "Epoch 2/12\n",
      "15544/15544 [==============================] - 10s 625us/step - loss: 2.1350 - accuracy: 0.3385 - val_loss: 1.6530 - val_accuracy: 0.5077\n",
      "Epoch 3/12\n",
      "15544/15544 [==============================] - 9s 603us/step - loss: 1.5660 - accuracy: 0.4995 - val_loss: 1.2936 - val_accuracy: 0.6130\n",
      "Epoch 4/12\n",
      "15544/15544 [==============================] - 9s 605us/step - loss: 1.2566 - accuracy: 0.5920 - val_loss: 1.0127 - val_accuracy: 0.6861\n",
      "Epoch 5/12\n",
      "15544/15544 [==============================] - 10s 613us/step - loss: 1.0398 - accuracy: 0.6575 - val_loss: 0.8548 - val_accuracy: 0.7385\n",
      "Epoch 6/12\n",
      "15544/15544 [==============================] - 9s 606us/step - loss: 0.8811 - accuracy: 0.7086 - val_loss: 0.7283 - val_accuracy: 0.7738\n",
      "Epoch 7/12\n",
      "15544/15544 [==============================] - 9s 607us/step - loss: 0.7627 - accuracy: 0.7461 - val_loss: 0.6381 - val_accuracy: 0.7977\n",
      "Epoch 8/12\n",
      "15544/15544 [==============================] - 9s 608us/step - loss: 0.6729 - accuracy: 0.7730 - val_loss: 0.5572 - val_accuracy: 0.8312\n",
      "Epoch 9/12\n",
      "15544/15544 [==============================] - 10s 615us/step - loss: 0.6058 - accuracy: 0.7979 - val_loss: 0.4874 - val_accuracy: 0.8510\n",
      "Epoch 10/12\n",
      "15544/15544 [==============================] - 10s 623us/step - loss: 0.5384 - accuracy: 0.8155 - val_loss: 0.4613 - val_accuracy: 0.8479\n",
      "Epoch 11/12\n",
      "15544/15544 [==============================] - 10s 620us/step - loss: 0.4821 - accuracy: 0.8372 - val_loss: 0.4205 - val_accuracy: 0.8677\n",
      "Epoch 12/12\n",
      "15544/15544 [==============================] - 10s 621us/step - loss: 0.4440 - accuracy: 0.8486 - val_loss: 0.3684 - val_accuracy: 0.8814\n"
     ]
    }
   ],
   "source": [
    "history = model.fit(X_train, y_train,\n",
    "                    batch_size=batch_size,\n",
    "                    epochs=epochs,\n",
    "                    verbose=1,\n",
    "                    validation_split=0.2)"
   ]
  },
  {
   "cell_type": "code",
   "execution_count": 20,
   "metadata": {},
   "outputs": [
    {
     "data": {
      "text/plain": [
       "<matplotlib.legend.Legend at 0x1a4a263110>"
      ]
     },
     "execution_count": 20,
     "metadata": {},
     "output_type": "execute_result"
    },
    {
     "data": {
      "image/png": "[encoded data removed]",
      "text/plain": [
       "<Figure size 720x288 with 2 Axes>"
      ]
     },
     "metadata": {
      "needs_background": "light"
     },
     "output_type": "display_data"
    }
   ],
   "source": [
    "plt.figure(figsize=(10, 4))\n",
    "\n",
    "plt.subplot(1, 2, 1)\n",
    "plt.title('Loss')\n",
    "plt.plot(np.arange(0, epochs), history.history['loss'], label='train')\n",
    "plt.plot(np.arange(0, epochs), history.history['val_loss'], label='val')\n",
    "plt.legend(loc='best')\n",
    "\n",
    "plt.subplot(1, 2, 2)\n",
    "plt.title('Accuracy')\n",
    "plt.plot(np.arange(0, epochs), history.history['accuracy'], label='train')\n",
    "plt.plot(np.arange(0, epochs), history.history['val_accuracy'], label='val')\n",
    "plt.legend(loc='best')"
   ]
  },
  {
   "cell_type": "code",
   "execution_count": 42,
   "metadata": {},
   "outputs": [
    {
     "name": "stdout",
     "output_type": "stream",
     "text": [
      "Test loss: 0.38243367225699\n",
      "Test accuracy: 0.8917450308799744\n"
     ]
    }
   ],
   "source": [
    "score = model.evaluate(X_test, y_test, verbose=0)\n",
    "print('Test loss:', score[0])\n",
    "print('Test accuracy:', score[1])"
   ]
  },
  {
   "cell_type": "code",
   "execution_count": 60,
   "metadata": {},
   "outputs": [
    {
     "data": {
      "image/png": "[encoded data removed]",
      "text/plain": [
       "<Figure size 432x288 with 1 Axes>"
      ]
     },
     "metadata": {
      "needs_background": "light"
     },
     "output_type": "display_data"
    }
   ],
   "source": [
    "testImage = cv2.imread(\"../input/asl-alphabet/asl_alphabet_test/G_test.jpg\")\n",
    "resizedTestImage = processImageFile(testImage)\n",
    "plt.imshow(resizedTestImage, cmap='gray')\n",
    "plt.show()"
   ]
  },
  {
   "cell_type": "code",
   "execution_count": 61,
   "metadata": {},
   "outputs": [],
   "source": [
    "y_predicted = model.predict(np.array([resizedTestImage]))\n",
    "y_predicted_class = np.argmax(y_predicted, axis = 1) "
   ]
  },
  {
   "cell_type": "code",
   "execution_count": 62,
   "metadata": {},
   "outputs": [
    {
     "data": {
      "text/plain": [
       "6"
      ]
     },
     "execution_count": 62,
     "metadata": {},
     "output_type": "execute_result"
    }
   ],
   "source": [
    "y_predicted_class[0]"
   ]
  },
  {
   "cell_type": "code",
   "execution_count": null,
   "metadata": {},
   "outputs": [],
   "source": []
  },
  {
   "cell_type": "code",
   "execution_count": null,
   "metadata": {},
   "outputs": [],
   "source": []
  },
  {
   "cell_type": "code",
   "execution_count": null,
   "metadata": {},
   "outputs": [],
   "source": []
  }
 ],
 "metadata": {
  "kernelspec": {
   "display_name": "Python 3",
   "language": "python",
   "name": "python3"
  },
  "language_info": {
   "codemirror_mode": {
    "name": "ipython",
    "version": 3
   },
   "file_extension": ".py",
   "mimetype": "text/x-python",
   "name": "python",
   "nbconvert_exporter": "python",
   "pygments_lexer": "ipython3",
   "version": "3.7.7"
  }
 },
 "nbformat": 4,
 "nbformat_minor": 4
}
